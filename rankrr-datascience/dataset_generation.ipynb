{
 "cells": [
  {
   "cell_type": "code",
   "execution_count": 3,
   "id": "90c62e16",
   "metadata": {
    "ExecuteTime": {
     "start_time": "2023-04-06T16:16:12.116412Z",
     "end_time": "2023-04-06T16:16:12.123975Z"
    }
   },
   "outputs": [],
   "source": []
  },
  {
   "cell_type": "code",
   "execution_count": 12,
   "outputs": [],
   "source": [
    "import numpy as np\n",
    "import random\n",
    "import pandas as pd\n",
    "\n",
    "words = [\n",
    "    \"like\",\n",
    "    \"beautiful\",\n",
    "    \"love\",\n",
    "    \"cool\",\n",
    "    \"pretty\",\n",
    "    \"nice\",\n",
    "    \"bad\",\n",
    "    \"shit\",\n",
    "    \"fuck\",\n",
    "    \"nasty\",\n",
    "    \"slow\",\n",
    "    \"boring\",\n",
    "    \"hot\",\n",
    "    \"good\",\n",
    "    \"great\",\n",
    "    \"smooth\",\n",
    "    \"delicious\",\n",
    "    \"amazing\",\n",
    "    \"sweet\",\n",
    "    \"fun\",\n",
    "    \"wow\",\n",
    "    \"super\",\n",
    "    \"tasty\",\n",
    "    \"awesome\",\n",
    "    \"perfect\",\n",
    "    \"excellent\",\n",
    "    \"hot\",\n",
    "    \"cute\",\n",
    "    \"happy\",\n",
    "    \"yes\",\n",
    "    \"huge\",\n",
    "    \"sexy\",\n",
    "    \"okay\",\n",
    "    \"waste\",\n",
    "    \"worse\",\n",
    "    \"horrible\",\n",
    "    \"yummy\",\n",
    "    \"woo\",\n",
    "    \"way\",\n",
    "    \"so\",\n",
    "    \"ugh\",\n",
    "    \"really\",\n",
    "    \"huge\",\n",
    "    \"very\",\n",
    "    \"too\",\n",
    "    \"no\",\n",
    "    \"all\",\n",
    "    \"just\",\n",
    "    \"nothing\",\n",
    "    \"but\",\n",
    "    \"better\",\n",
    "    \"need\",\n",
    "    \"it\",\n",
    "    \"thanks\"\n",
    "]\n",
    "# sort words in alphabetical order\n",
    "\n",
    "dataset = []"
   ],
   "metadata": {
    "collapsed": false,
    "ExecuteTime": {
     "start_time": "2023-04-23T22:47:34.315618Z",
     "end_time": "2023-04-23T22:47:34.320621Z"
    }
   }
  },
  {
   "cell_type": "markdown",
   "source": [],
   "metadata": {
    "collapsed": false
   }
  },
  {
   "cell_type": "code",
   "execution_count": 13,
   "outputs": [],
   "source": [
    "for word in words:\n",
    "\n",
    "    for num in range(1000000):\n",
    "\n",
    "        new_word = \"\"\n",
    "\n",
    "        repeat_letter_index = random.randint(0, len(word)-1)\n",
    "\n",
    "        repeat_letter = word[repeat_letter_index]\n",
    "\n",
    "        repeat_count = random.randint(2, 15)\n",
    "\n",
    "        for x in range(0, len(word)):\n",
    "            if x == repeat_letter_index:\n",
    "                new_word += repeat_letter * repeat_count\n",
    "            else:\n",
    "                new_word += word[x]\n",
    "\n",
    "        dataset.append({\"emphasized\": new_word, \"actual\": word})"
   ],
   "metadata": {
    "collapsed": false,
    "ExecuteTime": {
     "start_time": "2023-04-23T22:47:36.085207Z",
     "end_time": "2023-04-23T22:51:56.018265Z"
    }
   }
  },
  {
   "cell_type": "code",
   "execution_count": 14,
   "outputs": [],
   "source": [
    "df = pd.DataFrame.from_dict(dataset)\n",
    "df = df.drop_duplicates(subset=['emphasized'])\n",
    "df.to_csv(\"repeated_letters_words_v9.csv\")"
   ],
   "metadata": {
    "collapsed": false,
    "ExecuteTime": {
     "start_time": "2023-04-23T22:52:29.267498Z",
     "end_time": "2023-04-23T22:56:37.559419Z"
    }
   }
  },
  {
   "cell_type": "code",
   "execution_count": 11,
   "outputs": [
    {
     "data": {
      "text/plain": "{'likkkkkkkkkkkkkke': 1,\n 'okkkkkkkay': 1,\n 'ooooookay': 1,\n 'ooooooookay': 1,\n 'okaaaay': 1,\n 'okayyyy': 1,\n 'okaaaaaaaaaaaaaaay': 1,\n 'ooooooooooooookay': 1,\n 'okkkkkkkkkkay': 1,\n 'okaaaaaay': 1,\n 'okkkkkkkkkkkkkay': 1,\n 'okkkkkay': 1,\n 'okayyyyyyyyyyyy': 1,\n 'okkkkkkkkay': 1,\n 'ooooooooookay': 1,\n 'okkkkkkkkkay': 1,\n 'okaaaaaaay': 1,\n 'okkkkkkkkkkkkay': 1,\n 'okayyyyyyyyyy': 1,\n 'oooooooooookay': 1,\n 'okkkkay': 1,\n 'okkay': 1,\n 'okayyyyy': 1,\n 'okaaaaaaaaaaaaay': 1,\n 'okaaaaay': 1,\n 'ookay': 1,\n 'okayyyyyy': 1,\n 'okkkkkkkkkkkay': 1,\n 'okayyyyyyy': 1,\n 'okayyyyyyyyyyyyyyy': 1,\n 'okayyyyyyyy': 1,\n 'ooooooooooookay': 1,\n 'okkkkkkkkkkkkkkay': 1,\n 'okkkay': 1,\n 'oooooooooooookay': 1,\n 'okaaaaaaaaay': 1,\n 'oooooooookay': 1,\n 'okayyyyyyyyy': 1,\n 'okaaaaaaaaaaaaaay': 1,\n 'okaay': 1,\n 'oooookay': 1,\n 'okaaaaaaaaaaaay': 1,\n 'ooookay': 1,\n 'okkkkkkkkkkkkkkkay': 1,\n 'okaaaaaaaay': 1,\n 'okayyyyyyyyyyy': 1,\n 'okaaaaaaaaaaay': 1,\n 'okkkkkkay': 1,\n 'oooooookay': 1,\n 'okaaaaaaaaaay': 1,\n 'okayyyyyyyyyyyyy': 1,\n 'wasteeeeeeeeeeee': 1,\n 'wastttttttttte': 1,\n 'wastttttttte': 1,\n 'wasteeeeeeeeeee': 1,\n 'wasteeeeeeeeeeeee': 1,\n 'wasteeeeeeeeee': 1,\n 'wwwwwwwwwwwwaste': 1,\n 'wasteeeeee': 1,\n 'wassssssssssste': 1,\n 'wasteeee': 1,\n 'wasttttttttttttte': 1,\n 'wasttttttttte': 1,\n 'waaaaaaaaaaaaaaste': 1,\n 'wasteeeee': 1,\n 'wasteeeeeee': 1,\n 'wasssssssssssste': 1,\n 'wassssste': 1,\n 'wassssssssste': 1,\n 'waaaste': 1,\n 'waaaaaaaaaaaaste': 1,\n 'waaaaaste': 1,\n 'waaaaaaaaste': 1,\n 'wwwaste': 1,\n 'wwwwwwwwwwwwwaste': 1,\n 'wasssssssssste': 1,\n 'wwwwwwwwwwaste': 1,\n 'wasssssssste': 1,\n 'wasste': 1,\n 'wasteee': 1,\n 'wastttte': 1,\n 'wasttttte': 1,\n 'wastttttttttttttte': 1,\n 'wwwwwwwaste': 1,\n 'wasssssste': 1,\n 'wastte': 1,\n 'wwwwwwaste': 1,\n 'wasttte': 1,\n 'wwaste': 1,\n 'wassssssssssssste': 1,\n 'waaaaaaaaaste': 1,\n 'wasttttttttttttttte': 1,\n 'wasteeeeeeeee': 1,\n 'wwwwwwwwwwwaste': 1,\n 'wwwwwwwwwwwwwwwaste': 1,\n 'wasteeeeeeeeeeeeeee': 1,\n 'wastee': 1,\n 'okayyy': 1,\n 'okayyyyyyyyyyyyyy': 1,\n 'wwwwwaste': 1,\n 'hhhhhhhhhhuge': 1,\n 'hhhuge': 1,\n 'hhhhhhhuge': 1,\n 'huuuuuuge': 1,\n 'hugggge': 1,\n 'huuuuuuuuuge': 1,\n 'hugeeeeeeeeeeee': 1,\n 'hugeeee': 1,\n 'hugeeeeee': 1,\n 'hugeeeeeeeee': 1,\n 'huuuuuuuuuuuuuuuge': 1,\n 'hhhhhhhhhhhhhhhuge': 1,\n 'seeeeeeeeeeeeexy': 1,\n 'sexyyyyyyyyyy': 1,\n 'sexyyyyy': 1,\n 'seeeeeeeeeeeexy': 1,\n 'seeeexy': 1,\n 'sexyyyy': 1,\n 'sssexy': 1,\n 'seeeeeeeeeeexy': 1,\n 'ssssssssexy': 1,\n 'sssssssssssssexy': 1,\n 'hhuge': 1,\n 'huuuuuuuuuuuuuuge': 1,\n 'oooooooooooooookay': 1,\n 'huuuuuuuge': 1,\n 'huggggge': 1,\n 'hhhhhhuge': 1,\n 'hugeeeeeeeeeeeee': 1,\n 'huggggggggggggggge': 1,\n 'hugggggggggggge': 1,\n 'huuuge': 1,\n 'huggggggggggge': 1,\n 'hhhhhhhhhhhuge': 1,\n 'hhhhhhhhhuge': 1,\n 'hugeeeeeee': 1,\n 'hugggggggggge': 1,\n 'huggggggge': 1,\n 'huggggggggge': 1,\n 'hugee': 1,\n 'hhhhhhhhhhhhuge': 1,\n 'huuge': 1,\n 'huuuuuuuuge': 1,\n 'huuuuuuuuuuge': 1,\n 'hugggggggggggggge': 1,\n 'hugeeeeeeeeeeeeee': 1,\n 'hugeee': 1,\n 'seeeeeeeeeeeeeexy': 1,\n 'sexyyyyyyyyyyy': 1,\n 'sexxxxxxxy': 1,\n 'ssexy': 1,\n 'sssssssssssssssexy': 1,\n 'seeeeexy': 1,\n 'ssssssssssexy': 1,\n 'sexyyyyyyyyyyyyy': 1,\n 'sexxxxxxxxxxxxxy': 1,\n 'sexxxxxxxxxxxxy': 1,\n 'sexxxy': 1,\n 'seeexy': 1,\n 'sexxxxxxxxxxxxxxy': 1,\n 'sexxxxxy': 1,\n 'sexxxxy': 1,\n 'ssssexy': 1,\n 'sexyyyyyyyyyyyy': 1,\n 'sexxxxxxxxxxxxxxxy': 1,\n 'sexyyyyyy': 1,\n 'sexyyyyyyyyyyyyyyy': 1,\n 'seeeeeexy': 1,\n 'seeeeeeeexy': 1,\n 'oookay': 1,\n 'okaaay': 1,\n 'okayy': 1,\n 'seeeeeeeeeexy': 1,\n 'ssssssexy': 1,\n 'sssssexy': 1,\n 'sexxxxxxxxxy': 1,\n 'sexyyyyyyyyy': 1,\n 'seeeeeeeeexy': 1,\n 'seexy': 1,\n 'sssssssssssexy': 1,\n 'seeeeeeexy': 1,\n 'sssssssexy': 1,\n 'sexyy': 1,\n 'sexxxxxxxxy': 1,\n 'sexxxxxxxxxxxy': 1,\n 'sexxxxxxxxxxy': 1,\n 'seeeeeeeeeeeeeeexy': 1,\n 'sexyyyyyyyyyyyyyy': 1,\n 'sexyyyyyyy': 1,\n 'sexyyyyyyyy': 1,\n 'sexxy': 1,\n 'sssssssssexy': 1,\n 'sexyyy': 1,\n 'ssssssssssssexy': 1,\n 'sexxxxxxy': 1,\n 'ssssssssssssssexy': 1,\n 'wwwwaste': 1,\n 'wastttttttttttte': 1,\n 'hugeeeeeeee': 1,\n 'horriiible': 1,\n 'horrrrrrrrrrrible': 1,\n 'hhhhhhhhhhhhhhhorrible': 1,\n 'horribleeeeeeeee': 1,\n 'horribbbble': 1,\n 'hhhhhhhhhhhhhorrible': 1,\n 'horribleeeeeeeeeeeeeee': 1,\n 'horrrrrrible': 1,\n 'hhorrible': 1,\n 'horribbbbbble': 1,\n 'hooooooorrible': 1,\n 'hhhhhhhhhhhhhhorrible': 1,\n 'horrrrrrrrrrible': 1,\n 'horriiiiiiiiiiiiiible': 1,\n 'horribllllllllllllllle': 1,\n 'horriiiiiiiiible': 1,\n 'horribleeeeeeee': 1,\n 'horriible': 1,\n 'hhhhhhhhhhhhorrible': 1,\n 'horribbbbbbbble': 1,\n 'horribbble': 1,\n 'horribllle': 1,\n 'hooooooooorrible': 1,\n 'hoooooorrible': 1,\n 'horriblee': 1,\n 'horrrrrrrible': 1,\n 'horriblllllllllllllle': 1,\n 'hoooorrible': 1,\n 'horrrrrrrrrrrrrrrrible': 1,\n 'horriiiiiiiiiiiible': 1,\n 'horriiiiiiible': 1,\n 'hhhhhhorrible': 1,\n 'horribbbbbbbbbbbbble': 1,\n 'hoooooooooooooorrible': 1,\n 'horrrrrrrrrrrrrrrible': 1,\n 'hoooooooorrible': 1,\n 'horribbbbbbbbbble': 1,\n 'horrrrrrrrrrrrrible': 1,\n 'horribbbbble': 1,\n 'horriiiiiible': 1,\n 'horribleeeeeeeeeeeeee': 1,\n 'hoooooooooooorrible': 1,\n 'horribleeeeeee': 1,\n 'hooooooooooorrible': 1,\n 'horribllllllle': 1,\n 'horrrrrible': 1,\n 'horribbbbbbbbbbble': 1,\n 'horrrrrrrrrrrrible': 1,\n 'horribleee': 1,\n 'horrrrrrrrrrrrrrible': 1,\n 'horriiiiiiiiiiiiiiible': 1,\n 'horriiiiiiiiiible': 1,\n 'hhhhhorrible': 1,\n 'horriiiiiiiiiiible': 1,\n 'hooooooooooooorrible': 1,\n 'horriblllle': 1,\n 'hooorrible': 1,\n 'horribbbbbbble': 1,\n 'hhhhhhhhorrible': 1,\n 'hooooorrible': 1,\n 'horribleeee': 1,\n 'horribleeeee': 1,\n 'horribbbbbbbbble': 1,\n 'horriblllllllllllle': 1,\n 'horribleeeeeeeeeee': 1,\n 'horribllllle': 1,\n 'yummywoowaysoughreallyhugeverrrrrrrytoonoalljustnothingbutbetterneedit': 1,\n 'yuuuuuuuuuuuummywoowaysoughreallyhugeverytoonoalljustnothingbutbetterneedit': 1,\n 'yummywoowaysoughreallyhugeverytoonoalljustnooooooooooooothingbutbetterneedit': 1,\n 'yummywoowaysoughreallyhugeverytoonoalljustnothingbutbetterrrrrrrrrneedit': 1,\n 'yummywoowaysoughreallyhugeverytoonoallllllllllllljustnothingbutbetterneedit': 1,\n 'yummywoowaysoughreallyhugeverytoonoaaaaaaaaaalljustnothingbutbetterneedit': 1,\n 'hhhorrible': 1,\n 'hhhhhhhhhhorrible': 1,\n 'horriblllllllllle': 1,\n 'horriblllllllle': 1,\n 'horribllllllllllllle': 1,\n 'horribleeeeeeeeeeeee': 1,\n 'horrrrrrrrible': 1,\n 'horribleeeeee': 1,\n 'hhhhhhhhhhhorrible': 1,\n 'hoorrible': 1,\n 'horriiiiiiiible': 1,\n 'horribleeeeeeeeee': 1,\n 'horrrible': 1,\n 'horribbbbbbbbbbbbbble': 1,\n 'horriblllllle': 1,\n 'hoooooooooorrible': 1,\n 'horriblle': 1,\n 'horribllllllllllle': 1,\n 'horribbbbbbbbbbbbbbble': 1,\n 'hhhhhhhorrible': 1,\n 'horriiiible': 1,\n 'horribllllllllle': 1,\n 'hooooooooooooooorrible': 1,\n 'horrrrible': 1,\n 'horrrrrrrrrible': 1,\n 'hhhhhhhhhorrible': 1,\n 'wasttttttttttte': 1,\n 'worrrrse': 1,\n 'worsssssssssse': 1,\n 'worseeeeeeeeeeeee': 1,\n 'wwwwwwwwwworse': 1,\n 'worseeeeeeee': 1,\n 'wwwwwwwwwwwwwworse': 1,\n 'worseeeeeeeeee': 1,\n 'wooooooorse': 1,\n 'worssssssse': 1,\n 'wwwwwwwwwwwwwwworse': 1,\n 'worssssssssssssse': 1,\n 'wwwworse': 1,\n 'wwwwwwwwwwwwworse': 1,\n 'worrrrrrrrse': 1,\n 'worssssssssse': 1,\n 'worrrrrrrrrrrrrse': 1,\n 'woorse': 1,\n 'wwwwwworse': 1,\n 'worssse': 1,\n 'worrrrrse': 1,\n 'worseeeee': 1,\n 'worsssse': 1,\n 'woooooooooorse': 1,\n 'wwworse': 1,\n 'horribleeeeeeeeeeee': 1,\n 'worsssssssssssse': 1,\n 'wasttttttte': 1,\n 'waaaaste': 1,\n 'wasssste': 1,\n 'waaste': 1,\n 'waaaaaaaaaaste': 1,\n 'waaaaaaste': 1,\n 'wwwwwwwwwaste': 1,\n 'waaaaaaaste': 1,\n 'wasssssssssssssste': 1,\n 'wasteeeeeeee': 1,\n 'wassste': 1,\n 'wwwwwwwwwwwwwwaste': 1,\n 'wassssssste': 1,\n 'waaaaaaaaaaaste': 1,\n 'wassssssssssssssste': 1,\n 'wastttttte': 1,\n 'waaaaaaaaaaaaaste': 1,\n 'wasteeeeeeeeeeeeee': 1,\n 'waaaaaaaaaaaaaaaste': 1,\n 'wwwwwwwwaste': 1,\n 'woooooorse': 1,\n 'worrrrrrrrrrse': 1,\n 'worrse': 1,\n 'worrrrrrrrrrrrrrrse': 1,\n 'worrrrrrse': 1,\n 'worseeeeeeeeeee': 1,\n 'worssssssssssse': 1,\n 'wwwwwwwworse': 1,\n 'worsee': 1,\n 'wooooooooorse': 1,\n 'worseeeeeeeeeeeeee': 1,\n 'worseeeeeee': 1,\n 'worseeeeee': 1,\n 'wooorse': 1,\n 'wooooooooooooooorse': 1,\n 'worrrrrrrrrrrrrrse': 1,\n 'wwwwwwworse': 1,\n 'woooooooorse': 1,\n 'wooooooooooooorse': 1,\n 'wwwwwwwwwwworse': 1,\n 'wooooooooooorse': 1,\n 'horriiiiiiiiiiiiible': 1,\n 'horribble': 1,\n 'hhhhorrible': 1,\n 'horribbbbbbbbbbbble': 1,\n 'horriiiiible': 1,\n 'worsssssssse': 1,\n 'worseeeeeeeee': 1,\n 'worrrrrrrrrse': 1,\n 'worseeee': 1,\n 'worrrse': 1,\n 'wworse': 1,\n 'worsssssssssssssse': 1,\n 'wwwwwwwwworse': 1,\n 'worseeeeeeeeeeeeeee': 1,\n 'woooorse': 1,\n 'worsssssse': 1,\n 'worssssssssssssssse': 1,\n 'wwwwworse': 1,\n 'worrrrrrrrrrrrse': 1,\n 'worseeeeeeeeeeee': 1,\n 'woooooooooooorse': 1,\n 'wooooorse': 1,\n 'worrrrrrrrrrrse': 1,\n 'worrrrrrrse': 1,\n 'woooooooooooooorse': 1,\n 'worsse': 1,\n 'worssssse': 1,\n 'wwwwwwwwwwwworse': 1,\n 'worseee': 1,\n 'hhhhhhhhhhhhhhuge': 1,\n 'huuuuge': 1,\n 'likkkkkkkke': 1,\n 'excellllllllllent': 1,\n 'eeeeeeeeexcellent': 1,\n 'eexcellent': 1,\n 'exceeellent': 1,\n 'excellllent': 1,\n 'eeeexcellent': 1,\n 'excellentttt': 1,\n 'exxxxxxxcellent': 1,\n 'exxcellent': 1,\n 'excellentttttttttttttt': 1,\n 'exccccellent': 1,\n 'excellllllent': 1,\n 'excellenttttt': 1,\n 'excelllllllllent': 1,\n 'excelllent': 1,\n 'excelleeent': 1,\n 'excelleeeeeeeent': 1,\n 'excellennnnt': 1,\n 'excellentttttt': 1,\n 'excccccccellent': 1,\n 'excelllllllent': 1,\n 'excellenttttttttttttttt': 1,\n 'exxxxxxxxxxxxxcellent': 1,\n 'eeeeeeeeeeeexcellent': 1,\n 'perffffffect': 1,\n 'excellentttttttttt': 1,\n 'perfeccccccccct': 1,\n 'perrrrrrrrrrrrrfect': 1,\n 'perfecttttttt': 1,\n 'perfectttttttttttttt': 1,\n 'pppppppppppperfect': 1,\n 'perfectttttttttt': 1,\n 'perfeeeeeeeeeeeeeect': 1,\n 'perrrrfect': 1,\n 'ppppperfect': 1,\n 'pppppppperfect': 1,\n 'perfeccccccccccccct': 1,\n 'excellennnnnnnt': 1,\n 'exceeeeeeeeeeeeellent': 1,\n 'excellenttttttttttttt': 1,\n 'excellllllllent': 1,\n 'eeeeeeeeeeexcellent': 1,\n 'exccccccccellent': 1,\n 'excccccccccccellent': 1,\n 'excccellent': 1,\n 'exceeeeellent': 1,\n 'excelleeeeeeeeeent': 1,\n 'excellentttttttttttt': 1,\n 'exxxxxxxxxcellent': 1,\n 'excelleent': 1,\n 'excelleeeent': 1,\n 'eeeeeexcellent': 1,\n 'exceeeeeeeeeeeellent': 1,\n 'exccellent': 1,\n 'exceeeeeeeeeeeeeellent': 1,\n 'excelllllllllllent': 1,\n 'eeeeexcellent': 1,\n 'excellenttttttt': 1,\n 'exxxxxcellent': 1,\n 'excellennnt': 1,\n 'excellennnnnnnnnt': 1,\n 'eeeeeeeeeeeeeeexcellent': 1,\n 'excelleeeeent': 1,\n 'excelllllllllllllent': 1,\n 'excelleeeeeeeeeeeeent': 1,\n 'excellllllllllllent': 1,\n 'excellennnnnnnnnnnnnnt': 1,\n 'excelleeeeeeeeeeeent': 1,\n 'exceeeeeeeeeeeeeeellent': 1,\n 'excellenttttttttttt': 1,\n 'excccccccccccccccellent': 1,\n 'eeexcellent': 1,\n 'excelllllllllllllllent': 1,\n 'excelleeeeeeeeeeeeeent': 1,\n 'exxxxxxcellent': 1,\n 'excccccccccccccellent': 1,\n 'exccccccccccellent': 1,\n 'excellennnnnnnnnnt': 1,\n 'excellennnnnnnnnnnnnnnt': 1,\n 'exxxxxxxxxxcellent': 1,\n 'excelllllent': 1,\n 'excellentttttttt': 1,\n 'exceeeellent': 1,\n 'excellennnnnt': 1,\n 'excellennnnnnnnnnnt': 1,\n 'exxxxxxxxxxxcellent': 1,\n 'exceeeeeeeeeeellent': 1,\n 'excellllllllllllllllent': 1,\n 'eeeeeeeeeexcellent': 1,\n 'eeeeeeeeeeeeeexcellent': 1,\n 'excellllllllllllllent': 1,\n 'eeeeeeeeeeeeexcellent': 1,\n 'eeeeeeeexcellent': 1,\n 'excelleeeeeeent': 1,\n 'excelleeeeeeeeeeent': 1,\n 'excelleeeeeeeeeeeeeeent': 1,\n 'perrrfect': 1,\n 'perrrrrrfect': 1,\n 'exccccccccccccccellent': 1,\n 'ppppppppppperfect': 1,\n 'perffect': 1,\n 'peeerfect': 1,\n 'peeeeeeeerfect': 1,\n 'perfeccccct': 1,\n 'perfecccccccccct': 1,\n 'ppppppppppppperfect': 1,\n 'perrrrrrrrrrfect': 1,\n 'perfecttt': 1,\n 'perfffffect': 1,\n 'perfeeect': 1,\n 'perfffect': 1,\n 'perfeeeeeeect': 1,\n 'perfectt': 1,\n 'pppppppppppppperfect': 1,\n 'perfeeeeeect': 1,\n 'pppppppppperfect': 1,\n 'perfecccccccccccct': 1,\n 'peeeeeeeeerfect': 1,\n 'perrrrrrrrrrrrrrrfect': 1,\n 'perrrrrrrrrfect': 1,\n 'perfecttttttttttttt': 1,\n 'perfeeeeeeeeeect': 1,\n 'ppppppppperfect': 1,\n 'perfeccct': 1,\n 'perrfect': 1,\n 'awesssssssssssome': 1,\n 'aweeeeeeesome': 1,\n 'awessssssssssssome': 1,\n 'awesommmmmmmmme': 1,\n 'awesomeeeeeeeeeeeeee': 1,\n 'awesommmmmmme': 1,\n 'awesommmmmmmmmmmmmme': 1,\n 'aaaawesome': 1,\n 'aweeeeeeeeesome': 1,\n 'awwwwwwwwwwwwwwesome': 1,\n 'aaaaaaaaaaaaaawesome': 1,\n 'aaaaaaaawesome': 1,\n 'perrrrrfect': 1,\n 'perrrrrrrrrrrrfect': 1,\n 'perfeeeeeeeeeeeect': 1,\n 'perrrrrrrrrrrfect': 1,\n 'perffffffffect': 1,\n 'perffffffffffect': 1,\n 'perfffffffffect': 1,\n 'perffffect': 1,\n 'perffffffffffffect': 1,\n 'perfeccccccccccct': 1,\n 'perfeeeect': 1,\n 'perffffffffffffffect': 1,\n 'perfeeeeect': 1,\n 'perfeeeeeeeeect': 1,\n 'perfffffffffffffffect': 1,\n 'perfecttttttttt': 1,\n 'pppppperfect': 1,\n 'perfecct': 1,\n 'peeeeeeeeeeeeeerfect': 1,\n 'perfecccccccccccccct': 1,\n 'perrrrrrrrfect': 1,\n 'perfeeeeeeeeeeeeect': 1,\n 'perfeccccccccccccccct': 1,\n 'peeeerfect': 1,\n 'peeeeeeeeeeeerfect': 1,\n 'peerfect': 1,\n 'perfeeeeeeeect': 1,\n 'perfeect': 1,\n 'perfecttttttttttttttt': 1,\n 'perfffffffffffect': 1,\n 'peeeeeeeeeeeeeeerfect': 1,\n 'pperfect': 1,\n 'perfffffffect': 1,\n 'ppperfect': 1,\n 'peeeeeerfect': 1,\n 'peeeeeeeeeeeeerfect': 1,\n 'perfecccccct': 1,\n 'peeeeeeerfect': 1,\n 'perfeccccccct': 1,\n 'perfecttttttttttt': 1,\n 'perrrrrrrfect': 1,\n 'perfeeeeeeeeeeeeeeect': 1,\n 'perfffffffffffffect': 1,\n 'peeeeeeeeeerfect': 1,\n 'perfecccccccct': 1,\n 'perfectttttt': 1,\n 'peeeeerfect': 1,\n 'perfectttttttt': 1,\n 'ppppppperfect': 1,\n 'peeeeeeeeeeerfect': 1,\n 'perfeeeeeeeeeeect': 1,\n 'perfectttt': 1,\n 'perrrrrrrrrrrrrrfect': 1,\n 'ppppppppppppppperfect': 1,\n 'perfectttttttttttt': 1,\n 'perfecttttt': 1,\n 'pppperfect': 1,\n 'perfecccct': 1,\n 'exxxxxxxxxxxxxxcellent': 1,\n 'excellennnnnnnnnnnnt': 1,\n 'hhhhhhhhuge': 1,\n 'haaaaaaaaappy': 1,\n 'hhhhappy': 1,\n 'happppppppy': 1,\n 'happyyyyyyyyy': 1,\n 'happppppppppppppppy': 1,\n 'haaaaappy': 1,\n 'happyy': 1,\n 'hhhhhhhhhhhhhappy': 1,\n 'happyyyyyy': 1,\n 'hhhappy': 1,\n 'hhhhhhhhhhappy': 1,\n 'hhhhhhhhhappy': 1,\n 'haaaaaaaaaaappy': 1,\n 'yeeeeeeeeeeeeeees': 1,\n 'yyyyyyes': 1,\n 'yyyyyyyyyyyyyyes': 1,\n 'yesssssssssssssss': 1,\n 'yyyyyyyyyyyyyyyes': 1,\n 'yeeeeeeeeees': 1,\n 'yeeeeeeeeeeeeees': 1,\n 'yesss': 1,\n 'yesssssssssss': 1,\n 'hhhhhhappy': 1,\n 'happppppppppy': 1,\n 'happyyyyyyyyyyy': 1,\n 'happyyyyyyyyyyyy': 1,\n 'haaaaaaaaaaaaappy': 1,\n 'haaaaaaaaaappy': 1,\n 'haaaaaaaaaaaaaaappy': 1,\n 'haaaaaaappy': 1,\n 'haaaaaaaaaaaappy': 1,\n 'happpppy': 1,\n 'hhhhhappy': 1,\n 'happyyyyyyyy': 1,\n 'happppppy': 1,\n 'haaaappy': 1,\n 'happyyyyyyy': 1,\n 'happyyyy': 1,\n 'happppppppppppy': 1,\n 'happyyyyyyyyyyyyy': 1,\n 'hhhhhhhhhhhhhhappy': 1,\n 'haaaaaaaaaaaaaappy': 1,\n 'happyyyyyyyyyyyyyy': 1,\n 'hhhhhhhhhhhhhhhappy': 1,\n 'happpppppppppy': 1,\n 'hhhhhhhhhhhhappy': 1,\n 'happyyyyyyyyyyyyyyy': 1,\n 'yyyyyyyyyyyes': 1,\n 'yessss': 1,\n 'yeeeeeeeeeees': 1,\n 'yeees': 1,\n 'yess': 1,\n 'yyes': 1,\n 'yeeeeeeeeeeeees': 1,\n 'yyyyyyyyyyyyes': 1,\n 'yessssssss': 1,\n 'hugeeeeeeeeeeeeeee': 1,\n 'hugge': 1,\n 'hhhhhhhhhhhhhuge': 1,\n 'hugeeeeeeeeee': 1,\n 'hugeeeee': 1,\n 'huuuuuuuuuuuge': 1,\n 'huuuuuuuuuuuuge': 1,\n 'huuuuuge': 1,\n 'huggggggggggggge': 1,\n 'hugggggge': 1,\n 'huggge': 1,\n 'hugeeeeeeeeeee': 1,\n 'hugggggggge': 1,\n 'hhhhhuge': 1,\n 'huuuuuuuuuuuuuge': 1,\n 'hhhhuge': 1,\n 'yyyyyes': 1,\n 'yyyyyyyes': 1,\n 'yesssssssssssss': 1,\n 'yyyyyyyyyyyyyes': 1,\n 'yessssss': 1,\n 'yessssssssssss': 1,\n 'yesssss': 1,\n 'yyyyyyyyyes': 1,\n 'yyyyyyyyes': 1,\n 'yesssssssss': 1,\n 'yeeees': 1,\n 'yeeeeeeeees': 1,\n 'yesssssss': 1,\n 'yyyyyyyyyyes': 1,\n 'yyyes': 1,\n 'yeeeeeeees': 1,\n 'yeeeeeeeeeeees': 1,\n 'yeeeeees': 1,\n 'yeeeeeees': 1,\n 'yees': 1,\n 'yyyyes': 1,\n 'yeeeees': 1,\n 'yessssssssss': 1,\n 'yessssssssssssss': 1,\n 'haaaaaappy': 1,\n 'happppppppppppppy': 1,\n 'excelleeeeeent': 1,\n 'exceeeeeeeeellent': 1,\n 'ccute': 1,\n 'cuttttte': 1,\n 'ccccccccccccccute': 1,\n 'cccccccccute': 1,\n 'cccccccccccccccute': 1,\n 'cuuuuute': 1,\n 'cutttttttte': 1,\n 'cccccccccccute': 1,\n 'cuteeeeeeeeee': 1,\n 'cutttttttttte': 1,\n 'cuuuuuuuuuuuute': 1,\n 'cuuuuuuuuute': 1,\n 'cuuuuuuuuuuuuuute': 1,\n 'cuttttttttttttttte': 1,\n 'cuuuuuuuuuute': 1,\n 'cuuuuuuuuuuuuuuute': 1,\n 'cuteeee': 1,\n 'cccccccccccccute': 1,\n 'cuteeeeeeeeeeeeeee': 1,\n 'cuuuuuuuute': 1,\n 'cutttttttttttte': 1,\n 'cuteeeeeeeeeeee': 1,\n 'exxxxcellent': 1,\n 'happyyyyyyyyyy': 1,\n 'excellenttttttttt': 1,\n 'exccccccellent': 1,\n 'excellenttt': 1,\n 'exceellent': 1,\n 'exxxcellent': 1,\n 'excellennnnnnnnnnnnnt': 1,\n 'excelleeeeeeeeent': 1,\n 'exxxxxxxxxxxxxxxcellent': 1,\n 'excellennt': 1,\n 'excellennnnnnt': 1,\n 'eeeeeeexcellent': 1,\n 'excellennnnnnnnt': 1,\n 'exceeeeeellent': 1,\n 'excccccellent': 1,\n 'exceeeeeeellent': 1,\n 'exceeeeeeeellent': 1,\n 'excccccccccellent': 1,\n 'excellentt': 1,\n 'exceeeeeeeeeellent': 1,\n 'exccccccccccccellent': 1,\n 'exxxxxxxxxxxxcellent': 1,\n 'exxxxxxxxcellent': 1,\n 'cuttte': 1,\n 'cuteeeee': 1,\n 'cuteeeeeeeeeee': 1,\n 'cuteeeeeeeee': 1,\n 'cuuuuuuuuuuute': 1,\n 'cutee': 1,\n 'ccccccute': 1,\n 'cutttttttttttttte': 1,\n 'cuteeeeee': 1,\n 'cutttttte': 1,\n 'hhappy': 1,\n 'happyyy': 1,\n 'happpppppy': 1,\n 'happpy': 1,\n 'hhhhhhhappy': 1,\n 'haappy': 1,\n 'happpppppppppppy': 1,\n 'hhhhhhhhappy': 1,\n 'happppy': 1,\n 'haaappy': 1,\n 'hhhhhhhhhhhappy': 1,\n 'happpppppppy': 1,\n 'haaaaaaaappy': 1,\n 'happyyyyy': 1,\n 'happpppppppppppppy': 1,\n 'cutttte': 1,\n 'cuttttttte': 1,\n 'cutte': 1,\n 'cuuuuuuute': 1,\n 'ccccccccccute': 1,\n 'cccccute': 1,\n 'ccccute': 1,\n 'cuteeeeeeeeeeeeee': 1,\n 'cccute': 1,\n 'cuttttttttttttte': 1,\n 'cuteeeeeeee': 1,\n 'cuteeeeeeeeeeeee': 1,\n 'cuttttttttte': 1,\n 'cuuuute': 1,\n 'cuuuuuuuuuuuuute': 1,\n 'cccccccute': 1,\n 'ccccccccccccute': 1,\n 'cuuute': 1,\n 'cuteeeeeee': 1,\n 'cuttttttttttte': 1,\n 'cuuuuuute': 1,\n 'ccccccccute': 1,\n 'cuteee': 1,\n 'cuute': 1,\n 'yummywoowwwwwaysoughreallyhugeverytoonoalljustnothingbutbetterneedit': 1,\n 'yummywoowaysooooooughreallyhugeverytoonoalljustnothingbutbetterneedit': 1,\n 'yummywoowaysoughreallyyyyyyyyyyhugeverytoonoalljustnothingbutbetterneedit': 1,\n 'yummywoowaysoughreallyhugeverytoonoallllljustnothingbutbetterneedit': 1,\n 'yuummywoowaysoughreallyhugeverytoonoalljustnothingbutbetterneedit': 1,\n 'yummywoowaysouuuuuuuuuughreallyhugeverytoonoalljustnothingbutbetterneedit': 1,\n 'yummywoowaysoughhhhhhhreallyhugeverytoonoalljustnothingbutbetterneedit': 1,\n 'yummmmmmmmmywoowaysoughreallyhugeverytoonoalljustnothingbutbetterneedit': 1,\n 'yummywoowaysoughreallyhugeverytoonoalljustttnothingbutbetterneedit': 1,\n 'yummywoowaysoughreallyhugeverytoonoalljjjjjjjjustnothingbutbetterneedit': 1,\n 'yummywoowaysoughreaaaaaaaaallyhugeverytoonoalljustnothingbutbetterneedit': 1,\n 'yummywoowaysoughreallyhuuuuuuuuuuuuuugeverytoonoalljustnothingbutbetterneedit': 1,\n 'yummywoowaysoughreallyhugeverytoonoalljuuuuuuuuuuuuustnothingbutbetterneedit': 1,\n 'yummywoowaysoughreeeeeallyhugeverytoonoalljustnothingbutbetterneedit': 1,\n 'yummywoowaysoughreallyhugeveeeeeeeeeeerytoonoalljustnothingbutbetterneedit': 1,\n 'yummywoowaysoughreallyhugeverytoonoalljustnooothingbutbetterneedit': 1,\n 'yummywoowaysoughreallyhuuuuugeverytoonoalljustnothingbutbetterneedit': 1,\n 'yummyyywoowaysoughreallyhugeverytoonoalljustnothingbutbetterneedit': 1,\n 'yummywoowaysoughreallyhugeverytoonoalljustnnnnnnnnnnnothingbutbetterneedit': 1,\n 'yummywoowaysoughreallyhugeverytoonoalljustnothingbutbetterneeeeeeedit': 1,\n 'yummywoowaysoughreallyhugeverytoonoalljustnoooooooothingbutbetterneedit': 1,\n 'yummywoowaysoughreallyhhhhhhhhhhhhhugeverytoonoalljustnothingbutbetterneedit': 1,\n 'yummywoowaysoughreallyhugeverytoonoaaaaaaaaaaaaaaalljustnothingbutbetterneedit': 1,\n 'yummywoowaysoughreallyhugggggggggeverytoonoalljustnothingbutbetterneedit': 1,\n 'yummywoowaysoughreaaaaaaallyhugeverytoonoalljustnothingbutbetterneedit': 1,\n 'yummywoowaysoughreallyhugevvvvvvvvvverytoonoalljustnothingbutbetterneedit': 1,\n 'yummywoowaysoughreallyhugeeeeeeeeverytoonoalljustnothingbutbetterneedit': 1,\n 'yummywoowaysoughreallyhugeverytoonoalljustttttttttnothingbutbetterneedit': 1,\n 'yummywoowaysoughreallyhugeverytoonoalljustnothingbutbetttttttttterneedit': 1,\n 'yummywoowaysoughreeeeeeallyhugeverytoonoalljustnothingbutbetterneedit': 1,\n 'yummywoowaaaaaaaaaaaaaaysoughreallyhugeverytoonoalljustnothingbutbetterneedit': 1,\n 'yummywoowaysoughreallyhugeveryyyytoonoalljustnothingbutbetterneedit': 1,\n 'yummywoowaysoughreallyhugeverytoonoalljustnothiiiiiiiiiingbutbetterneedit': 1,\n 'yummywoowaysoughreallyhugeverytoonoalljustnotttttthingbutbetterneedit': 1,\n 'yummywoowaysssssssssssssoughreallyhugeverytoonoalljustnothingbutbetterneedit': 1,\n 'yyyyyyyyyyummywoowaysoughreallyhugeverytoonoalljustnothingbutbetterneedit': 1,\n 'yummywoowaaaaaaaaaaaaaysoughreallyhugeverytoonoalljustnothingbutbetterneedit': 1,\n 'yummyywoowaysoughreallyhugeverytoonoalljustnothingbutbetterneedit': 1,\n 'yummywoowaysooughreallyhugeverytoonoalljustnothingbutbetterneedit': 1,\n 'yummywoowaysoughreallyhugeverytoonoalljustnothingbutbetteeeeeeerneedit': 1,\n 'yummywoowaysoughreallyhugeverytoonoalljustnothingbuuuuuuuutbetterneedit': 1,\n 'yummywoowaysoughreallyhhhugeverytoonoalljustnothingbutbetterneedit': 1,\n 'yummywoowaysoughreallyhugeverrrrrytoonoalljustnothingbutbetterneedit': 1,\n 'yummywoowaysoughreeeeeeeeeeeeeeeallyhugeverytoonoalljustnothingbutbetterneedit': 1,\n 'yummywoowaysoughreallyhugeverytoonoalljustnothingbutbetterneeditttttttttttttt': 1,\n 'yummywoowaysoughreallyhugeverrrrrrrrrrrrrytoonoalljustnothingbutbetterneedit': 1,\n 'yummywoowaysoughreallyhugeverytoonoalljustnothingbutbbbbbbbbbbbbetterneedit': 1,\n 'yummywoowaysoughrrrreallyhugeverytoonoalljustnothingbutbetterneedit': 1,\n 'yummywoowaysoughreallyhugeverytoonoooalljustnothingbutbetterneedit': 1,\n 'yummywoowaysoughreallyhugeverytoonoalljustnothingbutbetterneedittttttt': 1,\n 'yummywoowaysoughreallyhuuuuuuuuuuugeverytoonoalljustnothingbutbetterneedit': 1,\n 'yyyyyyyyyyyummywoowaysoughreallyhugeverytoonoalljustnothingbutbetterneedit': 1,\n 'yummywoowaysoughreallyhugeverytoonoalljustnothhhhhhhhhingbutbetterneedit': 1,\n 'yummywoowaysoughreallyhugeveryyyyyyyytoonoalljustnothingbutbetterneedit': 1,\n 'yummywoowaysoughreallyhugeveryttttttttttoonoalljustnothingbutbetterneedit': 1,\n 'yummywoowaysoughreallyhugeverytoonoalljuuuuuuuuustnothingbutbetterneedit': 1,\n 'yummywoowaysoughreallyhugeverytoonoalljustnothingbutbettttttttttterneedit': 1,\n 'yummywoowaysoughreallyhugeverytoonoalljustnothingbutbetternnnnnnnneedit': 1,\n 'yummywoowaysouggggggggggggghreallyhugeverytoonoalljustnothingbutbetterneedit': 1,\n 'yummywoowaysoughreallyhuugeverytoonoalljustnothingbutbetterneedit': 1,\n 'yummywoowaysougggggggghreallyhugeverytoonoalljustnothingbutbetterneedit': 1,\n 'yummywoowaysooooughreallyhugeverytoonoalljustnothingbutbetterneedit': 1,\n 'yummywoowaysoughreallyhugeeeeeeeeeeeeeeeverytoonoalljustnothingbutbetterneedit': 1,\n 'yummywoowaysoughreallyhugeverytoonoalljustnothinggggbutbetterneedit': 1,\n 'yummywoowaysoughreallyhugeverytoonoalljustnothingbutbetternnnnnnneedit': 1,\n 'yummmmmmmmywoowaysoughreallyhugeverytoonoalljustnothingbutbetterneedit': 1,\n 'yummywoowaysoughreallyhugeverytoonoalljustnothingbutbetterneediiiiiiiiiiiiiit': 1,\n 'yummywoowaysoughreallyhugeverytoonoalljustnothiiiiingbutbetterneedit': 1,\n 'yummywoowaysougghreallyhugeverytoonoalljustnothingbutbetterneedit': 1,\n 'yuuuuuuuuuuummywoowaysoughreallyhugeverytoonoalljustnothingbutbetterneedit': 1,\n 'yummywoowaysoughreallyhugeverytoonooooooooooalljustnothingbutbetterneedit': 1,\n 'yummyyyyyyywoowaysoughreallyhugeverytoonoalljustnothingbutbetterneedit': 1,\n 'yummywoowaysoughreallyhugeeeeeeeeeeeeeverytoonoalljustnothingbutbetterneedit': 1,\n 'yummywoowwwwwwwwwwwaysoughreallyhugeverytoonoalljustnothingbutbetterneedit': 1,\n 'yummywoowaysoughreallyhugeverytoonoaaalljustnothingbutbetterneedit': 1,\n 'yummywoowaysoughreallyhugeverytttttttttttttoonoalljustnothingbutbetterneedit': 1,\n 'yummywoowaysoughreallyhugeveryttttttttoonoalljustnothingbutbetterneedit': 1,\n 'yummywoowaysoughreallyhugeeeeeeeeeverytoonoalljustnothingbutbetterneedit': 1,\n 'yummywoowaysoughreallyhugeverytoonooooooooooooooalljustnothingbutbetterneedit': 1,\n 'yummywoowaysoughreallyhugeverytoonoalljustnothingbuttttttttttttttbetterneedit': 1,\n 'yummywoowaysoughreallyhugeverytoonoalljustnothingbutbetternnnnnnnnnnneedit': 1,\n 'yummywoowaysoughreallyhugeverrrrrrrrrytoonoalljustnothingbutbetterneedit': 1,\n 'yummywoowaysoughreallyhugeverytoonnnnnnoalljustnothingbutbetterneedit': 1,\n 'yummywoowaysoughreallyhuuugeverytoonoalljustnothingbutbetterneedit': 1,\n 'yummywoowaysoughreallyhugeverytoonoalljustnooooooooooooooothingbutbetterneedit': 1,\n 'yummywoowaysoughreallyhugevvverytoonoalljustnothingbutbetterneedit': 1,\n 'yummywoowaaaaaaaaaaaaaaaysoughreallyhugeverytoonoalljustnothingbutbetterneedit': 1,\n 'yummmmmywoowaysoughreallyhugeverytoonoalljustnothingbutbetterneedit': 1,\n 'yummywoowaysoughreallyhugeverytoonoalljustnothingbuttttttttbetterneedit': 1,\n 'yummywwwwwwwwwwwoowaysoughreallyhugeverytoonoalljustnothingbutbetterneedit': 1,\n 'yuuuuuuummywoowaysoughreallyhugeverytoonoalljustnothingbutbetterneedit': 1,\n 'yummywoowaysoughreallyhugeverytoonoalljustnothingbutbetternnnnnnnnneedit': 1,\n 'yummywoowaysoughreallyhugeverytoonoalljustnothinnnnnnnnngbutbetterneedit': 1,\n 'yummywoowaysoughreallyhugeverytoonoalljustnothhhhhhhhhhhingbutbetterneedit': 1,\n 'yummywoowaysoughreallyhugeverytoooonoalljustnothingbutbetterneedit': 1,\n 'yummywoowaysoughreallyhugeverytoonoalljusttttttttttnothingbutbetterneedit': 1,\n 'yummywoowaysoughreallyhugeverytoonnnoalljustnothingbutbetterneedit': 1,\n 'yummywoowaaaaaaaaaaysoughreallyhugeverytoonoalljustnothingbutbetterneedit': 1,\n 'yummywoowaysoughreeeeeeeeeeeallyhugeverytoonoalljustnothingbutbetterneedit': 1,\n 'yummywoowaysoughreallyhugevverytoonoalljustnothingbutbetterneedit': 1,\n 'yummywoowaysoughreallyhugeverytoonoalljustnothingbuttttbetterneedit': 1,\n 'yyyyyyyyummywoowaysoughreallyhugeverytoonoalljustnothingbutbetterneedit': 1,\n 'yummywoowaysoughreallyyyyyyyyhugeverytoonoalljustnothingbutbetterneedit': 1,\n 'yummywoowaysoooooooughreallyhugeverytoonoalljustnothingbutbetterneedit': 1,\n 'yummywoowaysoughreallyyyyyyyyyyyyyhugeverytoonoalljustnothingbutbetterneedit': 1,\n 'yummywoowaysoughreallyhugeverytoonoalljustnothingbutttttbetterneedit': 1,\n 'yummywoowaysoughreallyhugeverytttttttttttoonoalljustnothingbutbetterneedit': 1,\n 'yummywooooooooooooooowaysoughreallyhugeverytoonoalljustnothingbutbetterneedit': 1,\n 'yummywoowaysoughreallyhugeverrrrrrytoonoalljustnothingbutbetterneedit': 1,\n 'yummywoowaysoughreallyhugeverytoonoooooalljustnothingbutbetterneedit': 1,\n 'yummywoowaysoughreallyhugeverytoonoalljustnothingbuttttttbetterneedit': 1,\n 'yummywoowaysoughreallyhugeverytoonoalljustnothingbutbeeeeeeeeeeeetterneedit': 1,\n 'yummywoowaysoughreallyhugeverytoonoalljuuustnothingbutbetterneedit': 1,\n 'yummywoowaysoughreallyhugeverytoonoalljustnothingggggggggggggggbutbetterneedit': 1,\n 'yummywoowaysoughreallyhugeverytoonoalljustnothingbutbettttttttterneedit': 1,\n 'yummywoowayssoughreallyhugeverytoonoalljustnothingbutbetterneedit': 1,\n 'yummywoowaysoughreallllllllllllllllyhugeverytoonoalljustnothingbutbetterneedit': 1,\n 'yummywoowaysoughreallyhugeverytoonoalljustnothingbbbutbetterneedit': 1,\n 'yummywoowaysoughreallyhugeverytoonoalljustnothingbuuuuuuuuuuuutbetterneedit': 1,\n 'yummywoowaysoughreallyhugeverytoonoalljussssssssssssstnothingbutbetterneedit': 1,\n 'yummywoooooooooooowaysoughreallyhugeverytoonoalljustnothingbutbetterneedit': 1,\n 'yummywoowaysoughreallyhugeverytoonoallllllllllllllljustnothingbutbetterneedit': 1,\n 'yummywoowaysoughreallyhugeverytoonoalljustnothinnnnnnnnnngbutbetterneedit': 1,\n 'yummywoowaysoughreallyhugeverytoonoaaaalljustnothingbutbetterneedit': 1,\n 'yummywoowaysoughreallyhugeverytoonoalljustttttttttttttnothingbutbetterneedit': 1,\n 'yummywoowaysoughreallyhugeverytoonoalllllllllllllllljustnothingbutbetterneedit': 1,\n 'yummywoowaysoughreallyhugeeeeeeeeeeverytoonoalljustnothingbutbetterneedit': 1,\n 'yummywwwwwwwwwwwwwoowaysoughreallyhugeverytoonoalljustnothingbutbetterneedit': 1,\n 'yummywoowaysoughhhhhhhhhhhhhhhreallyhugeverytoonoalljustnothingbutbetterneedit': 1,\n 'yummywwoowaysoughreallyhugeverytoonoalljustnothingbutbetterneedit': 1,\n 'yummywoowaysoughreallyhugeverytoonoalljustnothiiiiiiingbutbetterneedit': 1,\n 'yuuuuuuuuuuuuuummywoowaysoughreallyhugeverytoonoalljustnothingbutbetterneedit': 1,\n 'yummywoowaysoughreallyhugeverytttoonoalljustnothingbutbetterneedit': 1,\n 'yummywoowaysoughrrrrrrrrrrrreallyhugeverytoonoalljustnothingbutbetterneedit': 1,\n 'yummywoowaysoughreallyhugeverytoonoalljustnothingggggggggggbutbetterneedit': 1,\n 'yummywoowaysoughreallyhugeverytoonoalljustnotttthingbutbetterneedit': 1,\n 'yummywoowaysoughreallyhugeverytoonoalljustnothingbutbetterneeditttttttttttt': 1,\n 'yummywoowaysoughreallyhugeverytoonoalljustnottttttthingbutbetterneedit': 1,\n 'yummywoowaysoughreallyhugeverytoonooalljustnothingbutbetterneedit': 1,\n 'yummywoowaysoughreallyhugeeeeeverytoonoalljustnothingbutbetterneedit': 1,\n 'yummywoowaysoughrrrrrrrreallyhugeverytoonoalljustnothingbutbetterneedit': 1,\n 'yummywooooooowaysoughreallyhugeverytoonoalljustnothingbutbetterneedit': 1,\n 'yummywoowaysoughreallyhugeverytoonoalljustnothingbutbetterneediiiiiit': 1,\n 'yummywwwwwwwwwwoowaysoughreallyhugeverytoonoalljustnothingbutbetterneedit': 1,\n 'yummywoowaysoughreallyhugeverytoonoalljusssssssssssssstnothingbutbetterneedit': 1,\n 'yummywoowaysoughrrrrrreallyhugeverytoonoalljustnothingbutbetterneedit': 1,\n 'yummywoowaysoughreallyhugeverrrrrrrrrrrytoonoalljustnothingbutbetterneedit': 1,\n 'yummywoowaysoughreallyhugeverytoonoalljustnothingbuttttttttttttbetterneedit': 1,\n 'yummywoowaysoughreallyhugevvvvvvvvverytoonoalljustnothingbutbetterneedit': 1,\n 'yyyyyyyummywoowaysoughreallyhugeverytoonoalljustnothingbutbetterneedit': 1,\n 'yummywoowaysoughreallyhugeverytoonoalljustnothingbutbetterneediiiiiiiiiiit': 1,\n 'yyyyyyummywoowaysoughreallyhugeverytoonoalljustnothingbutbetterneedit': 1,\n 'yummywoowaysoughreallyhugevvvvvvverytoonoalljustnothingbutbetterneedit': 1,\n 'yummywoowaysoughreaaaaaaaaaaaallyhugeverytoonoalljustnothingbutbetterneedit': 1,\n 'yummywoowaysoughreallyhugeverytooooooooooonoalljustnothingbutbetterneedit': 1,\n 'yummywoowaysoughreallyhugeverytoonoalljustnothingbutbetteeeeeerneedit': 1,\n 'yummywoowaysoughreallyhugeverytoonoalljusttttttttttttnothingbutbetterneedit': 1,\n 'yummywwwwwwwwwwwwoowaysoughreallyhugeverytoonoalljustnothingbutbetterneedit': 1,\n 'yummywoowaysoughreallllllyhugeverytoonoalljustnothingbutbetterneedit': 1,\n 'yummywoowaysoughreallyhugeveryyyyytoonoalljustnothingbutbetterneedit': 1,\n 'yummywoowaysoughreallyhugeverytoonoalljustnothingbuuuuuuuuuuutbetterneedit': 1,\n 'yummywoowaysoughreallyhhhhhhhhhhhhhhhugeverytoonoalljustnothingbutbetterneedit': 1,\n 'yummywoowaysoughreallyhugevvvvvvvvvvvverytoonoalljustnothingbutbetterneedit': 1,\n 'yummywoowaysoughreallyhugeverytoonoalljustnothingbutbetterneeddddddddddddddit': 1,\n 'yummywoowaysoughreallyhugeverytoonnnnnnnnnnnnnoalljustnothingbutbetterneedit': 1,\n 'yummywoowaysoughreallyhhhhhugeverytoonoalljustnothingbutbetterneedit': 1,\n 'yummywoowaysoughreallyhugeverytoonoalljustnothingbuuuuuuutbetterneedit': 1,\n 'yummywoowaysouuuuuuuuuuuuuuughreallyhugeverytoonoalljustnothingbutbetterneedit': 1,\n 'yummywoowaysoughreallyhugeverytoonoooooooooooalljustnothingbutbetterneedit': 1,\n 'yummywoowaysoughreallyhugevvvvverytoonoalljustnothingbutbetterneedit': 1,\n 'yummywoowaysoughreallyhugeverytoonoooooooooooooooalljustnothingbutbetterneedit': 1,\n 'yummywoowaysoughreallyhugeverytoonoalljustnothingbutbetternnnnnnnnnneedit': 1,\n 'yummywwwwwwwwoowaysoughreallyhugeverytoonoalljustnothingbutbetterneedit': 1,\n 'yummywoowaysoughreallyhugeverytoonoalljustnothingbutbetteerneedit': 1,\n 'yummywoowaysoughreallyhugeverytoonoalljusttttnothingbutbetterneedit': 1,\n 'yummywoowaysoughreallyhugeverytoonnnnnnnoalljustnothingbutbetterneedit': 1,\n 'yummywoowaysoughreallyhugeverytoonoalljustnothingbutbetterneeditttttt': 1,\n 'yummywoowaysoughreallyhugeverytoonoalljustnothingbutbetterrrrrrrrrrrrrrneedit': 1,\n 'yummywoowaysoughreallyhhhhugeverytoonoalljustnothingbutbetterneedit': 1,\n 'yummywoowaysoughreallyhugeverytoonoalljustnnnothingbutbetterneedit': 1,\n 'yummywoowaysssssssssssssssoughreallyhugeverytoonoalljustnothingbutbetterneedit': 1,\n 'yummywoowaysoughreeeeeeeeeeallyhugeverytoonoalljustnothingbutbetterneedit': 1,\n 'yummywoowaysoughreallyhugeverytoonoalljustnotttttttttttttthingbutbetterneedit': 1,\n 'yummywoowaysoughreallyhugeverytoonoalljustnothiiiiiiiiiiiingbutbetterneedit': 1,\n 'yummywoowaaaaaaaaaysoughreallyhugeverytoonoalljustnothingbutbetterneedit': 1,\n 'yummywoowaysoughreallyhugeverytoonoalljustnothingbuuuuuuuuuuuuutbetterneedit': 1,\n 'yummywoowaysoughreallyyyyyyhugeverytoonoalljustnothingbutbetterneedit': 1,\n 'yummywoowaysoughreallyhugevvvvvvvvvvvvvvverytoonoalljustnothingbutbetterneedit': 1,\n 'yummywoowaysoughreallyhugeveeeerytoonoalljustnothingbutbetterneedit': 1,\n 'yuuuummywoowaysoughreallyhugeverytoonoalljustnothingbutbetterneedit': 1,\n 'yummywoowaysoughreallyhugeverytoonoalljustnothingbbbbbbbbbbbbutbetterneedit': 1,\n 'yummywoowayssssssssssssssoughreallyhugeverytoonoalljustnothingbutbetterneedit': 1,\n 'yummywoowaaysoughreallyhugeverytoonoalljustnothingbutbetterneedit': 1,\n 'yummywoowaysouuughreallyhugeverytoonoalljustnothingbutbetterneedit': 1,\n 'yummywoowaysoughreallyhuggggggggggeverytoonoalljustnothingbutbetterneedit': 1,\n 'yummywoowaysoughreallllllllllllyhugeverytoonoalljustnothingbutbetterneedit': 1,\n 'yummywoooowaysoughreallyhugeverytoonoalljustnothingbutbetterneedit': 1,\n 'yummywoowaysoughreallyhugeverytoonoalljustnottttttttttttttthingbutbetterneedit': 1,\n 'yummywoowaysoughrrrrreallyhugeverytoonoalljustnothingbutbetterneedit': 1,\n 'yummywoowaysoughreallyhugeverytoonoalljusssssssssstnothingbutbetterneedit': 1,\n 'yummywoowaysoughreallyhugeverytoonoalljustnothingbutttttttttttttttbetterneedit': 1,\n 'yummywoowaysoughreallyhugeverytoonoalljustnothingbutbeeeeeeeeeeetterneedit': 1,\n 'yummywoowaysoughreallyhugeverytoonoalljustnothingbutbbbbbbbbbbbetterneedit': 1,\n 'yummywoowaysoughreallyhugeverytoonoalljustnothiiiiiiiiiiiiiiingbutbetterneedit': 1,\n 'yummywoowaysoughreallyhugeverytoonoalljustnothingbutbetternnnnnnnnnnnnneedit': 1,\n 'yummywoowayyyyyysoughreallyhugeverytoonoalljustnothingbutbetterneedit': 1,\n 'yummywoowaysoooooooooooooughreallyhugeverytoonoalljustnothingbutbetterneedit': 1,\n 'yummywoowaysssoughreallyhugeverytoonoalljustnothingbutbetterneedit': 1,\n 'yummywoowaysoughreallyhugeeeverytoonoalljustnothingbutbetterneedit': 1,\n 'yummywoowaysoughreallyhugeverytoonoalljustnothiiingbutbetterneedit': 1,\n ...}"
     },
     "execution_count": 11,
     "metadata": {},
     "output_type": "execute_result"
    }
   ],
   "source": [
    "counts_dict = df['emphasized'].value_counts().to_dict()\n",
    "\n",
    "dict(sorted(counts_dict.items(), key=lambda x: x[1], reverse=True))\n",
    "\n"
   ],
   "metadata": {
    "collapsed": false,
    "ExecuteTime": {
     "start_time": "2023-04-23T22:47:27.657344Z",
     "end_time": "2023-04-23T22:47:27.701860Z"
    }
   }
  },
  {
   "cell_type": "code",
   "execution_count": 11,
   "outputs": [],
   "source": [
    "df = df.drop_duplicates(subset=['emphasized'])\n",
    "df.to_csv(\"repeated_letters_words_clean_v4.csv\")"
   ],
   "metadata": {
    "collapsed": false,
    "ExecuteTime": {
     "start_time": "2023-04-06T05:34:50.768308Z",
     "end_time": "2023-04-06T05:34:51.130464Z"
    }
   }
  },
  {
   "cell_type": "code",
   "execution_count": null,
   "outputs": [],
   "source": [],
   "metadata": {
    "collapsed": false
   }
  },
  {
   "cell_type": "code",
   "execution_count": null,
   "outputs": [],
   "source": [],
   "metadata": {
    "collapsed": false
   }
  },
  {
   "cell_type": "code",
   "execution_count": 323,
   "id": "c7ca9d72",
   "metadata": {},
   "outputs": [],
   "source": [
    "# words = [\"like\", \"beautiful\", \"love\"]  # , \"beautiful\", \"love\"\n",
    "\n",
    "words = [\n",
    "    {\"word\": \"like\", \"sentiment\": 1},\n",
    "    {\"word\": \"beautiful\", \"sentiment\": 1},\n",
    "    {\"word\": \"love\", \"sentiment\": 1},\n",
    "    {\"word\": \"cool\", \"sentiment\": 1},\n",
    "    {\"word\": \"pretty\", \"sentiment\": 1},\n",
    "    {\"word\": \"nice\", \"sentiment\": 1},\n",
    "    \n",
    "    {\"word\": \"bad\", \"sentiment\": -1},\n",
    "    {\"word\": \"no\", \"sentiment\": -1},\n",
    "    {\"word\": \"shit\", \"sentiment\": -1},\n",
    "    {\"word\": \"fuck\", \"sentiment\": -1},\n",
    "    {\"word\": \"nasty\", \"sentiment\": -1},\n",
    "    {\"word\": \"hell\", \"sentiment\": -1}\n",
    "]\n",
    "\n",
    "# {\"word\": \"perfect\", \"sentiment\": 1},\n",
    "#     {\"word\": \"excellent\", \"sentiment\": 1},\n",
    "#     {\"word\": \"great\", \"sentiment\": 1},\n",
    "\n",
    "dataset = []"
   ]
  },
  {
   "cell_type": "code",
   "execution_count": 324,
   "id": "14e32932",
   "metadata": {},
   "outputs": [],
   "source": [
    "for word_dict in words:\n",
    "    \n",
    "    word = word_dict[\"word\"]\n",
    "    sentiment = word_dict[\"sentiment\"]\n",
    "    \n",
    "    for num in range(10000):\n",
    "    \n",
    "        new_word = \"\"\n",
    "        \n",
    "        repeat_letter_index = random.randint(0, len(word)-1)\n",
    "\n",
    "        repeat_letter = word[repeat_letter_index]\n",
    "\n",
    "        repeat_count = random.randint(2, 15)\n",
    "\n",
    "        for x in range(0, len(word)):\n",
    "            if(x == repeat_letter_index):\n",
    "                new_word += repeat_letter * repeat_count\n",
    "            else:\n",
    "                new_word += word[x]\n",
    "\n",
    "        dataset.append({\"emphasized\": new_word, \"actual\": word, \"sentiment\": sentiment})"
   ]
  },
  {
   "cell_type": "code",
   "execution_count": 325,
   "id": "46841493",
   "metadata": {},
   "outputs": [],
   "source": [
    "df = pd.DataFrame.from_dict(dataset)"
   ]
  },
  {
   "cell_type": "code",
   "execution_count": 326,
   "id": "b00bd2b3",
   "metadata": {},
   "outputs": [],
   "source": [
    "df.to_csv(\"data_v8.csv\")"
   ]
  },
  {
   "cell_type": "code",
   "execution_count": null,
   "id": "79e443c1",
   "metadata": {},
   "outputs": [],
   "source": []
  },
  {
   "cell_type": "code",
   "execution_count": 288,
   "id": "026f5c92",
   "metadata": {},
   "outputs": [],
   "source": [
    "\n",
    "        \n",
    "        \n",
    "# for word_dict in words:\n",
    "    \n",
    "#     word = word_dict[\"word\"]\n",
    "    \n",
    "#     for num in range(5):\n",
    "    \n",
    "#         new_word = \"\"\n",
    "        \n",
    "#         for n in range(5):\n",
    "            \n",
    "            \n",
    "#             repeat_letter_index = random.randint(0, len(word)-1)\n",
    "\n",
    "#             repeat_letter = word[repeat_letter_index]\n",
    "\n",
    "#             repeat_count = random.randint(2, 15)\n",
    "\n",
    "#             for x in range(0, len(word)):\n",
    "#                 if(x == repeat_letter_index):\n",
    "#                     new_word += repeat_letter * repeat_count\n",
    "#                 else:\n",
    "#                     new_word += word[x]\n",
    "\n",
    "#             dataset.append({\"emphasized\": new_word, \"actual\": word, \"sentiment\": sentiment})\n",
    "\n",
    "#     for num in range(2, 50):\n",
    "\n",
    "        \n",
    "        \n",
    "\n",
    "#     for word_item in word_dict.items():    \n",
    "        \n",
    "    \n",
    "# for word in words:\n",
    "    \n",
    "#     for num in range(2, 50):\n",
    "        \n",
    "#         new_word = \"\"\n",
    "\n",
    "#         repeat_letter_index = random.randint(0, len(word)-1)\n",
    "\n",
    "#         repeat_letter = word[repeat_letter_index]\n",
    "\n",
    "#         repeat_count = random.randint(2, 15)\n",
    "\n",
    "#         for x in range(0, len(word)):\n",
    "#             if(x == repeat_letter_index):\n",
    "#                 new_word += repeat_letter * repeat_count\n",
    "#             else:\n",
    "#                 new_word += word[x] \n",
    "\n",
    "#         dataset.append({\"emphasized\": new_word, actual: word, sentiment : })\n",
    "\n",
    "    \n",
    "    \n",
    "    \n",
    "#     print(random.choices(word))\n",
    "\n",
    "#     for letter in word:\n",
    "        \n",
    "#         print(letter)\n",
    "#     print(len(word))\n",
    "    \n",
    "# for x in range(6):\n",
    "#     print(x)"
   ]
  },
  {
   "cell_type": "code",
   "execution_count": 289,
   "id": "c691859e",
   "metadata": {},
   "outputs": [
    {
     "data": {
      "text/plain": [
       "[{'emphasized': 'likeeeeeeee', 'actual': 'like', 'sentiment': 1},\n",
       " {'emphasized': 'likeeee', 'actual': 'like', 'sentiment': 1},\n",
       " {'emphasized': 'lllllllike', 'actual': 'like', 'sentiment': 1},\n",
       " {'emphasized': 'likeeeeeeeeeeeeee', 'actual': 'like', 'sentiment': 1},\n",
       " {'emphasized': 'lllllllike', 'actual': 'like', 'sentiment': 1}]"
      ]
     },
     "execution_count": 289,
     "metadata": {},
     "output_type": "execute_result"
    }
   ],
   "source": [
    "dataset"
   ]
  },
  {
   "cell_type": "code",
   "execution_count": 284,
   "id": "87167ec6",
   "metadata": {},
   "outputs": [
    {
     "data": {
      "text/plain": [
       "[{'emphasized': 'liiiiiiiiiiiiiike', 'actual': 'like', 'sentiment': 1},\n",
       " {'emphasized': 'liike', 'actual': 'like', 'sentiment': 1},\n",
       " {'emphasized': 'lllllike', 'actual': 'like', 'sentiment': 1},\n",
       " {'emphasized': 'likee', 'actual': 'like', 'sentiment': 1},\n",
       " {'emphasized': 'likkkkkkkkkkkkkke', 'actual': 'like', 'sentiment': 1},\n",
       " {'emphasized': 'likeeeeeeeeeeee', 'actual': 'like', 'sentiment': 1},\n",
       " {'emphasized': 'llllllllllllllike', 'actual': 'like', 'sentiment': 1},\n",
       " {'emphasized': 'llllllllike', 'actual': 'like', 'sentiment': 1},\n",
       " {'emphasized': 'liiike', 'actual': 'like', 'sentiment': 1},\n",
       " {'emphasized': 'likeeeeeeee', 'actual': 'like', 'sentiment': 1},\n",
       " {'emphasized': 'likeeeee', 'actual': 'like', 'sentiment': 1},\n",
       " {'emphasized': 'llllllllike', 'actual': 'like', 'sentiment': 1},\n",
       " {'emphasized': 'liiiiiiiiiiike', 'actual': 'like', 'sentiment': 1},\n",
       " {'emphasized': 'llllllllllike', 'actual': 'like', 'sentiment': 1},\n",
       " {'emphasized': 'likeeeeeeee', 'actual': 'like', 'sentiment': 1},\n",
       " {'emphasized': 'likkkkkkke', 'actual': 'like', 'sentiment': 1},\n",
       " {'emphasized': 'likeeee', 'actual': 'like', 'sentiment': 1},\n",
       " {'emphasized': 'lllllllike', 'actual': 'like', 'sentiment': 1},\n",
       " {'emphasized': 'likkkke', 'actual': 'like', 'sentiment': 1},\n",
       " {'emphasized': 'likkkke', 'actual': 'like', 'sentiment': 1},\n",
       " {'emphasized': 'liiiiiiiiiiiike', 'actual': 'like', 'sentiment': 1},\n",
       " {'emphasized': 'likeeeee', 'actual': 'like', 'sentiment': 1},\n",
       " {'emphasized': 'likkkkkkkkkkkkkkke', 'actual': 'like', 'sentiment': 1},\n",
       " {'emphasized': 'likeeeee', 'actual': 'like', 'sentiment': 1},\n",
       " {'emphasized': 'liiiiiike', 'actual': 'like', 'sentiment': 1},\n",
       " {'emphasized': 'liiiiiiiike', 'actual': 'like', 'sentiment': 1},\n",
       " {'emphasized': 'lllllllike', 'actual': 'like', 'sentiment': 1},\n",
       " {'emphasized': 'likeeeeeeee', 'actual': 'like', 'sentiment': 1},\n",
       " {'emphasized': 'likkke', 'actual': 'like', 'sentiment': 1},\n",
       " {'emphasized': 'likkkke', 'actual': 'like', 'sentiment': 1},\n",
       " {'emphasized': 'likeeeeeeee', 'actual': 'like', 'sentiment': 1},\n",
       " {'emphasized': 'likeeeeeeeeeee', 'actual': 'like', 'sentiment': 1},\n",
       " {'emphasized': 'liiiiiiiiiiiiiiike', 'actual': 'like', 'sentiment': 1},\n",
       " {'emphasized': 'liiiiiiiiiike', 'actual': 'like', 'sentiment': 1},\n",
       " {'emphasized': 'liiiiiiiiiiiike', 'actual': 'like', 'sentiment': 1},\n",
       " {'emphasized': 'liiiiiiiiiiiiike', 'actual': 'like', 'sentiment': 1},\n",
       " {'emphasized': 'lllllllllllllike', 'actual': 'like', 'sentiment': 1},\n",
       " {'emphasized': 'liiiiiiiike', 'actual': 'like', 'sentiment': 1},\n",
       " {'emphasized': 'likeeeeeee', 'actual': 'like', 'sentiment': 1},\n",
       " {'emphasized': 'likkkkkkkkkkkkke', 'actual': 'like', 'sentiment': 1}]"
      ]
     },
     "execution_count": 284,
     "metadata": {},
     "output_type": "execute_result"
    }
   ],
   "source": [
    "dataset"
   ]
  },
  {
   "cell_type": "code",
   "execution_count": null,
   "id": "16a8a384",
   "metadata": {},
   "outputs": [],
   "source": []
  },
  {
   "cell_type": "code",
   "execution_count": null,
   "id": "e645f34e",
   "metadata": {},
   "outputs": [],
   "source": []
  }
 ],
 "metadata": {
  "kernelspec": {
   "display_name": "Python 3 (ipykernel)",
   "language": "python",
   "name": "python3"
  },
  "language_info": {
   "codemirror_mode": {
    "name": "ipython",
    "version": 3
   },
   "file_extension": ".py",
   "mimetype": "text/x-python",
   "name": "python",
   "nbconvert_exporter": "python",
   "pygments_lexer": "ipython3",
   "version": "3.9.13"
  }
 },
 "nbformat": 4,
 "nbformat_minor": 5
}
