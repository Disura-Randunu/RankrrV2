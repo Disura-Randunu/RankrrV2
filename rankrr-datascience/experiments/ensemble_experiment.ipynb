{
 "cells": [
  {
   "cell_type": "code",
   "execution_count": null,
   "outputs": [],
   "source": [
    "from sklearn.feature_extraction.text import CountVectorizer, TfidfTransformer\n",
    "from sklearn.model_selection import train_test_split, GridSearchCV\n",
    "from sklearn.pipeline import Pipeline\n",
    "from sklearn.metrics import classification_report, confusion_matrix, accuracy_score\n",
    "from sklearn.naive_bayes import MultinomialNB\n",
    "from sklearn.tree import DecisionTreeClassifier\n",
    "from sklearn.ensemble import RandomForestClassifier\n",
    "from sklearn.svm import SVC\n",
    "from sklearn.neighbors import KNeighborsClassifier\n",
    "from sklearn.ensemble import VotingClassifier\n",
    "\n",
    "nb_pipeline = Pipeline([\n",
    "    ('vect', CountVectorizer(analyzer='char')),\n",
    "    ('tfidf', TfidfTransformer()),\n",
    "    ('clf', MultinomialNB())\n",
    "])\n",
    "\n",
    "dt_pipeline = Pipeline([\n",
    "    ('vect', CountVectorizer(analyzer='char')),\n",
    "    ('tfidf', TfidfTransformer()),\n",
    "    ('clf', DecisionTreeClassifier())\n",
    "])\n",
    "\n",
    "rf_pipeline = Pipeline([\n",
    "    ('vect', CountVectorizer(analyzer='char')),\n",
    "    ('tfidf', TfidfTransformer()),\n",
    "    ('clf', RandomForestClassifier())\n",
    "])\n",
    "\n",
    "svc_pipeline = Pipeline([\n",
    "    ('vect', CountVectorizer(analyzer='char')),\n",
    "    ('tfidf', TfidfTransformer()),\n",
    "    ('clf', SVC())\n",
    "])\n",
    "\n",
    "knn_pipeline = Pipeline([\n",
    "    ('vect', CountVectorizer(analyzer='char')),\n",
    "    ('tfidf', TfidfTransformer()),\n",
    "    ('clf', KNeighborsClassifier())\n",
    "])\n",
    "\n",
    "ensemble = VotingClassifier(estimators=[\n",
    "    ('nb', nb_pipeline),\n",
    "    ('dt', dt_pipeline),\n",
    "    ('rf', rf_pipeline),\n",
    "    ('svc', svc_pipeline),\n",
    "    ('knn', knn_pipeline)\n",
    "], voting='hard')\n",
    "\n",
    "X_train, X_test, y_train, y_test = train_test_split(df['emphasized'], df['actual'], test_size=0.1, random_state=42)\n",
    "\n",
    "ensemble.fit(X_train, y_train)\n",
    "\n",
    "y_pred = ensemble.predict(X_test)\n",
    "\n",
    "print(\"Classification Report:\\n\", classification_report(y_test, y_pred))\n",
    "print(\"Confusion Matrix:\\n\", confusion_matrix(y_test, y_pred))\n",
    "print(\"Accuracy Score:\", accuracy_score(y_test, y_pred))\n"
   ],
   "metadata": {
    "collapsed": false
   }
  },
  {
   "cell_type": "code",
   "execution_count": null,
   "outputs": [],
   "source": [
    "ensemble.predict([\"waay\"])[0]\n",
    "\n",
    "import pickle\n",
    "with open('model_ensemble_v1.pkl', 'wb') as file:\n",
    "    pickle.dump(ensemble, file)\n",
    "\n",
    "with open('model_ensemble_v1.pkl', 'rb') as file:\n",
    "    model = pickle.load(file)\n"
   ],
   "metadata": {
    "collapsed": false
   }
  }
 ],
 "metadata": {
  "kernelspec": {
   "display_name": "Python 3",
   "language": "python",
   "name": "python3"
  },
  "language_info": {
   "codemirror_mode": {
    "name": "ipython",
    "version": 2
   },
   "file_extension": ".py",
   "mimetype": "text/x-python",
   "name": "python",
   "nbconvert_exporter": "python",
   "pygments_lexer": "ipython2",
   "version": "2.7.6"
  }
 },
 "nbformat": 4,
 "nbformat_minor": 0
}
