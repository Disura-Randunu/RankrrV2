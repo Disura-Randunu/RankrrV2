{
 "cells": [
  {
   "cell_type": "code",
   "execution_count": 1,
   "metadata": {
    "collapsed": true
   },
   "outputs": [
    {
     "ename": "ValueError",
     "evalue": "invalid literal for int() with base 10: 'good'",
     "output_type": "error",
     "traceback": [
      "\u001B[1;31m---------------------------------------------------------------------------\u001B[0m",
      "\u001B[1;31mValueError\u001B[0m                                Traceback (most recent call last)",
      "\u001B[1;32m~\\AppData\\Local\\Temp\\ipykernel_26924\\3022567532.py\u001B[0m in \u001B[0;36m<module>\u001B[1;34m\u001B[0m\n\u001B[0;32m     42\u001B[0m \u001B[1;33m\u001B[0m\u001B[0m\n\u001B[0;32m     43\u001B[0m \u001B[1;31m# train the model\u001B[0m\u001B[1;33m\u001B[0m\u001B[1;33m\u001B[0m\u001B[0m\n\u001B[1;32m---> 44\u001B[1;33m \u001B[0mmodel\u001B[0m\u001B[1;33m.\u001B[0m\u001B[0mfit\u001B[0m\u001B[1;33m(\u001B[0m\u001B[0mpadded_sequences\u001B[0m\u001B[1;33m,\u001B[0m \u001B[0mtf\u001B[0m\u001B[1;33m.\u001B[0m\u001B[0mkeras\u001B[0m\u001B[1;33m.\u001B[0m\u001B[0mutils\u001B[0m\u001B[1;33m.\u001B[0m\u001B[0mto_categorical\u001B[0m\u001B[1;33m(\u001B[0m\u001B[0mactual_word_list\u001B[0m\u001B[1;33m)\u001B[0m\u001B[1;33m,\u001B[0m \u001B[0mepochs\u001B[0m\u001B[1;33m=\u001B[0m\u001B[1;36m10\u001B[0m\u001B[1;33m,\u001B[0m \u001B[0mbatch_size\u001B[0m\u001B[1;33m=\u001B[0m\u001B[1;36m16\u001B[0m\u001B[1;33m)\u001B[0m\u001B[1;33m\u001B[0m\u001B[1;33m\u001B[0m\u001B[0m\n\u001B[0m\u001B[0;32m     45\u001B[0m \u001B[1;33m\u001B[0m\u001B[0m\n\u001B[0;32m     46\u001B[0m \u001B[1;31m# use the model to predict the actual word for a repeating word\u001B[0m\u001B[1;33m\u001B[0m\u001B[1;33m\u001B[0m\u001B[0m\n",
      "\u001B[1;32m~\\anaconda3\\envs\\base_clone\\lib\\site-packages\\keras\\utils\\np_utils.py\u001B[0m in \u001B[0;36mto_categorical\u001B[1;34m(y, num_classes, dtype)\u001B[0m\n\u001B[0;32m     60\u001B[0m     \u001B[1;33m[\u001B[0m\u001B[1;36m0.\u001B[0m \u001B[1;36m0.\u001B[0m \u001B[1;36m0.\u001B[0m \u001B[1;36m0.\u001B[0m\u001B[1;33m]\u001B[0m\u001B[1;33m\u001B[0m\u001B[1;33m\u001B[0m\u001B[0m\n\u001B[0;32m     61\u001B[0m     \"\"\"\n\u001B[1;32m---> 62\u001B[1;33m     \u001B[0my\u001B[0m \u001B[1;33m=\u001B[0m \u001B[0mnp\u001B[0m\u001B[1;33m.\u001B[0m\u001B[0marray\u001B[0m\u001B[1;33m(\u001B[0m\u001B[0my\u001B[0m\u001B[1;33m,\u001B[0m \u001B[0mdtype\u001B[0m\u001B[1;33m=\u001B[0m\u001B[1;34m\"int\"\u001B[0m\u001B[1;33m)\u001B[0m\u001B[1;33m\u001B[0m\u001B[1;33m\u001B[0m\u001B[0m\n\u001B[0m\u001B[0;32m     63\u001B[0m     \u001B[0minput_shape\u001B[0m \u001B[1;33m=\u001B[0m \u001B[0my\u001B[0m\u001B[1;33m.\u001B[0m\u001B[0mshape\u001B[0m\u001B[1;33m\u001B[0m\u001B[1;33m\u001B[0m\u001B[0m\n\u001B[0;32m     64\u001B[0m \u001B[1;33m\u001B[0m\u001B[0m\n",
      "\u001B[1;31mValueError\u001B[0m: invalid literal for int() with base 10: 'good'"
     ]
    }
   ],
   "source": [
    "import tensorflow as tf\n",
    "from tensorflow.keras.preprocessing.text import Tokenizer\n",
    "from tensorflow.keras.preprocessing.sequence import pad_sequences\n",
    "from tensorflow.keras.layers import LSTM, Dense, Embedding, Dropout\n",
    "from tensorflow.keras.models import Sequential\n",
    "\n",
    "# create a dictionary of words with repeating letters and their corresponding actual word\n",
    "repeating_words = {'goooood': 'good', 'hooome': 'home', 'reeed': 'red', 'coool': 'cool'}\n",
    "\n",
    "# create lists of repeating words and their corresponding actual words\n",
    "repeating_word_list = list(repeating_words.keys())\n",
    "actual_word_list = list(repeating_words.values())\n",
    "\n",
    "# tokenize the repeating word list\n",
    "tokenizer = Tokenizer(char_level=True)\n",
    "tokenizer.fit_on_texts(repeating_word_list)\n",
    "sequences = tokenizer.texts_to_sequences(repeating_word_list)\n",
    "\n",
    "# pad the sequences to have the same length\n",
    "max_length = max([len(seq) for seq in sequences])\n",
    "padded_sequences = pad_sequences(sequences, maxlen=max_length, padding='post')\n",
    "\n",
    "# create a sequential model\n",
    "model = Sequential()\n",
    "\n",
    "# add an embedding layer to learn the context of the words\n",
    "model.add(Embedding(input_dim=len(tokenizer.word_index)+1, output_dim=16, input_length=max_length))\n",
    "\n",
    "# add a LSTM layer to capture the sequence of the letters in the word\n",
    "model.add(LSTM(32, return_sequences=True))\n",
    "model.add(Dropout(0.2))\n",
    "\n",
    "# add another LSTM layer to further capture the sequence of the letters\n",
    "model.add(LSTM(32))\n",
    "model.add(Dropout(0.2))\n",
    "\n",
    "# add a dense output layer with softmax activation to predict the actual word\n",
    "model.add(Dense(len(actual_word_list), activation='softmax'))\n",
    "\n",
    "# compile the model\n",
    "model.compile(loss='categorical_crossentropy', optimizer='adam', metrics=['accuracy'])\n",
    "\n",
    "# train the model\n",
    "model.fit(padded_sequences, tf.keras.utils.to_categorical(actual_word_list), epochs=10, batch_size=16)\n",
    "\n",
    "# use the model to predict the actual word for a repeating word\n",
    "test_word = 'goooood'\n",
    "test_sequence = tokenizer.texts_to_sequences([test_word])\n",
    "test_padded_sequence = pad_sequences(test_sequence, maxlen=max_length, padding='post')\n",
    "predicted_index = model.predict_classes(test_padded_sequence)\n",
    "predicted_word = actual_word_list[predicted_index[0]]\n",
    "print(f'Predicted actual word for {test_word}: {predicted_word}')"
   ]
  },
  {
   "cell_type": "code",
   "execution_count": 3,
   "outputs": [
    {
     "ename": "ValueError",
     "evalue": "invalid literal for int() with base 10: 'good'",
     "output_type": "error",
     "traceback": [
      "\u001B[1;31m---------------------------------------------------------------------------\u001B[0m",
      "\u001B[1;31mValueError\u001B[0m                                Traceback (most recent call last)",
      "\u001B[1;32m~\\AppData\\Local\\Temp\\ipykernel_26924\\1120489059.py\u001B[0m in \u001B[0;36m<module>\u001B[1;34m\u001B[0m\n\u001B[0;32m     27\u001B[0m \u001B[1;33m\u001B[0m\u001B[0m\n\u001B[0;32m     28\u001B[0m \u001B[0mmodel\u001B[0m\u001B[1;33m.\u001B[0m\u001B[0mcompile\u001B[0m\u001B[1;33m(\u001B[0m\u001B[0mloss\u001B[0m\u001B[1;33m=\u001B[0m\u001B[1;34m'categorical_crossentropy'\u001B[0m\u001B[1;33m,\u001B[0m \u001B[0moptimizer\u001B[0m\u001B[1;33m=\u001B[0m\u001B[1;34m'adam'\u001B[0m\u001B[1;33m,\u001B[0m \u001B[0mmetrics\u001B[0m\u001B[1;33m=\u001B[0m\u001B[1;33m[\u001B[0m\u001B[1;34m'accuracy'\u001B[0m\u001B[1;33m]\u001B[0m\u001B[1;33m)\u001B[0m\u001B[1;33m\u001B[0m\u001B[1;33m\u001B[0m\u001B[0m\n\u001B[1;32m---> 29\u001B[1;33m \u001B[0mmodel\u001B[0m\u001B[1;33m.\u001B[0m\u001B[0mfit\u001B[0m\u001B[1;33m(\u001B[0m\u001B[0mpadded_sequences\u001B[0m\u001B[1;33m,\u001B[0m \u001B[0mtf\u001B[0m\u001B[1;33m.\u001B[0m\u001B[0mkeras\u001B[0m\u001B[1;33m.\u001B[0m\u001B[0mutils\u001B[0m\u001B[1;33m.\u001B[0m\u001B[0mto_categorical\u001B[0m\u001B[1;33m(\u001B[0m\u001B[0mactual_word_list\u001B[0m\u001B[1;33m)\u001B[0m\u001B[1;33m,\u001B[0m \u001B[0mepochs\u001B[0m\u001B[1;33m=\u001B[0m\u001B[1;36m10\u001B[0m\u001B[1;33m,\u001B[0m \u001B[0mbatch_size\u001B[0m\u001B[1;33m=\u001B[0m\u001B[1;36m16\u001B[0m\u001B[1;33m)\u001B[0m\u001B[1;33m\u001B[0m\u001B[1;33m\u001B[0m\u001B[0m\n\u001B[0m\u001B[0;32m     30\u001B[0m \u001B[1;33m\u001B[0m\u001B[0m\n\u001B[0;32m     31\u001B[0m \u001B[0mtest_word\u001B[0m \u001B[1;33m=\u001B[0m \u001B[1;34m'goooood'\u001B[0m\u001B[1;33m\u001B[0m\u001B[1;33m\u001B[0m\u001B[0m\n",
      "\u001B[1;32m~\\anaconda3\\envs\\base_clone\\lib\\site-packages\\keras\\utils\\np_utils.py\u001B[0m in \u001B[0;36mto_categorical\u001B[1;34m(y, num_classes, dtype)\u001B[0m\n\u001B[0;32m     60\u001B[0m     \u001B[1;33m[\u001B[0m\u001B[1;36m0.\u001B[0m \u001B[1;36m0.\u001B[0m \u001B[1;36m0.\u001B[0m \u001B[1;36m0.\u001B[0m\u001B[1;33m]\u001B[0m\u001B[1;33m\u001B[0m\u001B[1;33m\u001B[0m\u001B[0m\n\u001B[0;32m     61\u001B[0m     \"\"\"\n\u001B[1;32m---> 62\u001B[1;33m     \u001B[0my\u001B[0m \u001B[1;33m=\u001B[0m \u001B[0mnp\u001B[0m\u001B[1;33m.\u001B[0m\u001B[0marray\u001B[0m\u001B[1;33m(\u001B[0m\u001B[0my\u001B[0m\u001B[1;33m,\u001B[0m \u001B[0mdtype\u001B[0m\u001B[1;33m=\u001B[0m\u001B[1;34m\"int\"\u001B[0m\u001B[1;33m)\u001B[0m\u001B[1;33m\u001B[0m\u001B[1;33m\u001B[0m\u001B[0m\n\u001B[0m\u001B[0;32m     63\u001B[0m     \u001B[0minput_shape\u001B[0m \u001B[1;33m=\u001B[0m \u001B[0my\u001B[0m\u001B[1;33m.\u001B[0m\u001B[0mshape\u001B[0m\u001B[1;33m\u001B[0m\u001B[1;33m\u001B[0m\u001B[0m\n\u001B[0;32m     64\u001B[0m \u001B[1;33m\u001B[0m\u001B[0m\n",
      "\u001B[1;31mValueError\u001B[0m: invalid literal for int() with base 10: 'good'"
     ]
    }
   ],
   "source": [
    "repeating_words = {'good': ['goooood', 'gggood', 'gud'],\n",
    "                   'home': ['hooome', 'hooom', 'hoome'],\n",
    "                   'red': ['reeed', 'rrred', 'rd'],\n",
    "                   'cool': ['coool', 'ccool', 'kool']}\n",
    "\n",
    "repeating_word_list = []\n",
    "actual_word_list = []\n",
    "\n",
    "for actual_word, repeating_words in repeating_words.items():\n",
    "    repeating_word_list += repeating_words\n",
    "    actual_word_list += [actual_word] * len(repeating_words)\n",
    "\n",
    "tokenizer = Tokenizer(char_level=True)\n",
    "tokenizer.fit_on_texts(repeating_word_list)\n",
    "sequences = tokenizer.texts_to_sequences(repeating_word_list)\n",
    "\n",
    "max_length = max([len(seq) for seq in sequences])\n",
    "padded_sequences = pad_sequences(sequences, maxlen=max_length, padding='post')\n",
    "\n",
    "model = Sequential()\n",
    "model.add(Embedding(input_dim=len(tokenizer.word_index)+1, output_dim=16, input_length=max_length))\n",
    "model.add(LSTM(32, return_sequences=True))\n",
    "model.add(Dropout(0.2))\n",
    "model.add(LSTM(32))\n",
    "model.add(Dropout(0.2))\n",
    "model.add(Dense(len(set(actual_word_list)), activation='softmax'))\n",
    "\n",
    "model.compile(loss='categorical_crossentropy', optimizer='adam', metrics=['accuracy'])\n",
    "model.fit(padded_sequences, tf.keras.utils.to_categorical(actual_word_list), epochs=10, batch_size=16)\n",
    "\n",
    "test_word = 'goooood'\n",
    "test_sequence = tokenizer.texts_to_sequences([test_word])\n",
    "test_padded_sequence = pad_sequences(test_sequence, maxlen=max_length, padding='post')\n",
    "predicted_index = model.predict_classes(test_padded_sequence)\n",
    "predicted_word = list(set(actual_word_list))[predicted_index[0]]\n",
    "print(f'Predicted actual word for {test_word}: {predicted_word}')\n"
   ],
   "metadata": {
    "collapsed": false
   }
  },
  {
   "cell_type": "code",
   "execution_count": 29,
   "outputs": [
    {
     "name": "stdout",
     "output_type": "stream",
     "text": [
      "{'likkkkkkkkkkkkke': 'like', 'llllllike': 'like', 'llllllllllike': 'like', 'liiiiiiiiiiiike': 'like', 'likeeeeeeeeee': 'like', 'likkkkkke': 'like', 'likkkkkkkkkke': 'like', 'llllllllllllike': 'like', 'lllike': 'like', 'liike': 'like', 'likkkkkkkkke': 'like', 'likkkkkkkke': 'like', 'likeeeeeeeee': 'like', 'likkkke': 'like', 'likeeeeeee': 'like', 'liiiiiiiiiiiiiiike': 'like', 'lllllllllllllllike': 'like', 'liiiiiiiiiike': 'like', 'lllllllllllike': 'like', 'likkkkkkkkkkkkkke': 'like', 'likkkkke': 'like', 'likeeeeee': 'like', 'liiiike': 'like', 'likeeeeeeeeeeeee': 'like', 'llllike': 'like', 'likkkkkkkkkkkke': 'like', 'likeeeeeeeeeee': 'like', 'liiiiiiiiike': 'like', 'liiiiiiiiiiiiike': 'like', 'liiiiiiiike': 'like', 'liiiiiiiiiiiiiike': 'like', 'lllllllllike': 'like', 'likeee': 'like', 'liiiiiiiiiiike': 'like', 'likkke': 'like', 'likeeeeeeeeeeee': 'like', 'likke': 'like', 'likeeeeeeeeeeeeee': 'like', 'liiiiiiike': 'like', 'liiiiike': 'like', 'likkkkkkkkkkkkkkke': 'like', 'lllllllllllllike': 'like', 'likkkkkkke': 'like', 'lllllike': 'like', 'llllllllike': 'like', 'llllllllllllllike': 'like', 'likeeeeeeeeeeeeeee': 'like', 'likeeeeeeee': 'like', 'likee': 'like', 'lllllllike': 'like', 'llike': 'like', 'liiiiiike': 'like', 'likeeeee': 'like', 'likeeee': 'like', 'likkkkkkkkkkke': 'like', 'liiike': 'like', 'beaaautiful': 'beautiful', 'beeeeeeeeeeeeeautiful': 'beautiful', 'beaaaaaaaaaaaautiful': 'beautiful', 'beeeeeeeeautiful': 'beautiful', 'beautiffffffffffffffful': 'beautiful', 'bbbbbbeautiful': 'beautiful', 'beaaaaaaautiful': 'beautiful', 'beautifullllllllllllll': 'beautiful', 'beautifffffffful': 'beautiful', 'beautttttttttiful': 'beautiful', 'beautifuuuuuuuuuuuuuul': 'beautiful', 'beautiiiiiiiiiful': 'beautiful', 'beautiffffffffffful': 'beautiful', 'beautiffffffffffffful': 'beautiful', 'beeeeeeeeeautiful': 'beautiful', 'beautifull': 'beautiful', 'beauuuuuuuuuuuutiful': 'beautiful', 'beautifuuuuuul': 'beautiful', 'beautiiiiiiiful': 'beautiful', 'beautifullllllll': 'beautiful', 'beauttiful': 'beautiful', 'beauuutiful': 'beautiful', 'beauuuuuuuuuuuuutiful': 'beautiful', 'beautifuuul': 'beautiful', 'bbbbbbbbbbbbbeautiful': 'beautiful', 'beauttttttttttttttiful': 'beautiful', 'beautiiiiiiiiiiiiful': 'beautiful', 'beauuuuutiful': 'beautiful', 'beautifuuuuul': 'beautiful', 'beautifuuuul': 'beautiful', 'beautttttiful': 'beautiful', 'beautifulll': 'beautiful', 'beautttttttttttttttiful': 'beautiful', 'beauuuuuuuuuuutiful': 'beautiful', 'beaaaaaaaaaaautiful': 'beautiful', 'beautifuuuuuuuul': 'beautiful', 'beautttttttttttttiful': 'beautiful', 'beeeeeeautiful': 'beautiful', 'beeeeeeeeeeeeeeautiful': 'beautiful', 'beeeeautiful': 'beautiful', 'bbeautiful': 'beautiful', 'bbbbbbbbbbbeautiful': 'beautiful', 'beeeeeeeeeeeautiful': 'beautiful', 'beautiiiiiiiiful': 'beautiful', 'beeeeeeeeeeeeeeeautiful': 'beautiful', 'beautifulllll': 'beautiful', 'beautiiiiiiiiiiful': 'beautiful', 'bbbbbbbbbbbbeautiful': 'beautiful', 'beautifulllllllllllll': 'beautiful', 'beautiiiiful': 'beautiful', 'beautifullllll': 'beautiful', 'beautifulllllllllllllll': 'beautiful', 'bbbbbbbbbbeautiful': 'beautiful', 'beauttttttiful': 'beautiful', 'beautiiiiiful': 'beautiful', 'beautifulllllll': 'beautiful', 'beauttttttttttiful': 'beautiful', 'beautttttttttttiful': 'beautiful', 'beauuuuuuuuutiful': 'beautiful', 'beaaaaaaaaaaaaautiful': 'beautiful', 'beauuuuuuuuuutiful': 'beautiful', 'beautiiiful': 'beautiful', 'beaaaaaaaaaaaaaautiful': 'beautiful', 'beaaaautiful': 'beautiful', 'bbbbbbbbbeautiful': 'beautiful', 'bbbbbbbbbbbbbbbeautiful': 'beautiful', 'beautiiiiiiiiiiiiiiful': 'beautiful', 'beauuuuuuuuuuuuuutiful': 'beautiful', 'beautifuuuuuuuuuuuuul': 'beautiful', 'beeeeeeeeeeeeautiful': 'beautiful', 'beauuuuuuutiful': 'beautiful', 'beauttttttttiful': 'beautiful', 'bbbeautiful': 'beautiful', 'beautifullllllllllll': 'beautiful', 'beaaaaaautiful': 'beautiful', 'beautiiiiiiiiiiiful': 'beautiful', 'beaaaaaaaaaaaaaaautiful': 'beautiful', 'beautifuul': 'beautiful', 'beauutiful': 'beautiful', 'beauttttiful': 'beautiful', 'beautiiiiiiiiiiiiiiiful': 'beautiful', 'beautiffffffffful': 'beautiful', 'beautttttttiful': 'beautiful', 'beauuuuuuuutiful': 'beautiful', 'beautiffful': 'beautiful', 'beautifuuuuuuuuuul': 'beautiful', 'beautifffffffffffffful': 'beautiful', 'beautifffful': 'beautiful', 'bbbbbbbbeautiful': 'beautiful', 'beaaaaaaaautiful': 'beautiful', 'beauuuuuuuuuuuuuuutiful': 'beautiful', 'beautifffffful': 'beautiful', 'beautttiful': 'beautiful', 'beeeeeeeautiful': 'beautiful', 'beauuuuuutiful': 'beautiful', 'beautifulllllllllll': 'beautiful', 'bbbbbbbeautiful': 'beautiful', 'beaautiful': 'beautiful', 'beeeeeeeeeeautiful': 'beautiful', 'beaaaaaaaaautiful': 'beautiful', 'beauttttttttttttiful': 'beautiful', 'beautifuuuuuuul': 'beautiful', 'beautifuuuuuuuuuuul': 'beautiful', 'beauuuutiful': 'beautiful', 'beautifuuuuuuuuuuuul': 'beautiful', 'beautifullllllllll': 'beautiful', 'bbbbeautiful': 'beautiful', 'beautifful': 'beautiful', 'beautifffffffffful': 'beautiful', 'bbbbbeautiful': 'beautiful', 'beautiffffffful': 'beautiful', 'beeautiful': 'beautiful', 'beautiiiiiiiiiiiiiful': 'beautiful', 'beautifuuuuuuuuuuuuuuul': 'beautiful', 'beautiffffful': 'beautiful', 'beeeautiful': 'beautiful', 'beautifffffffffffful': 'beautiful', 'beaaaaautiful': 'beautiful', 'beautifullll': 'beautiful', 'beautiiiiiiful': 'beautiful', 'beeeeeautiful': 'beautiful', 'bbbbbbbbbbbbbbeautiful': 'beautiful', 'beaaaaaaaaaautiful': 'beautiful', 'beautiiful': 'beautiful', 'beautifuuuuuuuuul': 'beautiful', 'beautifulllllllll': 'beautiful', 'llllllllove': 'love', 'loveeeeeeeeee': 'love', 'looooooooooove': 'love', 'loveeeeeeeee': 'love', 'loooooooooooooove': 'love', 'loooove': 'love', 'loveeeeeee': 'love', 'loveeeee': 'love', 'llllllllllove': 'love', 'lovee': 'love', 'llllove': 'love', 'llove': 'love', 'lovvvvvve': 'love', 'loveeeeeeeeeeeee': 'love', 'lovvvvve': 'love', 'looooooooove': 'love', 'loveeee': 'love', 'lllllove': 'love', 'lllllllllllllove': 'love', 'loooooove': 'love', 'lovvvvvvve': 'love', 'loove': 'love', 'lovvvvvvvvvve': 'love', 'llllllllllllllove': 'love', 'loveeeeeeee': 'love', 'looooooooooooooove': 'love', 'loveeeeeeeeeeeeeee': 'love', 'lovvvvvvvvvvvvvvve': 'love', 'looove': 'love', 'loveee': 'love', 'loveeeeeeeeeee': 'love', 'looooooooooooove': 'love', 'llllllove': 'love', 'loooooooove': 'love', 'looooooove': 'love', 'lovvvvvvvvvvve': 'love', 'lovvvvvvvvvvvvvve': 'love', 'lovvvvvvvvve': 'love', 'lovvvvvvvvvvvvve': 'love', 'llllllllllllove': 'love', 'lovvvve': 'love', 'loveeeeeeeeeeee': 'love', 'lllllllllove': 'love', 'loveeeeeeeeeeeeee': 'love', 'lovvvvvvvve': 'love', 'lllllllllllove': 'love', 'lovvvvvvvvvvvve': 'love', 'loooooooooooove': 'love', 'lllove': 'love', 'lovve': 'love', 'looooove': 'love', 'lllllllllllllllove': 'love', 'lovvve': 'love', 'loveeeeee': 'love', 'lllllllove': 'love', 'loooooooooove': 'love', 'ccccccccool': 'cool', 'coooooooooooooool': 'cool', 'coooooool': 'cool', 'coooooooool': 'cool', 'cooooool': 'cool', 'cccccccccool': 'cool', 'ccccccccccccccool': 'cool', 'coolllll': 'cool', 'coollllllllllllll': 'cool', 'cooool': 'cool', 'cooooooooooool': 'cool', 'coollllll': 'cool', 'ccccccool': 'cool', 'coollll': 'cool', 'coolllllll': 'cool', 'coooooooooooool': 'cool', 'coooooooooool': 'cool', 'coolll': 'cool', 'ccool': 'cool', 'coolllllllllllll': 'cool', 'cccccccccccccccool': 'cool', 'cooooooool': 'cool', 'coollllllll': 'cool', 'ccccccccccool': 'cool', 'coool': 'cool', 'cooooooooooooooool': 'cool', 'cccccccccccool': 'cool', 'cooooooooooooool': 'cool', 'cccccccool': 'cool', 'ccccccccccccool': 'cool', 'coolllllllllllllll': 'cool', 'coolllllllllll': 'cool', 'coollllllllllll': 'cool', 'coooool': 'cool', 'cccool': 'cool', 'cccccccccccccool': 'cool', 'cooooooooool': 'cool', 'coollllllllll': 'cool', 'coolllllllll': 'cool', 'ccccool': 'cool', 'cooll': 'cool', 'cccccool': 'cool', 'pretttttttttttty': 'pretty', 'pretttttty': 'pretty', 'prettyyyyyyyyyyyyyy': 'pretty', 'prettttty': 'pretty', 'preeeetty': 'pretty', 'prrrrretty': 'pretty', 'prrrrrrrrrretty': 'pretty', 'prettttttttttty': 'pretty', 'prettyy': 'pretty', 'prettyyyyyyyy': 'pretty', 'preeeeeeeeetty': 'pretty', 'prettttttttty': 'pretty', 'prettyyyyyyyyy': 'pretty', 'pretttttttttty': 'pretty', 'preeeeeeeeeeeeetty': 'pretty', 'prettyyyyy': 'pretty', 'pppppppppppppppretty': 'pretty', 'prrrrrrrrrrrretty': 'pretty', 'prettyyyyyyyyyyyy': 'pretty', 'prettttttttttttty': 'pretty', 'prettttttttttttttty': 'pretty', 'pretttttttttttttttty': 'pretty', 'prettty': 'pretty', 'prrrrrrrrretty': 'pretty', 'pretttty': 'pretty', 'ppretty': 'pretty', 'preeeeeeeeeetty': 'pretty', 'prettyyyyyy': 'pretty', 'prettyyyyyyyyyyy': 'pretty', 'preeeeeeeeeeeeeeetty': 'pretty', 'preeeeeetty': 'pretty', 'preeeeeeeetty': 'pretty', 'prettttttty': 'pretty', 'preetty': 'pretty', 'pretttttttttttttty': 'pretty', 'ppppppppppppretty': 'pretty', 'pretttttttty': 'pretty', 'prettyyyyyyy': 'pretty', 'prrrrrrrrrrrrretty': 'pretty', 'prrrrrrrrrrretty': 'pretty', 'prettyyyyyyyyyyyyyyy': 'pretty', 'prrrrrrrrrrrrrretty': 'pretty', 'pppppppppretty': 'pretty', 'preeeeeeetty': 'pretty', 'pppppppretty': 'pretty', 'prrrrrretty': 'pretty', 'prettyyyyyyyyyyyyy': 'pretty', 'preeeeetty': 'pretty', 'pppppretty': 'pretty', 'ppppppppppretty': 'pretty', 'preeeeeeeeeeetty': 'pretty', 'pppppppppppppretty': 'pretty', 'ppppppppretty': 'pretty', 'prrretty': 'pretty', 'pppretty': 'pretty', 'prretty': 'pretty', 'pppppppppppretty': 'pretty', 'ppppppppppppppretty': 'pretty', 'prrrrrrrretty': 'pretty', 'ppppretty': 'pretty', 'preeetty': 'pretty', 'prrrretty': 'pretty', 'prettyyyy': 'pretty', 'preeeeeeeeeeeeeetty': 'pretty', 'prettyyyyyyyyyy': 'pretty', 'prrrrrrretty': 'pretty', 'prettyyy': 'pretty', 'ppppppretty': 'pretty', 'prrrrrrrrrrrrrrretty': 'pretty', 'preeeeeeeeeeeetty': 'pretty', 'nicee': 'nice', 'niceeeeeeeeeee': 'nice', 'niiiiiiice': 'nice', 'nicccccccccccccce': 'nice', 'niiiiiice': 'nice', 'nnnice': 'nice', 'nnnnice': 'nice', 'nnnnnnnnnnice': 'nice', 'nicccccce': 'nice', 'niccccccce': 'nice', 'niceeeee': 'nice', 'nicce': 'nice', 'niccccccccce': 'nice', 'niccce': 'nice', 'niiiiiiiiiiiiiiice': 'nice', 'niceeeeeeee': 'nice', 'niccccccccccccccce': 'nice', 'nnnnnnnice': 'nice', 'nnnnnnnnnnnnice': 'nice', 'niccccccccccce': 'nice', 'nnnnnnnnnnnice': 'nice', 'niceeeeeeeeeeeeeee': 'nice', 'niceeeeeee': 'nice', 'nicccce': 'nice', 'niccccce': 'nice', 'nnice': 'nice', 'niceeeeeeeee': 'nice', 'nnnnnnice': 'nice', 'nicccccccce': 'nice', 'nnnnnice': 'nice', 'nnnnnnnnnnnnnnnice': 'nice', 'nicccccccccce': 'nice', 'niceeeeeeeeeeeee': 'nice', 'nnnnnnnnnnnnnnice': 'nice', 'niiice': 'nice', 'niiiiiiiice': 'nice', 'niiiice': 'nice', 'niceeeeee': 'nice', 'niceeee': 'nice', 'niceee': 'nice', 'niiiiiiiiiiiice': 'nice', 'niiiiiiiiiice': 'nice', 'nnnnnnnnnice': 'nice', 'niice': 'nice', 'niceeeeeeeeeeee': 'nice', 'niiiiiiiiiiiiice': 'nice', 'nicccccccccccce': 'nice', 'niiiiiiiiiiiiiice': 'nice', 'niiiiiiiiiiice': 'nice', 'niccccccccccccce': 'nice', 'niceeeeeeeeee': 'nice', 'niiiiiiiiice': 'nice', 'nnnnnnnnnnnnnice': 'nice', 'niiiiice': 'nice', 'niceeeeeeeeeeeeee': 'nice', 'nnnnnnnnice': 'nice', 'baddddddddddddddd': 'bad', 'bbbbbbbbbad': 'bad', 'bbbbbbbbbbbbbbad': 'bad', 'bbbbbbbbbbbbbad': 'bad', 'baddddd': 'bad', 'baaaaaaaaaaaaaad': 'bad', 'baddddddddddd': 'bad', 'baaaaaaaaaaaaad': 'bad', 'bbbbad': 'bad', 'baaaad': 'bad', 'badddddddddddd': 'bad', 'baaaaaad': 'bad', 'baaaaaaaaaaad': 'bad', 'badddd': 'bad', 'bbbbbbbbbbad': 'bad', 'bbbbbbad': 'bad', 'badd': 'bad', 'baaaaaaaaad': 'bad', 'baaaaad': 'bad', 'bbbad': 'bad', 'bbad': 'bad', 'baddddddddddddd': 'bad', 'baaaaaaaaaaaaaaad': 'bad', 'baddddddd': 'bad', 'baddddddddd': 'bad', 'badddddddddddddd': 'bad', 'bbbbbbbbbbbbad': 'bad', 'baaaaaaaad': 'bad', 'baaad': 'bad', 'baddd': 'bad', 'bbbbbbbbbbbbbbbad': 'bad', 'baaaaaaaaaaaad': 'bad', 'badddddddddd': 'bad', 'bbbbbbbbbbbad': 'bad', 'bbbbbad': 'bad', 'badddddd': 'bad', 'baaaaaaad': 'bad', 'baad': 'bad', 'bbbbbbbbad': 'bad', 'badddddddd': 'bad', 'baaaaaaaaaad': 'bad', 'bbbbbbbad': 'bad', 'shittttttttt': 'shit', 'shhhhhhhhhhhhhit': 'shit', 'sssssssssssshit': 'shit', 'ssssssssssssssshit': 'shit', 'shhhhhhhhhhhhhhit': 'shit', 'sssssssssshit': 'shit', 'shitt': 'shit', 'shitttttttttttt': 'shit', 'shhhhhhit': 'shit', 'ssssssssshit': 'shit', 'shiit': 'shit', 'shittttttttttt': 'shit', 'ssshit': 'shit', 'shittttttttttttt': 'shit', 'shiiiiiiiiiit': 'shit', 'shhhit': 'shit', 'sshit': 'shit', 'sssssshit': 'shit', 'shitttttttttttttt': 'shit', 'shittt': 'shit', 'shiiiiiiiiiiiit': 'shit', 'shitttttt': 'shit', 'shittttttttttttttt': 'shit', 'shhhhhit': 'shit', 'sssssssssssssshit': 'shit', 'shitttttttt': 'shit', 'shiiiit': 'shit', 'shhhhhhhhhhit': 'shit', 'sssshit': 'shit', 'ssssshit': 'shit', 'shhhhhhhhhhhhit': 'shit', 'shiiiiiit': 'shit', 'shiiiiiiiiiiit': 'shit', 'shhhhhhhhhhhhhhhit': 'shit', 'shiiiiiiit': 'shit', 'shiiit': 'shit', 'shittttttt': 'shit', 'shitttt': 'shit', 'shitttttttttt': 'shit', 'shiiiiiiiit': 'shit', 'shittttt': 'shit', 'shhhhit': 'shit', 'sssssssshit': 'shit', 'shiiiiit': 'shit', 'shhit': 'shit', 'shiiiiiiiiiiiiiit': 'shit', 'shiiiiiiiiiiiiit': 'shit', 'ssssssshit': 'shit', 'shhhhhhhhhhhit': 'shit', 'shiiiiiiiiiiiiiiit': 'shit', 'shiiiiiiiiit': 'shit', 'shhhhhhhit': 'shit', 'ssssssssssssshit': 'shit', 'shhhhhhhhhit': 'shit', 'ssssssssssshit': 'shit', 'shhhhhhhhit': 'shit', 'fuccck': 'fuck', 'fuckk': 'fuck', 'fuckkkkkkkkkkkkk': 'fuck', 'fffuck': 'fuck', 'fuuuuuuuuuuuuuck': 'fuck', 'fffffuck': 'fuck', 'fuuuck': 'fuck', 'fuuuuck': 'fuck', 'fuckkkk': 'fuck', 'ffffffffffffuck': 'fuck', 'fuccccccccccccccck': 'fuck', 'fuuuuuuck': 'fuck', 'fuckkkkkkkkkkkk': 'fuck', 'fuuuuuuuck': 'fuck', 'fuccccck': 'fuck', 'fucccccccccck': 'fuck', 'fucccccccccccccck': 'fuck', 'fuccccccccccccck': 'fuck', 'fuccccccck': 'fuck', 'fffffffffffffffuck': 'fuck', 'fuccccccccccck': 'fuck', 'fucck': 'fuck', 'fucccccccccccck': 'fuck', 'fuckkkkkkkk': 'fuck', 'fuckkkkkkkkkk': 'fuck', 'fuuuuuuuuuck': 'fuck', 'ffffffffffuck': 'fuck', 'fffffffffffuck': 'fuck', 'fucccccccck': 'fuck', 'fucccccck': 'fuck', 'fuuuuuuuuuuuuuuck': 'fuck', 'fffffffffuck': 'fuck', 'fuuuuuuuuuuuuck': 'fuck', 'fuuuuuck': 'fuck', 'ffffuck': 'fuck', 'fffffffffffffuck': 'fuck', 'fuckkkkkkkkkkkkkk': 'fuck', 'fuckkkkkkk': 'fuck', 'fuccccccccck': 'fuck', 'fuuuuuuuuuuuuuuuck': 'fuck', 'fuuuuuuuuuuuck': 'fuck', 'ffuck': 'fuck', 'fuckkkkkk': 'fuck', 'ffffffuck': 'fuck', 'fucccck': 'fuck', 'fuuuuuuuuck': 'fuck', 'ffffffffuck': 'fuck', 'fffffffuck': 'fuck', 'fuckkkkkkkkkkkkkkk': 'fuck', 'fuuck': 'fuck', 'fuckkkkk': 'fuck', 'fuckkk': 'fuck', 'fuckkkkkkkkkkk': 'fuck', 'fuckkkkkkkkk': 'fuck', 'fuuuuuuuuuuck': 'fuck', 'ffffffffffffffuck': 'fuck', 'nastttttttttty': 'nasty', 'nastyyyyyyyy': 'nasty', 'naaaaaaaaaaaaaaasty': 'nasty', 'nnnnasty': 'nasty', 'nnnnnnnasty': 'nasty', 'naaaaaaaasty': 'nasty', 'nastyy': 'nasty', 'nnnnnnnnnnnnnasty': 'nasty', 'nastty': 'nasty', 'nasttty': 'nasty', 'nastttttttty': 'nasty', 'nastyyy': 'nasty', 'nasttttttty': 'nasty', 'nastyyyyyy': 'nasty', 'nastyyyyyyyyyyy': 'nasty', 'nasssssssssssssssty': 'nasty', 'nastttty': 'nasty', 'nastyyyyyyyyy': 'nasty', 'nasssssty': 'nasty', 'nnnnnnnnnnnnasty': 'nasty', 'nastyyyyyyyyyy': 'nasty', 'naaaaaaaaaasty': 'nasty', 'nasttttttttttttttty': 'nasty', 'nastttttty': 'nasty', 'nassssssssssssty': 'nasty', 'nasssssssssssssty': 'nasty', 'nnnasty': 'nasty', 'nasssssssssty': 'nasty', 'nasttttttttttty': 'nasty', 'nastyyyyy': 'nasty', 'nassssssssssty': 'nasty', 'naaaaaaaaaaaaaasty': 'nasty', 'nastyyyyyyyyyyyyyyy': 'nasty', 'nnnnnnnnnnasty': 'nasty', 'naaaaaaaaasty': 'nasty', 'naaaasty': 'nasty', 'nasttttttttttttty': 'nasty', 'nnnnnasty': 'nasty', 'nnnnnnasty': 'nasty', 'nasttttty': 'nasty', 'nassssty': 'nasty', 'nassssssssty': 'nasty', 'nnnnnnnnnnnnnnnasty': 'nasty', 'nnnnnnnnasty': 'nasty', 'nasssty': 'nasty', 'nastyyyyyyyyyyyyyy': 'nasty', 'naaaaasty': 'nasty', 'nasssssssssssty': 'nasty', 'nnnnnnnnnnnasty': 'nasty', 'nastyyyy': 'nasty', 'nasttttttttty': 'nasty', 'nastyyyyyyyyyyyy': 'nasty', 'nasssssssty': 'nasty', 'nastttttttttttttty': 'nasty', 'naaaaaaaaaaaaasty': 'nasty', 'nassty': 'nasty', 'nastyyyyyyy': 'nasty', 'naaaaaaasty': 'nasty', 'nastyyyyyyyyyyyyy': 'nasty', 'naaaaaaaaaaasty': 'nasty', 'nastttttttttttty': 'nasty', 'nnasty': 'nasty', 'nassssssssssssssty': 'nasty', 'naaaaaaaaaaaasty': 'nasty', 'nassssssty': 'nasty', 'nnnnnnnnnnnnnnasty': 'nasty', 'naaaaaasty': 'nasty', 'naaasty': 'nasty', 'nnnnnnnnnasty': 'nasty', 'naasty': 'nasty', 'slowwwwwwwwwwwwwww': 'slow', 'sllllow': 'slow', 'sloow': 'slow', 'slowww': 'slow', 'sssssssssssslow': 'slow', 'slooooooow': 'slow', 'slooooow': 'slow', 'slowwwwwwwwwwww': 'slow', 'sllllllllllllow': 'slow', 'sloooooooow': 'slow', 'slllllllow': 'slow', 'sssssssssslow': 'slow', 'sllllllllow': 'slow', 'slllllllllow': 'slow', 'slllllow': 'slow', 'slowwwwww': 'slow', 'sssssslow': 'slow', 'sllow': 'slow', 'slooooooooooooow': 'slow', 'sloooow': 'slow', 'slowwwwwwwww': 'slow', 'sslow': 'slow', 'slooooooooooooooow': 'slow', 'sloooooow': 'slow', 'slowwwwwwwwww': 'slow', 'sssslow': 'slow', 'sllllllow': 'slow', 'slooow': 'slow', 'slllllllllllllllow': 'slow', 'ssssslow': 'slow', 'slowwwwwww': 'slow', 'slllllllllllow': 'slow', 'sloooooooooow': 'slow', 'slllllllllllllow': 'slow', 'ssssssssssssslow': 'slow', 'slooooooooooow': 'slow', 'sloooooooooooooow': 'slow', 'ssssssssslow': 'slow', 'slowwwwwwwwwwwwww': 'slow', 'sloww': 'slow', 'sssssssssssssslow': 'slow', 'ssssssslow': 'slow', 'slowwwwwwww': 'slow', 'slowwwwwwwwwww': 'slow', 'slowwwwwwwwwwwww': 'slow', 'ssslow': 'slow', 'sssssssslow': 'slow', 'sloooooooooooow': 'slow', 'slooooooooow': 'slow', 'sllllllllllllllow': 'slow', 'ssssssssssssssslow': 'slow', 'ssssssssssslow': 'slow', 'sllllllllllow': 'slow', 'slowwww': 'slow', 'slllow': 'slow', 'slowwwww': 'slow', 'bbbboring': 'boring', 'boooring': 'boring', 'boooooooring': 'boring', 'boriiiiiiing': 'boring', 'borinnnnnnnnnnnnng': 'boring', 'borrrring': 'boring', 'borrrrrring': 'boring', 'boringg': 'boring', 'boringgg': 'boring', 'boriiiiing': 'boring', 'boriiiiiiiing': 'boring', 'boringggggg': 'boring', 'borrrrrrrrring': 'boring', 'boringggggggg': 'boring', 'borrrrrrrrrring': 'boring', 'bboring': 'boring', 'boooooring': 'boring', 'borinnnnnnng': 'boring', 'boriiiiiiiiiiing': 'boring', 'borinnnng': 'boring', 'boriiiiiiiiiiiiiiing': 'boring', 'borring': 'boring', 'booooooooooring': 'boring', 'boooooooooooooring': 'boring', 'boriiiiiiiiiiiiiing': 'boring', 'boooooooooooring': 'boring', 'bbbbbbbbbboring': 'boring', 'borinnnnng': 'boring', 'boringgggggggggg': 'boring', 'borrrrrrring': 'boring', 'boringggggggggggg': 'boring', 'borinnnnnnnnnnng': 'boring', 'boringggg': 'boring', 'booooooooooooring': 'boring', 'bbboring': 'boring', 'booooring': 'boring', 'bbbbbbbbbbbbbbboring': 'boring', 'bbbbbbbboring': 'boring', 'borinnnnnnnnnnnnnng': 'boring', 'bbbbbbboring': 'boring', 'boriiiing': 'boring', 'boringgggg': 'boring', 'borinnnnnnnnnnnng': 'boring', 'borrrrrrrrrrrring': 'boring', 'boringggggggggggggg': 'boring', 'bbbbbbbbbbbbbboring': 'boring', 'bbbbbboring': 'boring', 'borrrrrrrring': 'boring', 'borrring': 'boring', 'bbbbbbbbbbbboring': 'boring', 'bbbbbbbbbbboring': 'boring', 'boriiing': 'boring', 'booooooooooooooring': 'boring', 'boriiiiiiiiiiiiing': 'boring', 'bbbbboring': 'boring', 'borinnnnnnnnng': 'boring', 'borinng': 'boring', 'borrrrrrrrrrrrring': 'boring', 'borinnnnnnnnnnnnnnng': 'boring', 'boringgggggggggggg': 'boring', 'boooooooooring': 'boring', 'borrrrring': 'boring', 'borrrrrrrrrrrrrrring': 'boring', 'booooooring': 'boring', 'boringgggggggggggggg': 'boring', 'boriiiiiiiiiing': 'boring', 'booooooooring': 'boring', 'booring': 'boring', 'borrrrrrrrrrrrrring': 'boring', 'boriiiiiiiiiiiing': 'boring', 'boriiiiiiiiing': 'boring', 'borinnng': 'boring', 'borinnnnnnnnnng': 'boring', 'boooooooooooooooring': 'boring', 'borinnnnnng': 'boring', 'boringggggggggg': 'boring', 'borrrrrrrrrrring': 'boring', 'boringgggggg': 'boring', 'bbbbbbbbboring': 'boring', 'boriiiiiing': 'boring', 'borinnnnnnnng': 'boring', 'bbbbbbbbbbbbboring': 'boring', 'boriing': 'boring', 'boringgggggggg': 'boring', 'hottt': 'hot', 'hhhhhhot': 'hot', 'hotttt': 'hot', 'hhhhhhhhhhhhhhhot': 'hot', 'hooooooooooot': 'hot', 'hotttttttttt': 'hot', 'hottttttttttttt': 'hot', 'hhhhhhhhot': 'hot', 'hooooot': 'hot', 'hooooooot': 'hot', 'hoooooooot': 'hot', 'hottttttttt': 'hot', 'hoooooooooooooot': 'hot', 'hoot': 'hot', 'hottttttttttttttt': 'hot', 'hhhhot': 'hot', 'hhhhhhhhhhhhhot': 'hot', 'hoooot': 'hot', 'hhhot': 'hot', 'hottttttttttt': 'hot', 'hotttttttttttt': 'hot', 'hhhhhhhot': 'hot', 'hoooooooooooot': 'hot', 'hooot': 'hot', 'hotttttttttttttt': 'hot', 'hhhhhot': 'hot', 'hooooooooooooooot': 'hot', 'hhhhhhhhhhhhhhot': 'hot', 'hoooooooooot': 'hot', 'hotttttt': 'hot', 'hooooooooot': 'hot', 'hott': 'hot', 'hotttttttt': 'hot', 'hhot': 'hot', 'hhhhhhhhhhhot': 'hot', 'hhhhhhhhhhhhot': 'hot', 'hooooooooooooot': 'hot', 'hottttt': 'hot', 'hoooooot': 'hot', 'hhhhhhhhhhot': 'hot', 'hhhhhhhhhot': 'hot', 'hottttttt': 'hot', 'gggggggggggood': 'good', 'goood': 'good', 'goooooooooooood': 'good', 'gggggggggggggood': 'good', 'goodddddddd': 'good', 'goooooooooooooood': 'good', 'gooooood': 'good', 'goooooood': 'good', 'goooood': 'good', 'gooooooooood': 'good', 'gooddddddd': 'good', 'ggggood': 'good', 'gggggggood': 'good', 'gooooooooooooood': 'good', 'gggggggggggggggood': 'good', 'gooddd': 'good', 'gooddddddddddd': 'good', 'gooooooooooood': 'good', 'gggggggggood': 'good', 'goooooooood': 'good', 'gooood': 'good', 'goodddddddddddd': 'good', 'gooooooooooooooood': 'good', 'ggggggggggggood': 'good', 'goodddddddddd': 'good', 'ggggggggood': 'good', 'gggggood': 'good', 'goooooooooood': 'good', 'goodd': 'good', 'ggggggggggood': 'good', 'ggggggggggggggood': 'good', 'goodddd': 'good', 'gooooooood': 'good', 'ggood': 'good', 'gooddddddddd': 'good', 'gooddddddddddddddd': 'good', 'gooddddd': 'good', 'ggggggood': 'good', 'gooddddddddddddd': 'good', 'goodddddddddddddd': 'good', 'gggood': 'good', 'goodddddd': 'good', 'greeeeeeeeeeeeat': 'great', 'greatttttttttttt': 'great', 'ggggggggggreat': 'great', 'greattttttttttt': 'great', 'greeeeeeeeeeeeeat': 'great', 'grreat': 'great', 'greattttttt': 'great', 'grrreat': 'great', 'grrrrrreat': 'great', 'greeeeeeat': 'great', 'greaaaaaaat': 'great', 'ggggggggggggreat': 'great', 'greaaaaaaaaaaat': 'great', 'greatttttttttttttt': 'great', 'gggggreat': 'great', 'grrrrrrrreat': 'great', 'gggreat': 'great', 'greaaaat': 'great', 'grrrrrrrrrrrrreat': 'great', 'greaaaaaaaaaaaaaaat': 'great', 'grrrrrrrrrrreat': 'great', 'grrrrrrrrrrrrrreat': 'great', 'greatttt': 'great', 'greaaat': 'great', 'greaaaaaaaaaaaaat': 'great', 'ggggreat': 'great', 'gggggggggggreat': 'great', 'greatttttt': 'great', 'greeeeeeeeeeat': 'great', 'greattttttttttttttt': 'great', 'greeeeat': 'great', 'grrrreat': 'great', 'gggggggreat': 'great', 'gggggggggggggreat': 'great', 'greaaaaaaaaaaaaaat': 'great', 'greattt': 'great', 'grrrrrrreat': 'great', 'greeeeeeeeeat': 'great', 'greeat': 'great', 'greaaaaaaaaaat': 'great', 'grrrrrrrrrrrreat': 'great', 'grrrrreat': 'great', 'ggreat': 'great', 'greeeat': 'great', 'greaaaaaaaaaaaat': 'great', 'greeeeeeeeat': 'great', 'ggggggggggggggreat': 'great', 'greattttttttt': 'great', 'ggggggggreat': 'great', 'greatttttttttt': 'great', 'grrrrrrrrrrrrrrreat': 'great', 'greatt': 'great', 'greaaaaaaaaat': 'great', 'greeeeeeeeeeeat': 'great', 'gggggggggreat': 'great', 'grrrrrrrrreat': 'great', 'greattttt': 'great', 'greeeeeeeeeeeeeeeat': 'great', 'greaaaaaat': 'great', 'greaat': 'great', 'greattttttttttttt': 'great', 'greaaaaat': 'great', 'greeeeeeeat': 'great', 'greeeeeat': 'great', 'grrrrrrrrrreat': 'great', 'ggggggreat': 'great', 'gggggggggggggggreat': 'great', 'greaaaaaaaat': 'great', 'greatttttttt': 'great', 'greeeeeeeeeeeeeeat': 'great', 'sssssssssssssssmooth': 'smooth', 'smoooth': 'smooth', 'smootttttttth': 'smooth', 'smmmmmmmmmmmmmooth': 'smooth', 'smooooooth': 'smooth', 'smooooooooooooth': 'smooth', 'ssssssssssmooth': 'smooth', 'smoooooth': 'smooth', 'smmmmmmooth': 'smooth', 'smooooooooooooooooth': 'smooth', 'smoothhhhh': 'smooth', 'smooooooooth': 'smooth', 'ssmooth': 'smooth', 'smoothhhhhhhhhhh': 'smooth', 'smmmmmmmmooth': 'smooth', 'smootttttttttttttth': 'smooth', 'smootttttth': 'smooth', 'smoooooooth': 'smooth', 'smooooth': 'smooth', 'sssssssssmooth': 'smooth', 'smoooooooooooooth': 'smooth', 'smoothhhhhhhhhh': 'smooth', 'smoooooooooooth': 'smooth', 'smoothhh': 'smooth', 'smoottttttttttth': 'smooth', 'smoothh': 'smooth', 'sssssssssssssmooth': 'smooth', 'smmmmmmmooth': 'smooth', 'smmmmmmmmmooth': 'smooth', 'ssssssssssssssmooth': 'smooth', 'smoothhhhhhh': 'smooth', 'smoottttttttttttth': 'smooth', 'smoothhhh': 'smooth', 'smoottttth': 'smooth', 'smoothhhhhhhhh': 'smooth', 'smoottttttth': 'smooth', 'smooooooooooooooth': 'smooth', 'smoooooooooooooooth': 'smooth', 'smmmmooth': 'smooth', 'smootth': 'smooth', 'smootttttttttttth': 'smooth', 'smoottttttttttttttth': 'smooth', 'smoooooooooth': 'smooth', 'smoothhhhhhhh': 'smooth', 'smmooth': 'smooth', 'ssssssssssssmooth': 'smooth', 'smmmmmmmmmmmmmmooth': 'smooth', 'smmmmmmmmmmmmooth': 'smooth', 'smootttth': 'smooth', 'sssssssssssmooth': 'smooth', 'smoothhhhhhhhhhhhhh': 'smooth', 'smoottth': 'smooth', 'sssmooth': 'smooth', 'smmmooth': 'smooth', 'smoottttttttth': 'smooth', 'smmmmmooth': 'smooth', 'smootttttttttth': 'smooth', 'smooooooooooth': 'smooth', 'smoothhhhhhhhhhhhh': 'smooth', 'ssssssssmooth': 'smooth', 'smmmmmmmmmmmmmmmooth': 'smooth', 'smoothhhhhh': 'smooth', 'smmmmmmmmmmooth': 'smooth', 'smoothhhhhhhhhhhhhhh': 'smooth', 'ssssssmooth': 'smooth', 'ssssmooth': 'smooth', 'smmmmmmmmmmmooth': 'smooth', 'sssssmooth': 'smooth', 'sssssssmooth': 'smooth', 'smoothhhhhhhhhhhh': 'smooth', 'delicccccious': 'delicious', 'deliciiiiiiiiiious': 'delicious', 'deliiicious': 'delicious', 'deliciouuuuuuuuuus': 'delicious', 'ddddddddddddddelicious': 'delicious', 'deliccccccccccious': 'delicious', 'deliiiiiiiiiiiiiicious': 'delicious', 'deliciiiiiiiiiiiiiious': 'delicious', 'deliciiiiious': 'delicious', 'ddddddddddddelicious': 'delicious', 'deliciooooooooous': 'delicious', 'deliciousssssssssss': 'delicious', 'delicccccccccccccious': 'delicious', 'delllllllicious': 'delicious', 'delicioooooooooooooous': 'delicious', 'ddelicious': 'delicious', 'deliciiiiiious': 'delicious', 'deeeeeeeeeelicious': 'delicious', 'deliciooooooooooooous': 'delicious', 'deeeeeeeelicious': 'delicious', 'dellicious': 'delicious', 'dddelicious': 'delicious', 'deelicious': 'delicious', 'deliciiiiiiiiiiiious': 'delicious', 'dellllllllicious': 'delicious', 'ddddddddddelicious': 'delicious', 'deliciouuuus': 'delicious', 'deeeeeeeeeeelicious': 'delicious', 'deliciouuuuuuuuuuus': 'delicious', 'deliiiiiiiiiiicious': 'delicious', 'deliciooooooooooous': 'delicious', 'delicioooooooooooous': 'delicious', 'delicccccccious': 'delicious', 'deliccccccccious': 'delicious', 'deeeeeelicious': 'delicious', 'deliciousssssssssssss': 'delicious', 'delicioussssssss': 'delicious', 'delicioussssssssssss': 'delicious', 'deliccccccccccccccious': 'delicious', 'dellllllllllicious': 'delicious', 'deliciooous': 'delicious', 'dddddddddddddelicious': 'delicious', 'deliciousssssssssssssss': 'delicious', 'dddddddelicious': 'delicious', 'delicccccccccccccccious': 'delicious', 'delicccccccccious': 'delicious', 'deeeeeeeeeeeeeelicious': 'delicious', 'dddddddddelicious': 'delicious', 'deliciouuuuuuuus': 'delicious', 'deliciious': 'delicious', 'deliciousssssss': 'delicious', 'deliiiiiiiiicious': 'delicious', 'delicioooooooooous': 'delicious', 'deliciouss': 'delicious', 'deliccccccccccccious': 'delicious', 'deliciousssss': 'delicious', 'delicioussssss': 'delicious', 'deliiiiiicious': 'delicious', 'deliciousss': 'delicious', 'deliciouuuuus': 'delicious', 'deliciouuuuuus': 'delicious', 'delicioous': 'delicious', 'delllllllllllllllicious': 'delicious', 'deliiiiiiiiiiiiiiicious': 'delicious', 'deliciiiiiiiious': 'delicious', 'deliciooooooooooooooous': 'delicious', 'dddddddddddddddelicious': 'delicious', 'deliciouus': 'delicious', 'deliccccious': 'delicious', 'deliiiiiiiiiiiicious': 'delicious', 'deliciiious': 'delicious', 'deeeeeeeeelicious': 'delicious', 'delicccious': 'delicious', 'deliciiiiiiious': 'delicious', 'delllllllllicious': 'delicious', 'delicccccccccccious': 'delicious', 'ddddelicious': 'delicious', 'deliciouuuuuuuuuuuuus': 'delicious', 'deliciiiiiiiiiiiiious': 'delicious', 'dddddelicious': 'delicious', 'deliciousssssssss': 'delicious', 'deliciooooooous': 'delicious', 'delicioussss': 'delicious', 'deliciouuuuuuuuuuuus': 'delicious', 'deliiiiiiiiiicious': 'delicious', 'deliccious': 'delicious', 'delllllllllllllicious': 'delicious', 'deeeeeeelicious': 'delicious', 'deliiiiiiiiiiiiicious': 'delicious', 'deliiiiiiicious': 'delicious', 'dellllllllllllicious': 'delicious', 'deliciiiiiiiiious': 'delicious', 'deliciouuuuuuus': 'delicious', 'deliciouuus': 'delicious', 'deliciouuuuuuuuuuuuuus': 'delicious', 'deliciiiiiiiiiiious': 'delicious', 'deliiiiiiiicious': 'delicious', 'deeeeelicious': 'delicious', 'deliciouuuuuuuuuuuuuuus': 'delicious', 'ddddddddelicious': 'delicious', 'dddddddddddelicious': 'delicious', 'deliiiicious': 'delicious', 'delllllllllllicious': 'delicious', 'dellllicious': 'delicious', 'dellllllicious': 'delicious', 'deliicious': 'delicious', 'deeeeeeeeeeeeeeelicious': 'delicious', 'delicioooooooous': 'delicious', 'deliciouuuuuuuuus': 'delicious', 'deliccccccious': 'delicious', 'delicioussssssssss': 'delicious', 'dellllllllllllllicious': 'delicious', 'delicioooous': 'delicious', 'delllicious': 'delicious', 'deeeeeeeeeeeeelicious': 'delicious', 'ddddddelicious': 'delicious', 'deeeelicious': 'delicious', 'deeelicious': 'delicious', 'deliciiiiiiiiiiiiiiious': 'delicious', 'delicioussssssssssssss': 'delicious', 'deliiiiicious': 'delicious', 'delicioooooous': 'delicious', 'deliciooooous': 'delicious', 'deliciiiious': 'delicious', 'delllllicious': 'delicious', 'deeeeeeeeeeeelicious': 'delicious', 'amazzzzzzzzzzzzzzzing': 'amazing', 'amaazing': 'amazing', 'amazinnnnnnnnnnnnnng': 'amazing', 'amazinnng': 'amazing', 'amaziiiiiiiiing': 'amazing', 'amazinggggggggggggggg': 'amazing', 'amazingggggggg': 'amazing', 'ammmmmmmazing': 'amazing', 'amazzzzzzzzzzzzzing': 'amazing', 'amaaaazing': 'amazing', 'amaaaaaaaaazing': 'amazing', 'amazzzzzzzzing': 'amazing', 'aaaaaaaaaamazing': 'amazing', 'ammmmmmmmmmmmazing': 'amazing', 'ammmmmmmmmmmmmmazing': 'amazing', 'amazzzzzing': 'amazing', 'amaaazing': 'amazing', 'ammmmmazing': 'amazing', 'amazingggggggggggggg': 'amazing', 'amaziiiiiiing': 'amazing', 'amazinnnnnnnnnnnng': 'amazing', 'amaaaaaaaaaaaaaaazing': 'amazing', 'amaziiiiiiiiiiiiiiing': 'amazing', 'ammmmmmmmmazing': 'amazing', 'amaziiiiiiiiiing': 'amazing', 'amaziiiiiiiiiiing': 'amazing', 'aaaaaaaaamazing': 'amazing', 'amazingggggg': 'amazing', 'amazinggggggg': 'amazing', 'aaamazing': 'amazing', 'ammmmmmmmazing': 'amazing', 'amaziiiiiiiiiiiing': 'amazing', 'amazinggggg': 'amazing', 'amazinnnnnnnng': 'amazing', 'amazinnnng': 'amazing', 'ammmmmmmmmmmmmazing': 'amazing', 'ammmmmmazing': 'amazing', 'amaziiiing': 'amazing', 'ammmmmmmmmmmazing': 'amazing', 'amazinnnnng': 'amazing', 'amazzzzzzing': 'amazing', 'aaaaaaaamazing': 'amazing', 'amazinnnnnnnnng': 'amazing', 'amaaaaaaaaaazing': 'amazing', 'amaaaaaaaaaaaaazing': 'amazing', 'amazzzzing': 'amazing', 'amaaaaaaaaaaaaaazing': 'amazing', 'amazinggggggggggggg': 'amazing', 'amaziiiiiing': 'amazing', 'aaaaaaaaaaaaamazing': 'amazing', 'amazingg': 'amazing', 'amazzing': 'amazing', 'amazinnnnnnnnnnng': 'amazing', 'ammmmmmmmmmmmmmmazing': 'amazing', 'amazzzzzzzzzzzzzzing': 'amazing', 'amazinnnnnnnnnnnnng': 'amazing', 'aamazing': 'amazing', 'ammmazing': 'amazing', 'aaaaaaaaaaaaaaamazing': 'amazing', 'amaaaaazing': 'amazing', 'amaziiiiiiiiiiiiing': 'amazing', 'amazzzzzzzzzing': 'amazing', 'amaaaaaaaaaaazing': 'amazing', 'amazinnnnnng': 'amazing', 'amaziiiiiiiing': 'amazing', 'aaaaaamazing': 'amazing', 'amaziiing': 'amazing', 'amaaaaaaazing': 'amazing', 'amaziing': 'amazing', 'amazzzzzzzzzzzzing': 'amazing', 'amazinnnnnnng': 'amazing', 'amaaaaaaaazing': 'amazing', 'ammazing': 'amazing', 'amazzzzzzzzzzzing': 'amazing', 'amazzzing': 'amazing', 'amazingggg': 'amazing', 'amazinng': 'amazing', 'amazinggg': 'amazing', 'amaaaaaaaaaaaazing': 'amazing', 'amazzzzzzzzzzing': 'amazing', 'aaaaamazing': 'amazing', 'amaziiiiiiiiiiiiiing': 'amazing', 'amazinnnnnnnnnnnnnnng': 'amazing', 'ammmmazing': 'amazing', 'amazingggggggggggg': 'amazing', 'amazinnnnnnnnnng': 'amazing', 'amazingggggggggg': 'amazing', 'amazinggggggggg': 'amazing', 'aaaamazing': 'amazing', 'amazzzzzzzing': 'amazing', 'ammmmmmmmmmazing': 'amazing', 'aaaaaaaaaaamazing': 'amazing', 'amaziiiiing': 'amazing', 'aaaaaaamazing': 'amazing', 'amazinggggggggggg': 'amazing', 'aaaaaaaaaaaamazing': 'amazing', 'aaaaaaaaaaaaaamazing': 'amazing', 'amaaaaaazing': 'amazing', 'sweettttt': 'sweet', 'sweeeeeeeeeeeeeeet': 'sweet', 'sweeeeeeeet': 'sweet', 'swwwwweet': 'sweet', 'sweetttttttttttttt': 'sweet', 'ssssssweet': 'sweet', 'swwwweet': 'sweet', 'sweetttttt': 'sweet', 'swwwwwweet': 'sweet', 'sweetttt': 'sweet', 'sweetttttttttttt': 'sweet', 'ssssweet': 'sweet', 'sweeeeeeeeeet': 'sweet', 'swwwwwwwwwweet': 'sweet', 'sssssssssssssweet': 'sweet', 'sweeeeeet': 'sweet', 'sweeeeeeet': 'sweet', 'swwwwwwwwwwwwwweet': 'sweet', 'sweeeeeeeeeeeeet': 'sweet', 'swweet': 'sweet', 'sweeeeet': 'sweet', 'sweeeeeeeeet': 'sweet', 'sssssssssweet': 'sweet', 'sweeeeeeeeeeeet': 'sweet', 'swwwwwwwwwwwwwwweet': 'sweet', 'sssssssweet': 'sweet', 'swwwwwwwweet': 'sweet', 'swwwwwwwwwwwwweet': 'sweet', 'swwwwwwwwwwwweet': 'sweet', 'sweettttttttttttt': 'sweet', 'sweettttttttt': 'sweet', 'sssweet': 'sweet', 'sweettt': 'sweet', 'ssssssssweet': 'sweet', 'ssssssssssssweet': 'sweet', 'sssssssssssssssweet': 'sweet', 'sweeeeeeeeeeeeeet': 'sweet', 'sssssweet': 'sweet', 'ssssssssssssssweet': 'sweet', 'sweeeeeeeeeeet': 'sweet', 'sweeeet': 'sweet', 'sweetttttttt': 'sweet', 'sweetttttttttt': 'sweet', 'sweeet': 'sweet', 'sweeeeeeeeeeeeeeeet': 'sweet', 'swwweet': 'sweet', 'sweettttttttttt': 'sweet', 'sweettttttttttttttt': 'sweet', 'swwwwwwwwwwweet': 'sweet', 'swwwwwwwwweet': 'sweet', 'sweettttttt': 'sweet', 'swwwwwwweet': 'sweet', 'ssweet': 'sweet', 'sweett': 'sweet', 'sssssssssssweet': 'sweet', 'ssssssssssweet': 'sweet', 'fuuun': 'fun', 'ffffffffun': 'fun', 'ffffffffffffun': 'fun', 'fuuuuuuuuun': 'fun', 'fuuuuuuun': 'fun', 'fuuuuuuuuuuun': 'fun', 'fuun': 'fun', 'fuuuun': 'fun', 'fuuuuuuuun': 'fun', 'fuuuuuun': 'fun', 'funnn': 'fun', 'fffffffffffun': 'fun', 'funnnnnnn': 'fun', 'fuuuuuuuuuuuun': 'fun', 'funnnnnnnnnnn': 'fun', 'ffffffffffun': 'fun', 'funnnnnnnnn': 'fun', 'fffffffffffffffun': 'fun', 'fuuuuuuuuuuuuun': 'fun', 'fuuuuuuuuuun': 'fun', 'fffffffffun': 'fun', 'ffffun': 'fun', 'funnnnnn': 'fun', 'fffffffffffffun': 'fun', 'funnnnnnnnnn': 'fun', 'funnnnnnnnnnnn': 'fun', 'ffun': 'fun', 'fffun': 'fun', 'fuuuuuuuuuuuuuuun': 'fun', 'fffffffun': 'fun', 'fffffun': 'fun', 'funnnnnnnnnnnnnn': 'fun', 'ffffffun': 'fun', 'fuuuuun': 'fun', 'ffffffffffffffun': 'fun', 'funnnn': 'fun', 'funnnnnnnnnnnnnnn': 'fun', 'funnnnn': 'fun', 'funnnnnnnnnnnnn': 'fun', 'fuuuuuuuuuuuuuun': 'fun', 'funn': 'fun', 'funnnnnnnn': 'fun', 'wwwwwwwwwwow': 'wow', 'wooow': 'wow', 'wooooooooooooooow': 'wow', 'wwwwwwwwwwwwwwwow': 'wow', 'woooooooooooooow': 'wow', 'wowwwwwwwwww': 'wow', 'wwwwwwwwow': 'wow', 'woooow': 'wow', 'wowwwwwwwwwwwww': 'wow', 'wwwwwwwwwow': 'wow', 'wowwwwwwwwwww': 'wow', 'wwow': 'wow', 'wowwwwwwwww': 'wow', 'wowwwwwwwwwwwwwww': 'wow', 'wooooooooooooow': 'wow', 'wooooooooooow': 'wow', 'woooooooooow': 'wow', 'wwwwow': 'wow', 'wooooooow': 'wow', 'wwwwwwwwwwwwwow': 'wow', 'woooooooooooow': 'wow', 'wowwwwww': 'wow', 'wwwwwow': 'wow', 'wowwwwwwwwwwwwww': 'wow', 'wowwwwwwwwwwww': 'wow', 'woooooow': 'wow', 'wwwwwwwwwwwwwwow': 'wow', 'woww': 'wow', 'wwwwwwow': 'wow', 'wwwow': 'wow', 'wwwwwwwow': 'wow', 'wooooooooow': 'wow', 'woow': 'wow', 'wwwwwwwwwwwwow': 'wow', 'wowwwww': 'wow', 'woooooooow': 'wow', 'wwwwwwwwwwwow': 'wow', 'wowwwwwwww': 'wow', 'wowwww': 'wow', 'wooooow': 'wow', 'wowww': 'wow', 'wowwwwwww': 'wow', 'superrrr': 'super', 'superrrrr': 'super', 'supeeer': 'super', 'suuuuper': 'super', 'supeeeeeeeeeeeeer': 'super', 'suuuuuuuuuuper': 'super', 'supppppppper': 'super', 'superrr': 'super', 'ssssssssuper': 'super', 'suuuuuuuuper': 'super', 'ssuper': 'super', 'supeeeeeeeeeer': 'super', 'suppppppper': 'super', 'sssssuper': 'super', 'suuuuuuuuuper': 'super', 'supppppppppper': 'super', 'supeeeer': 'super', 'ssssssuper': 'super', 'superrrrrrrrrrrrrr': 'super', 'supeeeeeeeer': 'super', 'ssssuper': 'super', 'supppppper': 'super', 'suuuuuuuuuuuper': 'super', 'sssssssssuper': 'super', 'supeeeeeeeeeeeeeeer': 'super', 'superrrrrrr': 'super', 'suuuuuuuuuuuuper': 'super', 'superrrrrrrrrr': 'super', 'suuper': 'super', 'suppppppppppppppper': 'super', 'suppper': 'super', 'superrrrrrrrrrrr': 'super', 'supeeeeeeeeeeeeeer': 'super', 'supper': 'super', 'sssssssssssssssuper': 'super', 'superrrrrrrr': 'super', 'sssssssssssuper': 'super', 'suuuuuuuuuuuuuper': 'super', 'supppppppppppppper': 'super', 'suppppppppppppper': 'super', 'suuuuuuuuuuuuuuper': 'super', 'suuuuuper': 'super', 'suppppppppper': 'super', 'superr': 'super', 'supeeeeeer': 'super', 'ssssssssssuper': 'super', 'suppppppppppper': 'super', 'sssssssuper': 'super', 'suuuuuuuper': 'super', 'supeer': 'super', 'supeeeeer': 'super', 'supeeeeeeeeer': 'super', 'ssssssssssssssuper': 'super', 'supeeeeeeeeeeeer': 'super', 'sssssssssssssuper': 'super', 'superrrrrrrrrrrrr': 'super', 'supeeeeeeer': 'super', 'superrrrrrrrrrr': 'super', 'superrrrrrrrr': 'super', 'suuuuuuper': 'super', 'supeeeeeeeeeeer': 'super', 'suuuper': 'super', 'sssuper': 'super', 'supppper': 'super', 'superrrrrrrrrrrrrrr': 'super', 'suuuuuuuuuuuuuuuper': 'super', 'ssssssssssssuper': 'super', 'suppppper': 'super', 'supppppppppppper': 'super', 'superrrrrr': 'super', 'tassssssssssssssty': 'tasty', 'tastttttttttttttty': 'tasty', 'taaaasty': 'tasty', 'tasssssssssssty': 'tasty', 'tastyyyyyyyyyyyyy': 'tasty', 'tttttasty': 'tasty', 'tasssssssty': 'tasty', 'tastyyyyyy': 'tasty', 'tasttty': 'tasty', 'tastyyy': 'tasty', 'tassssssssssssty': 'tasty', 'taaaaaaaaaasty': 'tasty', 'taaaaaasty': 'tasty', 'taaaaaaaasty': 'tasty', 'tasssssssssssssssty': 'tasty', 'tasttttttttty': 'tasty', 'taaaaaaaaaaaaaasty': 'tasty', 'tasssssty': 'tasty', 'tastttttttttty': 'tasty', 'taaasty': 'tasty', 'tastyyyyyyyy': 'tasty', 'tttttttttttasty': 'tasty', 'tasttttttttttttttty': 'tasty', 'tasttttttttttttty': 'tasty', 'tastyyyyyyyyyyyyyyy': 'tasty', 'tassssssssssty': 'tasty', 'tasssty': 'tasty', 'tastyyyyyyyyy': 'tasty', 'ttttasty': 'tasty', 'ttttttttttasty': 'tasty', 'tastttty': 'tasty', 'taaaaaaaaaaaaaaasty': 'tasty', 'tasssssssssssssty': 'tasty', 'taasty': 'tasty', 'tttttttttasty': 'tasty', 'tttttttttttttttasty': 'tasty', 'tastyyyyyyyyyy': 'tasty', 'tttasty': 'tasty', 'tastyyyyyyyyyyyyyy': 'tasty', 'ttttttasty': 'tasty', 'tassty': 'tasty', 'tassssty': 'tasty', 'tastyy': 'tasty', 'taaaaasty': 'tasty', 'tasttttttttttty': 'tasty', 'tastyyyyyyyyyyyy': 'tasty', 'tastyyyyyyyyyyy': 'tasty', 'taaaaaaaaaaasty': 'tasty', 'tastty': 'tasty', 'ttttttttttttasty': 'tasty', 'ttasty': 'tasty', 'ttttttttasty': 'tasty', 'taaaaaaaaaaaasty': 'tasty', 'tasttttty': 'tasty', 'tasttttttty': 'tasty', 'tastyyyy': 'tasty', 'taaaaaaaaasty': 'tasty', 'tttttttttttttasty': 'tasty', 'tttttttasty': 'tasty', 'taaaaaaaaaaaaasty': 'tasty', 'tassssssssty': 'tasty', 'tastttttttttttty': 'tasty', 'tastyyyyyyy': 'tasty', 'tastyyyyy': 'tasty', 'tasssssssssty': 'tasty', 'taaaaaaasty': 'tasty', 'tastttttttty': 'tasty', 'ttttttttttttttasty': 'tasty', 'tassssssty': 'tasty', 'tastttttty': 'tasty', 'awesommmmmmmme': 'awesome', 'aaaaaaaaaaaawesome': 'awesome', 'awwesome': 'awesome', 'aweeeeeeesome': 'awesome', 'awesommmme': 'awesome', 'awesoooooooome': 'awesome', 'awesomme': 'awesome', 'awesooooooome': 'awesome', 'awesommmmmme': 'awesome', 'aaaaaaaaawesome': 'awesome', 'awesommmmmmmmmmmmmmme': 'awesome', 'awesommmmmmmmmmmmmme': 'awesome', 'awesommmmmmme': 'awesome', 'awessome': 'awesome', 'awesoooooooooooooome': 'awesome', 'awesommme': 'awesome', 'aaaaaaaaaaaaawesome': 'awesome', 'aweeeeeeeeeesome': 'awesome', 'awesommmmmmmmmmme': 'awesome', 'awessssssssome': 'awesome', 'awwwwesome': 'awesome', 'aaaaaaaaaaaaaaawesome': 'awesome', 'awesssssssssssome': 'awesome', 'awesomeeeeeeeee': 'awesome', 'awessssome': 'awesome', 'awesoooome': 'awesome', 'awesomeee': 'awesome', 'awesomeeeeeeee': 'awesome', 'aaawesome': 'awesome', 'aaaaaaawesome': 'awesome', 'awwwwwwwwwwesome': 'awesome', 'awwwwwwwwesome': 'awesome', 'awesoooooooooooome': 'awesome', 'awesomee': 'awesome', 'awessssssssssssssome': 'awesome', 'awesommmmmmmmmme': 'awesome', 'awesommmmmmmmmmmmme': 'awesome', 'awesooooooooooome': 'awesome', 'awesooooooooooooome': 'awesome', 'awesommmmmmmmme': 'awesome', 'aweeeeeeeeeeeeesome': 'awesome', 'aweeesome': 'awesome', 'aaaaaaaaaawesome': 'awesome', 'awwwwwwwwwwwesome': 'awesome', 'awesomeeeeeee': 'awesome', 'awesssome': 'awesome', 'awesssssssome': 'awesome', 'aaaaaaaaaaawesome': 'awesome', 'awessssssome': 'awesome', 'aawesome': 'awesome', 'awesssssssssssssssome': 'awesome', 'aweeeeeeeesome': 'awesome', 'aweeeeeeeeesome': 'awesome', 'awesommmmme': 'awesome', 'aweeeesome': 'awesome', 'awesooooooooooooooome': 'awesome', 'awesomeeeeeeeeeeee': 'awesome', 'aaaaaaaawesome': 'awesome', 'aweeeeeeeeeeesome': 'awesome', 'awwwwwesome': 'awesome', 'awwwwwwwwwesome': 'awesome', 'awwwwwwwwwwwwwwesome': 'awesome', 'aweesome': 'awesome', 'awesommmmmmmmmmmme': 'awesome', 'awesomeeeeeeeeeeeeeee': 'awesome', 'awesoooooooooome': 'awesome', 'awesssssome': 'awesome', 'awesooooooooome': 'awesome', 'awesssssssssome': 'awesome', 'awwwwwwwesome': 'awesome', 'awesoooooome': 'awesome', 'aweeeeeeeeeeeeeeesome': 'awesome', 'awesssssssssssssome': 'awesome', 'awesomeeeeeeeeee': 'awesome', 'awesooome': 'awesome', 'awwwwwwwwwwwwwwwesome': 'awesome', 'awwwesome': 'awesome', 'aaaaaawesome': 'awesome', 'awesomeeeeee': 'awesome', 'awesomeeee': 'awesome', 'aaaaawesome': 'awesome', 'awwwwwwwwwwwwesome': 'awesome', 'aweeeeesome': 'awesome', 'awesoome': 'awesome', 'awwwwwwwwwwwwwesome': 'awesome', 'awesomeeeeeeeeeeeee': 'awesome', 'aaaaaaaaaaaaaawesome': 'awesome', 'awesomeeeeeeeeeeeeee': 'awesome', 'awesooooome': 'awesome', 'awessssssssssssome': 'awesome', 'awesomeeeeeeeeeee': 'awesome', 'aweeeeeesome': 'awesome', 'awwwwwwesome': 'awesome', 'awesomeeeee': 'awesome', 'aweeeeeeeeeeeesome': 'awesome', 'aaaawesome': 'awesome', 'aweeeeeeeeeeeeeesome': 'awesome', 'awessssssssssome': 'awesome', 'ppperfect': 'perfect', 'perrrfect': 'perfect', 'perrrrrrrrrrrrrrrfect': 'perfect', 'perfffffect': 'perfect', 'perrrrrrrrrrrrfect': 'perfect', 'perfffffffffect': 'perfect', 'pppppppppppperfect': 'perfect', 'perrrrrrrfect': 'perfect', 'perfeeeeeeeeeeeeect': 'perfect', 'perffffect': 'perfect', 'perfeeeeeeeeeeeect': 'perfect', 'pppppperfect': 'perfect', 'perfeccccccccct': 'perfect', 'peeerfect': 'perfect', 'perrrrrrrrfect': 'perfect', 'perfectttttttttt': 'perfect', 'perfeccccccccccct': 'perfect', 'perfecct': 'perfect', 'ppppppppppppppperfect': 'perfect', 'peeeeeeeeeeeeeerfect': 'perfect', 'perfeccccccccccccct': 'perfect', 'ppppppppperfect': 'perfect', 'perfectttt': 'perfect', 'perrrrrrrrrrfect': 'perfect', 'perfffffffffffffffect': 'perfect', 'pperfect': 'perfect', 'perfeccct': 'perfect', 'perfeccccct': 'perfect', 'perfffffffffffffect': 'perfect', 'perfffect': 'perfect', 'perfecttttt': 'perfect', 'pppperfect': 'perfect', 'perfeeeeeeeect': 'perfect', 'perfeeeeeeeeeeect': 'perfect', 'perrfect': 'perfect', 'perffffffffffffffect': 'perfect', 'peeeerfect': 'perfect', 'perfeccccccccccccccct': 'perfect', 'perffffffffffect': 'perfect', 'perfeeeeeeeeeeeeeect': 'perfect', 'perfectt': 'perfect', 'peeeeeeerfect': 'perfect', 'perffffffffffffect': 'perfect', 'perrrrrrrrrrrrrfect': 'perfect', 'perfeeeeeeeeeect': 'perfect', 'peeeeerfect': 'perfect', 'perfecccccccccct': 'perfect', 'perrrrrrrrrrrfect': 'perfect', 'peeeeeeeeeeeerfect': 'perfect', 'perrrrrfect': 'perfect', 'perfectttttttttttt': 'perfect', 'perfeeeeeeeeect': 'perfect', 'perrrrrrrrrfect': 'perfect', 'peerfect': 'perfect', 'perffffffect': 'perfect', 'perfecttttttttt': 'perfect', 'perfecttt': 'perfect', 'perffect': 'perfect', 'pppppppperfect': 'perfect', 'peeeeeeeeeerfect': 'perfect', 'ppppppperfect': 'perfect', 'perfeeeeeeect': 'perfect', 'pppppppppperfect': 'perfect', 'perrrrrrrrrrrrrrfect': 'perfect', 'perfeeeeeect': 'perfect', 'perfeect': 'perfect', 'perfectttttttttttttt': 'perfect', 'peeeeeeeerfect': 'perfect', 'perfeeeeeeeeeeeeeeect': 'perfect', 'perfecccccccct': 'perfect', 'peeeeeeeeerfect': 'perfect', 'perfectttttt': 'perfect', 'perfffffffect': 'perfect', 'perfecttttttttttttttt': 'perfect', 'perfecttttttttttt': 'perfect', 'peeeeeeeeeeerfect': 'perfect', 'pppppppppppppperfect': 'perfect', 'perfecccccct': 'perfect', 'perrrrfect': 'perfect', 'perfeeeect': 'perfect', 'perfeeeeect': 'perfect', 'perffffffffect': 'perfect', 'peeeeeeeeeeeeeeerfect': 'perfect', 'ppppperfect': 'perfect', 'perfeccccccct': 'perfect', 'perfecccct': 'perfect', 'perrrrrrfect': 'perfect', 'perfectttttttt': 'perfect', 'perfeeect': 'perfect', 'peeeeeerfect': 'perfect', 'perfecttttttt': 'perfect', 'perfffffffffffect': 'perfect', 'perfecccccccccccct': 'perfect', 'peeeeeeeeeeeeerfect': 'perfect', 'ppppppppppperfect': 'perfect', 'perfecccccccccccccct': 'perfect', 'perfecttttttttttttt': 'perfect', 'ppppppppppppperfect': 'perfect', 'excellennnnnnnnnnnnnnnt': 'excellent', 'eeeeeeeeeeeeeexcellent': 'excellent', 'excellennnnnnnnnnnnnnt': 'excellent', 'exxxxxxxxxxxxcellent': 'excellent', 'excellllllllllent': 'excellent', 'exceeeeeeeeeellent': 'excellent', 'excellennnt': 'excellent', 'excellenttttt': 'excellent', 'exceeellent': 'excellent', 'excellenttttttttttttttt': 'excellent', 'excellllent': 'excellent', 'excelllllent': 'excellent', 'exxxxxxxxxxxcellent': 'excellent', 'exceellent': 'excellent', 'excellentttttt': 'excellent', 'eeeeeeexcellent': 'excellent', 'exceeeeeeeeeeellent': 'excellent', 'exxxxxxxxxxxxxcellent': 'excellent', 'excellenttttttttttttt': 'excellent', 'excelllllllllent': 'excellent', 'exccellent': 'excellent', 'excellllllent': 'excellent', 'exceeeellent': 'excellent', 'excellennt': 'excellent', 'exceeeeeeellent': 'excellent', 'exceeeeeeeellent': 'excellent', 'excellennnnnnnt': 'excellent', 'excellennnnnnnnnnnt': 'excellent', 'excellllllllllllllent': 'excellent', 'exxxxxxxxxxxxxxcellent': 'excellent', 'excellentttttttttt': 'excellent', 'excelllllllent': 'excellent', 'exccccccccccellent': 'excellent', 'exceeeeeellent': 'excellent', 'excelleent': 'excellent', 'excelleeent': 'excellent', 'exccccccccccccccellent': 'excellent', 'eeeeeeeeexcellent': 'excellent', 'excellentttttttttttttt': 'excellent', 'exxxcellent': 'excellent', 'excellentt': 'excellent', 'excellllllllllllllllent': 'excellent', 'excccccellent': 'excellent', 'excellentttt': 'excellent', 'exxxxxcellent': 'excellent', 'excellennnnt': 'excellent', 'exxcellent': 'excellent', 'exccccccccellent': 'excellent', 'exxxxxxxxcellent': 'excellent', 'excellenttttttttttt': 'excellent', 'eeeeeexcellent': 'excellent', 'exceeeeellent': 'excellent', 'excellenttttttttt': 'excellent', 'excelllllllllllllllent': 'excellent', 'eexcellent': 'excellent', 'eeeeeeeeeeexcellent': 'excellent', 'eeeeeeeeeeeeexcellent': 'excellent', 'excellennnnnnt': 'excellent', 'excccccccccccellent': 'excellent', 'exxxxxxxxxxxxxxxcellent': 'excellent', 'excelleeeeeeeeeeeeeeent': 'excellent', 'excelllllllllllllent': 'excellent', 'excellllllllllllent': 'excellent', 'eeexcellent': 'excellent', 'excelleeeeeeent': 'excellent', 'excccccccccellent': 'excellent', 'excelleeeent': 'excellent', 'excellenttttttt': 'excellent', 'excccccccccccccellent': 'excellent', 'exceeeeeeeeeeeeeeellent': 'excellent', 'exxxxxxxxxxcellent': 'excellent', 'excellentttttttt': 'excellent', 'eeeeeeeeeeeexcellent': 'excellent', 'exceeeeeeeeeeeellent': 'excellent', 'excelleeeeent': 'excellent', 'excelleeeeeeeent': 'excellent', 'excccccccccccccccellent': 'excellent', 'excelleeeeeeeeeeent': 'excellent', 'eeeeeeeeeeeeeeexcellent': 'excellent', 'excelllllllllllent': 'excellent', 'exceeeeeeeeeeeeeellent': 'excellent', 'exceeeeeeeeellent': 'excellent', 'eeeeeeeeeexcellent': 'excellent', 'exccccellent': 'excellent', 'eeeeeeeexcellent': 'excellent', 'excellllllllent': 'excellent', 'excccellent': 'excellent', 'excellenttt': 'excellent', 'exceeeeeeeeeeeeellent': 'excellent', 'excelleeeeeeeeeent': 'excellent', 'excelleeeeeeeeeeeeeent': 'excellent', 'excellennnnnnnnt': 'excellent', 'excellennnnnt': 'excellent', 'eeeeexcellent': 'excellent', 'exccccccellent': 'excellent', 'exxxxxxxxxcellent': 'excellent', 'excellennnnnnnnnnnnnt': 'excellent', 'excccccccellent': 'excellent', 'excellentttttttttttt': 'excellent', 'excellennnnnnnnnnnnt': 'excellent', 'excelleeeeeeeeeeeent': 'excellent', 'excelleeeeeeeeeeeeent': 'excellent', 'eeeexcellent': 'excellent', 'excelleeeeeent': 'excellent', 'exxxxxxxcellent': 'excellent', 'exccccccccccccellent': 'excellent', 'excellennnnnnnnnt': 'excellent', 'exxxxcellent': 'excellent', 'exxxxxxcellent': 'excellent', 'excelllent': 'excellent', 'excellennnnnnnnnnt': 'excellent', 'excelleeeeeeeeent': 'excellent', 'ccccccccccccccute': 'cute', 'cuuuuuute': 'cute', 'cuuuuute': 'cute', 'cutttttttttttttte': 'cute', 'cuuuuuuuuuuuute': 'cute', 'cuuute': 'cute', 'cuteee': 'cute', 'cuttttttte': 'cute', 'cccute': 'cute', 'cutttttttte': 'cute', 'cuuuuuuuuuuuuuuute': 'cute', 'cuteeeeeeeeee': 'cute', 'cuttttttttttttttte': 'cute', 'cutttttttttte': 'cute', 'cuttte': 'cute', 'ccute': 'cute', 'cuuuuuuuuuuute': 'cute', 'cuuuuuuute': 'cute', 'cutte': 'cute', 'cuuuuuuuuuute': 'cute', 'cutttttttttttte': 'cute', 'cuteeeeeeeeeee': 'cute', 'cutttte': 'cute', 'cuuuuuuuute': 'cute', 'ccccccute': 'cute', 'ccccccccute': 'cute', 'cuteeeeeeee': 'cute', 'cuttttttttte': 'cute', 'cutttttte': 'cute', 'cuteeeeeeeeeeee': 'cute', 'cuteeeee': 'cute', 'cccccccccccccccute': 'cute', 'cuteeeeee': 'cute', 'cuttttttttttttte': 'cute', 'cuteeeeeeeeeeeee': 'cute', 'cccccccccccccute': 'cute', 'cuuuuuuuuute': 'cute', 'ccccccccccccute': 'cute', 'ccccccccccute': 'cute', 'cuttttte': 'cute', 'cuteeeeeeeee': 'cute', 'cuteeee': 'cute', 'cuuuuuuuuuuuuute': 'cute', 'cccccute': 'cute', 'cccccccccute': 'cute', 'cuteeeeeee': 'cute', 'cuteeeeeeeeeeeeeee': 'cute', 'ccccute': 'cute', 'cuute': 'cute', 'cuuuuuuuuuuuuuute': 'cute', 'cccccccccccute': 'cute', 'cccccccute': 'cute', 'cuteeeeeeeeeeeeee': 'cute', 'cuttttttttttte': 'cute', 'cuuuute': 'cute', 'cutee': 'cute', 'haaaaaaaappy': 'happy', 'happyyyyyy': 'happy', 'happpppppppppppppy': 'happy', 'happyyyyy': 'happy', 'hhhhhhhhhappy': 'happy', 'happppppppppppy': 'happy', 'happpppppppy': 'happy', 'hhhhhhhhhhhappy': 'happy', 'haappy': 'happy', 'happppppy': 'happy', 'happyyyyyyyyy': 'happy', 'happyyyyyyyyyyyyy': 'happy', 'happyyyy': 'happy', 'happppppppppppppppy': 'happy', 'happppy': 'happy', 'happyyyyyyyyyyyyyyy': 'happy', 'haaaaaaaaappy': 'happy', 'happyyyyyyy': 'happy', 'hhhhhhhhhhhhhhhappy': 'happy', 'happppppppppppppy': 'happy', 'hhhhhappy': 'happy', 'happyyy': 'happy', 'happpppppppppy': 'happy', 'happpppppppppppy': 'happy', 'haaaaaappy': 'happy', 'happpy': 'happy', 'haaaappy': 'happy', 'happpppppy': 'happy', 'happyyyyyyyyyyyy': 'happy', 'hhhhappy': 'happy', 'happyyyyyyyy': 'happy', 'happyyyyyyyyyyyyyy': 'happy', 'haaaaaaaaaaaappy': 'happy', 'happppppppy': 'happy', 'happyyyyyyyyyyy': 'happy', 'hhhhhhhhhhhhhappy': 'happy', 'hhhhhhhappy': 'happy', 'happpppy': 'happy', 'happyy': 'happy', 'haaaaaaaaaaaaaaappy': 'happy', 'haaaaappy': 'happy', 'haaaaaaaaaaaaappy': 'happy', 'happyyyyyyyyyy': 'happy', 'happppppppppy': 'happy', 'haaaaaaappy': 'happy', 'hhhhhhhhhhhhappy': 'happy', 'hhhhhhhhhhappy': 'happy', 'haaaaaaaaaappy': 'happy', 'hhhappy': 'happy', 'hhappy': 'happy', 'hhhhhhappy': 'happy', 'haaappy': 'happy', 'haaaaaaaaaaappy': 'happy', 'hhhhhhhhhhhhhhappy': 'happy', 'hhhhhhhhappy': 'happy', 'haaaaaaaaaaaaaappy': 'happy', 'yyes': 'yes', 'yeeeeeeeeeees': 'yes', 'yeeeees': 'yes', 'yeees': 'yes', 'yyyyyyyyes': 'yes', 'yyyes': 'yes', 'yesssss': 'yes', 'yeeeeeeeeeeeeees': 'yes', 'yyyyyyes': 'yes', 'yesssssss': 'yes', 'yyyyyyyyyes': 'yes', 'yessssssss': 'yes', 'yyyyyyyyyyyyyyes': 'yes', 'yyyyyyyyyyyyyyyes': 'yes', 'yyyyyyyes': 'yes', 'yessss': 'yes', 'yeeeeeeeeeeeees': 'yes', 'yesssssssssss': 'yes', 'yyyyyyyyyyes': 'yes', 'yesssssssss': 'yes', 'yeeeeeees': 'yes', 'yeeeeees': 'yes', 'yess': 'yes', 'yesssssssssssssss': 'yes', 'yyyyyyyyyyyes': 'yes', 'yeeees': 'yes', 'yyyyyyyyyyyyes': 'yes', 'yyyyyyyyyyyyyes': 'yes', 'yeeeeeeeeeeeeeees': 'yes', 'yyyyes': 'yes', 'yessssssssssss': 'yes', 'yessssss': 'yes', 'yyyyyes': 'yes', 'yessssssssss': 'yes', 'yeeeeeeeeeeees': 'yes', 'yessssssssssssss': 'yes', 'yeeeeeeeeees': 'yes', 'yeeeeeeees': 'yes', 'yesss': 'yes', 'yeeeeeeeees': 'yes', 'yesssssssssssss': 'yes', 'yees': 'yes', 'hugge': 'huge', 'hugeeeee': 'huge', 'hhhhhhhhuge': 'huge', 'huggggggggge': 'huge', 'hugeeeeeeeeeeeeee': 'huge', 'hhhuge': 'huge', 'hhuge': 'huge', 'huuuuuuge': 'huge', 'huggggggge': 'huge', 'hugeeeeeee': 'huge', 'huggggge': 'huge', 'hugggge': 'huge', 'huggggggggggge': 'huge', 'hhhhhhhhhhhhhuge': 'huge', 'hugggggggggggggge': 'huge', 'hhhhhhhhhhhhhhhuge': 'huge', 'hhhhhhhhhhuge': 'huge', 'huggggggggggggggge': 'huge', 'huuuuuuuuuuuuuuge': 'huge', 'huuuuuuuuuuuuuuuge': 'huge', 'hugeeee': 'huge', 'hugggggggge': 'huge', 'huggge': 'huge', 'hugeeeeeeeeeee': 'huge', 'hhhhhhuge': 'huge', 'hugeeeeeeee': 'huge', 'hhhhhuge': 'huge', 'hugeeeeeeeeeeeeeee': 'huge', 'hugggggggggggge': 'huge', 'hugee': 'huge', 'huuuuuge': 'huge', 'huuuuuuuuuuuuuge': 'huge', 'huuuge': 'huge', 'huggggggggggggge': 'huge', 'hugeeeeee': 'huge', 'huuuuge': 'huge', 'huuuuuuuuge': 'huge', 'hugggggggggge': 'huge', 'huuuuuuuge': 'huge', 'hhhhhhhhhhhhhhuge': 'huge', 'huuuuuuuuuge': 'huge', 'hugeeeeeeeeeeee': 'huge', 'hhhhuge': 'huge', 'hhhhhhhhhhhhuge': 'huge', 'hugeeeeeeeee': 'huge', 'hugeeeeeeeeeeeee': 'huge', 'huuuuuuuuuuuge': 'huge', 'huuuuuuuuuuuuge': 'huge', 'hugeee': 'huge', 'hugeeeeeeeeee': 'huge', 'hugggggge': 'huge', 'hhhhhhhuge': 'huge', 'huuuuuuuuuuge': 'huge', 'hhhhhhhhhhhuge': 'huge', 'huuge': 'huge', 'hhhhhhhhhuge': 'huge', 'sexxxxy': 'sexy', 'ssssssexy': 'sexy', 'seeeeeeexy': 'sexy', 'sssssssssssssexy': 'sexy', 'sexxxxxxxxxxxxxy': 'sexy', 'sexyyyyy': 'sexy', 'seeeexy': 'sexy', 'sexxxy': 'sexy', 'sexxxxxy': 'sexy', 'sexxxxxxxxxxxxxxy': 'sexy', 'sexyyyyyyyyyyyyyyy': 'sexy', 'seeeeeeeeeeeeeeexy': 'sexy', 'sexyyyyyyyyy': 'sexy', 'sssssexy': 'sexy', 'sssssssssexy': 'sexy', 'sexyyyyyyyyyyyyy': 'sexy', 'ssssssssexy': 'sexy', 'sexxxxxxxxy': 'sexy', 'sexxy': 'sexy', 'seeexy': 'sexy', 'ssexy': 'sexy', 'seeeeeeeeeexy': 'sexy', 'sexxxxxxxxxy': 'sexy', 'seeeeeeeexy': 'sexy', 'sexxxxxxxxxxxxy': 'sexy', 'seexy': 'sexy', 'seeeeeeeeeeeeeexy': 'sexy', 'sexyy': 'sexy', 'seeeeeeeeeeeeexy': 'sexy', 'sexxxxxxxxxxxxxxxy': 'sexy', 'seeeeeeeeeeexy': 'sexy', 'sexyyyyyyyyyyyyyy': 'sexy', 'seeeeeeeeeeeexy': 'sexy', 'sexyyyyyyyyyyy': 'sexy', 'sssssssexy': 'sexy', 'sexyyyyyyyyyyyy': 'sexy', 'ssssssssssssssexy': 'sexy', 'sexxxxxxxy': 'sexy', 'ssssssssssssexy': 'sexy', 'sssssssssssssssexy': 'sexy', 'sexxxxxxxxxxxy': 'sexy', 'ssssexy': 'sexy', 'sexyyyyyyyy': 'sexy', 'sexxxxxxy': 'sexy', 'sexyyyyyyyyyy': 'sexy', 'sexyyyyyyy': 'sexy', 'seeeeeeeeexy': 'sexy', 'ssssssssssexy': 'sexy', 'sssssssssssexy': 'sexy', 'seeeeeexy': 'sexy', 'sexyyyyyy': 'sexy', 'sssexy': 'sexy', 'sexxxxxxxxxxy': 'sexy', 'seeeeexy': 'sexy', 'sexyyy': 'sexy', 'sexyyyy': 'sexy', 'ooooooooookay': 'okay', 'okaaaaaaaaaay': 'okay', 'okayyyyy': 'okay', 'oooookay': 'okay', 'okkkkkkkay': 'okay', 'okayyyy': 'okay', 'okaaaaay': 'okay', 'okayyyyyyyyyyyyyyy': 'okay', 'okkkkkkkkkkkkkkkay': 'okay', 'okayyyyyyyyy': 'okay', 'okaaay': 'okay', 'okaaaaaaaaaaaay': 'okay', 'okayyyyyyyyyyyyy': 'okay', 'okkay': 'okay', 'okkkkkkkkay': 'okay', 'okkkkkkkkkkkkkay': 'okay', 'ookay': 'okay', 'okkkkkkay': 'okay', 'ooookay': 'okay', 'okaaaaaaaaaaaaaay': 'okay', 'okayyyyyyyyyyyyyy': 'okay', 'okayyy': 'okay', 'okaaaaaaaaay': 'okay', 'okayyyyyyyyyyyy': 'okay', 'okayyyyyyyyyyy': 'okay', 'okayyyyyy': 'okay', 'okaay': 'okay', 'okaaaaaaaaaaaaaaay': 'okay', 'oooooookay': 'okay', 'okkkkkkkkkay': 'okay', 'okayyyyyyyy': 'okay', 'okaaaaaay': 'okay', 'okaaaaaaaaaaay': 'okay', 'okkkkkay': 'okay', 'okayy': 'okay', 'ooooookay': 'okay', 'okkkkkkkkkkkay': 'okay', 'okaaaaaaay': 'okay', 'okayyyyyyyyyy': 'okay', 'oooooooookay': 'okay', 'okkkkkkkkkkay': 'okay', 'okkkkkkkkkkkkay': 'okay', 'okkkkay': 'okay', 'ooooooooooooookay': 'okay', 'oookay': 'okay', 'okaaaaaaaaaaaaay': 'okay', 'okkkay': 'okay', 'ooooooooooookay': 'okay', 'okayyyyyyy': 'okay', 'oooooooooookay': 'okay', 'oooooooooooooookay': 'okay', 'okaaaay': 'okay', 'oooooooooooookay': 'okay', 'ooooooookay': 'okay', 'okkkkkkkkkkkkkkay': 'okay', 'okaaaaaaaay': 'okay', 'wasttttttttttte': 'waste', 'waaste': 'waste', 'wwwwwwwwwwwwwaste': 'waste', 'wasteeeeeeeeeee': 'waste', 'wasssssssste': 'waste', 'waaaaaaaaaaaaaste': 'waste', 'wasssssssssste': 'waste', 'wasttttte': 'waste', 'waaaaaaaaste': 'waste', 'wassssssssssssste': 'waste', 'wastttttttte': 'waste', 'wwwwwwwwaste': 'waste', 'wasteeee': 'waste', 'wwwwwwwwwwwwaste': 'waste', 'wasssssssssssssste': 'waste', 'wwwwwwwwwwwaste': 'waste', 'wwwwwwwwwaste': 'waste', 'waaaaaaaaaaste': 'waste', 'wasttttttttttttte': 'waste', 'wasteeeeeeee': 'waste', 'wasttttttttte': 'waste', 'wassssssste': 'waste', 'wwwwwwwwwwwwwwaste': 'waste', 'wasteeeeeeeee': 'waste', 'wassssssssssste': 'waste', 'waaaaaaste': 'waste', 'waaaaaaaaaaaste': 'waste', 'wwaste': 'waste', 'waaaaaaaaaaaaaaaste': 'waste', 'waaaaaaaaaaaaaaste': 'waste', 'wasttttttte': 'waste', 'waaaaste': 'waste', 'waaaste': 'waste', 'wastttttte': 'waste', 'wwwwaste': 'waste', 'wwwwwaste': 'waste', 'wasteeeeee': 'waste', 'wastttttttttttttte': 'waste', 'wasssssste': 'waste', 'wasssste': 'waste', 'wastttttttttttte': 'waste', 'wasteeeeeeeeeeeeeee': 'waste', 'wasteeeeeee': 'waste', 'wasteee': 'waste', 'waaaaaaaaaaaaste': 'waste', 'wasteeeeeeeeee': 'waste', 'wwwwwwwaste': 'waste', 'wasteeeeeeeeeeeee': 'waste', 'wastee': 'waste', 'wassste': 'waste', 'wasttte': 'waste', 'waaaaaaaaaste': 'waste', 'wasteeeee': 'waste', 'wassssssssste': 'waste', 'wastttte': 'waste', 'wassssssssssssssste': 'waste', 'waaaaaste': 'waste', 'wwwwwwwwwwwwwwwaste': 'waste', 'wasteeeeeeeeeeee': 'waste', 'wastte': 'waste', 'wwwwwwwwwwaste': 'waste', 'wasssssssssssste': 'waste', 'wassssste': 'waste', 'wasste': 'waste', 'wastttttttttte': 'waste', 'waaaaaaaste': 'waste', 'wwwaste': 'waste', 'wasttttttttttttttte': 'waste', 'wasteeeeeeeeeeeeee': 'waste', 'wwwwwwaste': 'waste', 'worrrrrrrrrrrrrrse': 'worse', 'worrrrrrrrrrrrrrrse': 'worse', 'worrrrrse': 'worse', 'worseeeee': 'worse', 'worssssssssssssssse': 'worse', 'worrse': 'worse', 'wooooorse': 'worse', 'worrrrrrrrrse': 'worse', 'woooooooooorse': 'worse', 'worrrrrrrrrrrrse': 'worse', 'worssssse': 'worse', 'worssssssssse': 'worse', 'worsssssssssse': 'worse', 'wwwwwwworse': 'worse', 'worseeeeeee': 'worse', 'worseeeeeeee': 'worse', 'worsse': 'worse', 'worseee': 'worse', 'worrrrse': 'worse', 'worseeee': 'worse', 'worseeeeeeeeeeee': 'worse', 'woooooooorse': 'worse', 'wwwwwwwwwwwwwworse': 'worse', 'wwwwwwwwwwworse': 'worse', 'worsssssse': 'worse', 'wooorse': 'worse', 'wwwwwwwwwwwwwwworse': 'worse', 'wwwwwworse': 'worse', 'wooooooooooorse': 'worse', 'woorse': 'worse', 'worsssssssssssse': 'worse', 'worrrrrrse': 'worse', 'worssssssse': 'worse', 'worseeeeeeeeee': 'worse', 'worssssssssssssse': 'worse', 'worrrrrrrrrrrse': 'worse', 'wwwwworse': 'worse', 'wwwwwwwwwwwworse': 'worse', 'worseeeeeeeeeeeeee': 'worse', 'worseeeeeeeee': 'worse', 'worrrrrrrrse': 'worse', 'woooooorse': 'worse', 'worseeeeeeeeeeeeeee': 'worse', 'worssssssssssse': 'worse', 'worseeeeee': 'worse', 'woooooooooooorse': 'worse', 'wwwwwwwwwwwwworse': 'worse', 'woooooooooooooorse': 'worse', 'worseeeeeeeeeee': 'worse', 'worseeeeeeeeeeeee': 'worse', 'worsssssssse': 'worse', 'worsssse': 'worse', 'wwworse': 'worse', 'worrrrrrrse': 'worse', 'worrrse': 'worse', 'wworse': 'worse', 'worrrrrrrrrrse': 'worse', 'wooooooooooooorse': 'worse', 'worsee': 'worse', 'wooooooooorse': 'worse', 'wooooooooooooooorse': 'worse', 'wwwwwwwwwworse': 'worse', 'wooooooorse': 'worse', 'wwwworse': 'worse', 'woooorse': 'worse', 'worsssssssssssssse': 'worse', 'worssse': 'worse', 'wwwwwwwwworse': 'worse', 'wwwwwwwworse': 'worse', 'worrrrrrrrrrrrrse': 'worse', 'hhhhhhhhorrible': 'horrible', 'horribbbbbbble': 'horrible', 'hooooorrible': 'horrible', 'horriblee': 'horrible', 'horriiiiiiiiiiiiiiible': 'horrible', 'hhhhhhhhhhhhhhorrible': 'horrible', 'hoooorrible': 'horrible', 'horribbbbbbbbbbbbbbble': 'horrible', 'horribleeeeeeeeeeeeeee': 'horrible', 'horribleeeee': 'horrible', 'horrrrrible': 'horrible', 'horrrrrrrrrrrrrrrible': 'horrible', 'horriblllllllllllllle': 'horrible', 'horrrrrrrrrrrrrrible': 'horrible', 'horriblllllllllle': 'horrible', 'hoooooooooooorrible': 'horrible', 'horribleeeeee': 'horrible', 'horribleeeeeeeeee': 'horrible', 'horribble': 'horrible', 'horribbble': 'horrible', 'horribleeeeeeeeeeeeee': 'horrible', 'horriiiible': 'horrible', 'horribllllllle': 'horrible', 'horriible': 'horrible', 'horribleeeeeeeee': 'horrible', 'horriiiiiiiiiiiiiible': 'horrible', 'horribbbbbbbbbbbble': 'horrible', 'horrrrrrrrrrrible': 'horrible', 'hhhorrible': 'horrible', 'horrrrrrrrrrrrrible': 'horrible', 'hoooooooooooooorrible': 'horrible', 'horriiiiible': 'horrible', 'hhhhhhhhhhhorrible': 'horrible', 'horrrible': 'horrible', 'horribbbbbbbbble': 'horrible', 'horribleeee': 'horrible', 'horribllllllllle': 'horrible', 'horrrrible': 'horrible', 'horribbbbbbbbbbbbbble': 'horrible', 'hhhhhhhhhhorrible': 'horrible', 'horribbbbbbbbbbbbble': 'horrible', 'horrrrrrrrrrrrrrrrible': 'horrible', 'hooooooooooooorrible': 'horrible', 'hhhhhhhhhhhhhorrible': 'horrible', 'hoooooorrible': 'horrible', 'horrrrrrrrrrible': 'horrible', 'horribbbbble': 'horrible', 'horriblllllllle': 'horrible', 'horrrrrrrible': 'horrible', 'horrrrrrrrrrrrible': 'horrible', 'hooooooorrible': 'horrible', 'hhhhorrible': 'horrible', 'horribbbbbbbbbble': 'horrible', 'horrrrrrible': 'horrible', 'horribbbbbbbble': 'horrible', 'hooooooooooorrible': 'horrible', 'horribllllle': 'horrible', 'horribleeeeeeee': 'horrible', 'hoorrible': 'horrible', 'horriblllllle': 'horrible', 'hooorrible': 'horrible', 'horriiiiiiiiiiiible': 'horrible', 'horriiiiiible': 'horrible', 'hoooooooooorrible': 'horrible', 'horriiiiiiiiiiiiible': 'horrible', 'horribleeeeeeeeeeee': 'horrible', 'hhorrible': 'horrible', 'hhhhhhhhhhhhorrible': 'horrible', 'horribbbbbble': 'horrible', 'horribllllllllllllllle': 'horrible', 'horribleeeeeee': 'horrible', 'horriblle': 'horrible', 'horribleeeeeeeeeeeee': 'horrible', 'hhhhhhhhhorrible': 'horrible', 'horriiible': 'horrible', 'horrrrrrrrible': 'horrible', 'horribllllllllllle': 'horrible', 'horriiiiiiiiible': 'horrible', 'horriiiiiiible': 'horrible', 'horribleee': 'horrible', 'hhhhhorrible': 'horrible', 'horrrrrrrrrible': 'horrible', 'horribbbbbbbbbbble': 'horrible', 'hhhhhhorrible': 'horrible', 'horribllllllllllllle': 'horrible', 'horriblllle': 'horrible', 'horriiiiiiiiiible': 'horrible', 'hhhhhhhorrible': 'horrible', 'horribbbble': 'horrible', 'horribllle': 'horrible', 'horriblllllllllllle': 'horrible', 'hoooooooorrible': 'horrible', 'hooooooooorrible': 'horrible', 'hooooooooooooooorrible': 'horrible', 'horribleeeeeeeeeee': 'horrible', 'horriiiiiiiiiiible': 'horrible', 'horriiiiiiiible': 'horrible', 'hhhhhhhhhhhhhhhorrible': 'horrible', 'yummmmmmmmmmmmmmy': 'yummy', 'yummmmmmmmmmmmmmmy': 'yummy', 'yyyyyyyyyyyyyyummy': 'yummy', 'yummmmmmmmmmmmy': 'yummy', 'yummmmmmmmmmmy': 'yummy', 'yummmmmmmmmmmmmmmmy': 'yummy', 'yummmmy': 'yummy', 'yyyyyyummy': 'yummy', 'yummmmmmmmy': 'yummy', 'yuuuuuuuuuuummy': 'yummy', 'yuuuuuummy': 'yummy', 'yummyyyyyyyyyyyy': 'yummy', 'yuuummy': 'yummy', 'yyyyyyyyyyyyyummy': 'yummy', 'yummyyyyyyyyyyyyyy': 'yummy', 'yummmy': 'yummy', 'yyyyyyyyyyummy': 'yummy', 'yummmmmmmmmy': 'yummy', 'yuummy': 'yummy', 'yyyyyyyyyyyyummy': 'yummy', 'yummmmmy': 'yummy', 'yummmmmmmmmmmmmy': 'yummy', 'yummmmmmy': 'yummy', 'yummyyyyyy': 'yummy', 'yyyyyummy': 'yummy', 'yummyyyyyyyy': 'yummy', 'yuuuummy': 'yummy', 'yyyyyyyyyummy': 'yummy', 'yyyummy': 'yummy', 'yummyyyyyyy': 'yummy', 'yummyyyyyyyyyyyyy': 'yummy', 'yummyyyyyyyyy': 'yummy', 'yuuuuuuuuuuuuummy': 'yummy', 'yyummy': 'yummy', 'yummyyyy': 'yummy', 'yuuuuuuuuuummy': 'yummy', 'yummmmmmmmmmy': 'yummy', 'yuuuuummy': 'yummy', 'yummyyyyyyyyyy': 'yummy', 'yummmmmmmy': 'yummy', 'yyyyyyyummy': 'yummy', 'yummyyy': 'yummy', 'yyyyyyyyummy': 'yummy', 'yyyyyyyyyyyyyyyummy': 'yummy', 'yuuuuuuummy': 'yummy', 'yuuuuuuuuuuuummy': 'yummy', 'yyyyummy': 'yummy', 'yummyy': 'yummy', 'yyyyyyyyyyyummy': 'yummy', 'yummyyyyyyyyyyy': 'yummy', 'yuuuuuuuuuuuuuummy': 'yummy', 'yummyyyyyyyyyyyyyyy': 'yummy', 'yuuuuuuuuummy': 'yummy', 'yummyyyyy': 'yummy', 'yuuuuuuuummy': 'yummy', 'yuuuuuuuuuuuuuuummy': 'yummy'}\n"
     ]
    }
   ],
   "source": [
    "import pandas as pd\n",
    "\n",
    "# Load the dataset\n",
    "df = pd.read_csv('repeated_letters_words_v5.csv')\n",
    "\n",
    "# Group the DataFrame by the unique values in 'column_name_1' and aggregate the corresponding values in 'column_name_2' as a list\n",
    "# result = df.set_index('actual')['emphasized'].to_dict()\n",
    "# result = df[['emphasized', 'actual']].to_dict('records')\n",
    "result = dict(zip(df['emphasized'], df['actual']))\n",
    "\n",
    "# Print the result\n",
    "print(result)\n",
    "# Print the result\n",
    "# print(result)\n",
    "# Print the result\n",
    "# print(result)\n",
    "# result = df.groupby('actual')['emphasized'].agg(list)\n",
    "\n",
    "# Print the result\n",
    "# print(result.to_dict())\n",
    "\n",
    "# repeating_words = result.to_dict()\n",
    "#\n",
    "# repeating_word_list = []\n",
    "# actual_word_list = []\n",
    "#\n",
    "# for actual_word, repeating_words in repeating_words.items():\n",
    "#     repeating_word_list += repeating_words\n",
    "#     actual_word_list += [actual_word] * len(repeating_words)"
   ],
   "metadata": {
    "collapsed": false,
    "ExecuteTime": {
     "start_time": "2023-04-10T21:31:07.964012Z",
     "end_time": "2023-04-10T21:31:08.017043Z"
    }
   }
  },
  {
   "cell_type": "code",
   "execution_count": 35,
   "outputs": [
    {
     "name": "stdout",
     "output_type": "stream",
     "text": [
      "Epoch 1/10\n",
      "152/152 [==============================] - 4s 12ms/step - loss: 3.4701 - accuracy: 0.0533\n",
      "Epoch 2/10\n",
      "152/152 [==============================] - 2s 12ms/step - loss: 3.0850 - accuracy: 0.1222\n",
      "Epoch 3/10\n",
      "152/152 [==============================] - 2s 12ms/step - loss: 2.8049 - accuracy: 0.1569\n",
      "Epoch 4/10\n",
      "152/152 [==============================] - 2s 12ms/step - loss: 2.5679 - accuracy: 0.2064\n",
      "Epoch 5/10\n",
      "152/152 [==============================] - 2s 12ms/step - loss: 2.3452 - accuracy: 0.2754\n",
      "Epoch 6/10\n",
      "152/152 [==============================] - 2s 12ms/step - loss: 2.1322 - accuracy: 0.3237\n",
      "Epoch 7/10\n",
      "152/152 [==============================] - 2s 12ms/step - loss: 1.9373 - accuracy: 0.3906\n",
      "Epoch 8/10\n",
      "152/152 [==============================] - 2s 12ms/step - loss: 1.8199 - accuracy: 0.4158\n",
      "Epoch 9/10\n",
      "152/152 [==============================] - 2s 12ms/step - loss: 1.7191 - accuracy: 0.4513\n",
      "Epoch 10/10\n",
      "152/152 [==============================] - 2s 12ms/step - loss: 1.5651 - accuracy: 0.5041\n",
      "1/1 [==============================] - 1s 581ms/step\n",
      "Predicted actual word for goooood: like\n"
     ]
    }
   ],
   "source": [
    "import tensorflow as tf\n",
    "from tensorflow.keras.preprocessing.text import Tokenizer\n",
    "from tensorflow.keras.preprocessing.sequence import pad_sequences\n",
    "from tensorflow.keras.layers import LSTM, Dense, Embedding, Dropout\n",
    "from tensorflow.keras.models import Sequential\n",
    "import numpy as np\n",
    "# create a dictionary of words with repeating letters and their corresponding actual word\n",
    "# repeating_words = {'goooood': 'good', 'hooome': 'home', 'reeed': 'red', 'coool': 'cool'}\n",
    "\n",
    "# create lists of repeating words and their corresponding actual words\n",
    "repeating_words = result\n",
    "repeating_word_list = list(repeating_words.keys())\n",
    "actual_word_list = list(repeating_words.values())\n",
    "\n",
    "# create a dictionary to map actual words to integers\n",
    "actual_word_to_int = {word: i for i, word in enumerate(set(actual_word_list))}\n",
    "\n",
    "# convert the actual word list to integers\n",
    "actual_word_list_int = [actual_word_to_int[word] for word in actual_word_list]\n",
    "\n",
    "# tokenize the repeating word list\n",
    "tokenizer = Tokenizer(char_level=True)\n",
    "tokenizer.fit_on_texts(repeating_word_list)\n",
    "sequences = tokenizer.texts_to_sequences(repeating_word_list)\n",
    "\n",
    "# pad the sequences to have the same length\n",
    "max_length = max([len(seq) for seq in sequences])\n",
    "padded_sequences = pad_sequences(sequences, maxlen=max_length, padding='post')\n",
    "\n",
    "# create a sequential model\n",
    "model = Sequential()\n",
    "\n",
    "# add an embedding layer to learn the context of the words\n",
    "model.add(Embedding(input_dim=len(tokenizer.word_index)+1, output_dim=16, input_length=max_length))\n",
    "\n",
    "# add a LSTM layer to capture the sequence of the letters in the word\n",
    "model.add(LSTM(32, return_sequences=True))\n",
    "model.add(Dropout(0.5))\n",
    "\n",
    "# add another LSTM layer to further capture the sequence of the letters\n",
    "model.add(LSTM(32))\n",
    "model.add(Dropout(0.5))\n",
    "\n",
    "# add a dense output layer with softmax activation to predict the actual word\n",
    "model.add(Dense(len(actual_word_to_int), activation='softmax'))\n",
    "\n",
    "# compile the model\n",
    "model.compile(loss='categorical_crossentropy', optimizer='adam', metrics=['accuracy'])\n",
    "\n",
    "# train the model\n",
    "model.fit(padded_sequences, tf.keras.utils.to_categorical(actual_word_list_int), epochs=10, batch_size=16)\n",
    "\n",
    "# use the model to predict the actual word for a repeating word\n",
    "# test_word = 'goooood'\n",
    "# test_sequence = tokenizer.texts_to_sequences([test_word])\n",
    "# test_padded_sequence = pad_sequences(test_sequence, maxlen=max_length, padding='post')\n",
    "# predicted_index = model.predict_classes(test_padded_sequence)\n",
    "# predicted_word = [k for k, v in actual_word_to_int.items() if v == predicted_index[0]][0]\n",
    "# print(f'Predicted actual word for {test_word}: {predicted_word}')\n",
    "\n",
    "test_word = 'goooood'\n",
    "test_sequence = tokenizer.texts_to_sequences([test_word])\n",
    "test_padded_sequence = pad_sequences(test_sequence, maxlen=max_length, padding='post')\n",
    "predicted_probabilities = model.predict(test_padded_sequence)\n",
    "predicted_index = np.argmax(predicted_probabilities)\n",
    "predicted_word = actual_word_list[predicted_index]\n",
    "print(f'Predicted actual word for {test_word}: {predicted_word}')\n"
   ],
   "metadata": {
    "collapsed": false,
    "ExecuteTime": {
     "start_time": "2023-04-10T21:33:45.877135Z",
     "end_time": "2023-04-10T21:34:07.562288Z"
    }
   }
  },
  {
   "cell_type": "code",
   "execution_count": 34,
   "outputs": [
    {
     "name": "stdout",
     "output_type": "stream",
     "text": [
      "1/1 [==============================] - 0s 19ms/step\n",
      "Predicted actual word for like: like\n"
     ]
    }
   ],
   "source": [
    "test_word = 'like'\n",
    "test_sequence = tokenizer.texts_to_sequences([test_word])\n",
    "test_padded_sequence = pad_sequences(test_sequence, maxlen=max_length, padding='post')\n",
    "predicted_probabilities = model.predict(test_padded_sequence)\n",
    "predicted_index = np.argmax(predicted_probabilities)\n",
    "predicted_word = actual_word_list[predicted_index]\n",
    "print(f'Predicted actual word for {test_word}: {predicted_word}')"
   ],
   "metadata": {
    "collapsed": false,
    "ExecuteTime": {
     "start_time": "2023-04-10T21:32:33.352274Z",
     "end_time": "2023-04-10T21:32:33.421986Z"
    }
   }
  },
  {
   "cell_type": "code",
   "execution_count": 29,
   "outputs": [],
   "source": [
    "df = pd.read_csv('repeated_letters_words_v9.csv')"
   ],
   "metadata": {
    "collapsed": false,
    "ExecuteTime": {
     "start_time": "2023-04-23T22:56:56.328300Z",
     "end_time": "2023-04-23T22:56:56.464292Z"
    }
   }
  },
  {
   "cell_type": "code",
   "execution_count": 30,
   "outputs": [
    {
     "name": "stdout",
     "output_type": "stream",
     "text": [
      "Best Model: Pipeline(steps=[('vect', CountVectorizer(analyzer='char')),\n",
      "                ('tfidf', TfidfTransformer()),\n",
      "                ('clf', RandomForestClassifier())])\n",
      "Best Parameters: {'clf': RandomForestClassifier(), 'tfidf__use_idf': True}\n",
      "Classification Report:\n",
      "               precision    recall  f1-score   support\n",
      "\n",
      "         all       1.00      1.00      1.00         7\n",
      "     amazing       1.00      1.00      1.00        12\n",
      "     awesome       1.00      1.00      1.00        11\n",
      "         bad       1.00      1.00      1.00         4\n",
      "   beautiful       1.00      1.00      1.00        13\n",
      "      better       1.00      1.00      1.00        10\n",
      "      boring       1.00      1.00      1.00         7\n",
      "         but       1.00      1.00      1.00         2\n",
      "        cool       1.00      1.00      1.00         6\n",
      "        cute       1.00      1.00      1.00         2\n",
      "   delicious       1.00      1.00      1.00        10\n",
      "   excellent       1.00      1.00      1.00        12\n",
      "        fuck       1.00      1.00      1.00         3\n",
      "         fun       1.00      1.00      1.00         6\n",
      "        good       1.00      1.00      1.00         8\n",
      "       great       1.00      1.00      1.00         8\n",
      "       happy       1.00      1.00      1.00         9\n",
      "    horrible       1.00      1.00      1.00         8\n",
      "         hot       1.00      1.00      1.00         6\n",
      "        huge       1.00      1.00      1.00         8\n",
      "          it       1.00      1.00      1.00         2\n",
      "        just       1.00      1.00      1.00         7\n",
      "        like       1.00      1.00      1.00         6\n",
      "        love       1.00      1.00      1.00         4\n",
      "       nasty       1.00      1.00      1.00         5\n",
      "        need       1.00      1.00      1.00         6\n",
      "        nice       1.00      1.00      1.00         5\n",
      "          no       1.00      1.00      1.00         8\n",
      "     nothing       1.00      1.00      1.00         6\n",
      "        okay       1.00      1.00      1.00         8\n",
      "     perfect       1.00      1.00      1.00         9\n",
      "      pretty       1.00      1.00      1.00         9\n",
      "      really       1.00      1.00      1.00         5\n",
      "        sexy       1.00      1.00      1.00         2\n",
      "        shit       1.00      1.00      1.00         2\n",
      "        slow       1.00      1.00      1.00         5\n",
      "      smooth       1.00      1.00      1.00         6\n",
      "          so       1.00      1.00      1.00         4\n",
      "       super       1.00      1.00      1.00         7\n",
      "       sweet       1.00      1.00      1.00         5\n",
      "       tasty       1.00      1.00      1.00         8\n",
      "         too       1.00      1.00      1.00         1\n",
      "         ugh       1.00      1.00      1.00         4\n",
      "        very       1.00      1.00      1.00         6\n",
      "       waste       1.00      1.00      1.00         5\n",
      "         way       1.00      1.00      1.00         6\n",
      "         woo       0.67      1.00      0.80         2\n",
      "       worse       1.00      1.00      1.00         6\n",
      "         wow       0.00      0.00      0.00         1\n",
      "         yes       1.00      1.00      1.00         3\n",
      "       yummy       1.00      1.00      1.00         6\n",
      "\n",
      "    accuracy                           1.00       311\n",
      "   macro avg       0.97      0.98      0.98       311\n",
      "weighted avg       0.99      1.00      1.00       311\n",
      "\n",
      "Confusion Matrix:\n",
      " [[ 7  0  0 ...  0  0  0]\n",
      " [ 0 12  0 ...  0  0  0]\n",
      " [ 0  0 11 ...  0  0  0]\n",
      " ...\n",
      " [ 0  0  0 ...  0  0  0]\n",
      " [ 0  0  0 ...  0  3  0]\n",
      " [ 0  0  0 ...  0  0  6]]\n",
      "Accuracy Score: 0.9967845659163987\n"
     ]
    },
    {
     "name": "stderr",
     "output_type": "stream",
     "text": [
      "C:\\Users\\disur\\anaconda3\\envs\\base_clone\\lib\\site-packages\\sklearn\\metrics\\_classification.py:1318: UndefinedMetricWarning: Precision and F-score are ill-defined and being set to 0.0 in labels with no predicted samples. Use `zero_division` parameter to control this behavior.\n",
      "  _warn_prf(average, modifier, msg_start, len(result))\n",
      "C:\\Users\\disur\\anaconda3\\envs\\base_clone\\lib\\site-packages\\sklearn\\metrics\\_classification.py:1318: UndefinedMetricWarning: Precision and F-score are ill-defined and being set to 0.0 in labels with no predicted samples. Use `zero_division` parameter to control this behavior.\n",
      "  _warn_prf(average, modifier, msg_start, len(result))\n",
      "C:\\Users\\disur\\anaconda3\\envs\\base_clone\\lib\\site-packages\\sklearn\\metrics\\_classification.py:1318: UndefinedMetricWarning: Precision and F-score are ill-defined and being set to 0.0 in labels with no predicted samples. Use `zero_division` parameter to control this behavior.\n",
      "  _warn_prf(average, modifier, msg_start, len(result))\n"
     ]
    }
   ],
   "source": [
    "import pandas as pd\n",
    "import numpy as np\n",
    "from sklearn.feature_extraction.text import CountVectorizer, TfidfTransformer\n",
    "from sklearn.model_selection import train_test_split, GridSearchCV\n",
    "from sklearn.pipeline import Pipeline\n",
    "from sklearn.metrics import classification_report, confusion_matrix, accuracy_score\n",
    "from sklearn.naive_bayes import MultinomialNB\n",
    "from sklearn.tree import DecisionTreeClassifier\n",
    "from sklearn.ensemble import RandomForestClassifier\n",
    "from sklearn.svm import SVC\n",
    "from sklearn.neighbors import KNeighborsClassifier\n",
    "\n",
    "# create a dictionary of words with repeating letters and their corresponding actual word\n",
    "# repeating_words = result\n",
    "# result = dict(zip(df['emphasized'], df['actual']))\n",
    "\n",
    "\n",
    "# create a pandas dataframe with the repeating words and their actual words\n",
    "# df = pd.DataFrame(list(repeating_words.items()), columns=['emphasized', 'actual'])\n",
    "df = df.sample(frac = 1)\n",
    "\n",
    "# define the pipeline with CountVectorizer, TfidfTransformer, and a classifier\n",
    "pipeline = Pipeline([\n",
    "    ('vect', CountVectorizer(analyzer='char')), #, ngram_range=(2,20)\n",
    "    ('tfidf', TfidfTransformer()),\n",
    "    ('clf', MultinomialNB())\n",
    "])\n",
    "\n",
    "# ngrams = [(2, i) for i in range(2, 21)]\n",
    "# define the parameters to search for in GridSearchCV\n",
    "parameters = {\n",
    "    # 'vect__ngram_range': ngrams,\n",
    "    'tfidf__use_idf': (True, True),\n",
    "    'clf': [MultinomialNB(), DecisionTreeClassifier(), RandomForestClassifier(), SVC(), KNeighborsClassifier()],\n",
    "}\n",
    "\n",
    "# split the data into training and testing sets\n",
    "X_train, X_test, y_train, y_test = train_test_split(df['emphasized'], df['actual'], test_size=0.1, random_state=42)\n",
    "\n",
    "# run GridSearchCV to find the best model and parameters\n",
    "grid_search = GridSearchCV(pipeline, parameters, cv=5, n_jobs=-1)\n",
    "grid_search.fit(X_train, y_train)\n",
    "\n",
    "# get the best model and its parameters\n",
    "best_model = grid_search.best_estimator_\n",
    "best_params = grid_search.best_params_\n",
    "\n",
    "# print the best model and its parameters\n",
    "print(\"Best Model:\", best_model)\n",
    "print(\"Best Parameters:\", best_params)\n",
    "\n",
    "# use the best model to predict the actual words for the test data\n",
    "y_pred = best_model.predict(X_test)\n",
    "\n",
    "# print the classification report, confusion matrix, and accuracy score\n",
    "print(\"Classification Report:\\n\", classification_report(y_test, y_pred))\n",
    "print(\"Confusion Matrix:\\n\", confusion_matrix(y_test, y_pred))\n",
    "print(\"Accuracy Score:\", accuracy_score(y_test, y_pred))"
   ],
   "metadata": {
    "collapsed": false,
    "ExecuteTime": {
     "start_time": "2023-04-23T22:57:00.493910Z",
     "end_time": "2023-04-23T22:57:17.394551Z"
    }
   }
  },
  {
   "cell_type": "code",
   "execution_count": 37,
   "outputs": [
    {
     "data": {
      "text/plain": "'waste'"
     },
     "execution_count": 37,
     "metadata": {},
     "output_type": "execute_result"
    }
   ],
   "source": [
    "\n",
    "repeating_word = 'waiist'\n",
    "# predict the actual word for the repeating word using the best model\n",
    "best_model.predict([repeating_word])[0]\n",
    "\n",
    "import pickle\n",
    "with open('model_v9.pkl', 'wb') as file:\n",
    "    pickle.dump(best_model, file)\n",
    "\n",
    "\n",
    "with open('model_v9.pkl', 'rb') as file:\n",
    "    model = pickle.load(file)\n",
    "\n",
    "model.predict([repeating_word])[0]\n",
    "\n"
   ],
   "metadata": {
    "collapsed": false,
    "ExecuteTime": {
     "start_time": "2023-04-23T22:59:46.680846Z",
     "end_time": "2023-04-23T22:59:46.746096Z"
    }
   }
  },
  {
   "cell_type": "code",
   "execution_count": 38,
   "outputs": [
    {
     "name": "stdout",
     "output_type": "stream",
     "text": [
      "Classification Report:\n",
      "               precision    recall  f1-score   support\n",
      "\n",
      "         all       1.00      1.00      1.00         7\n",
      "     amazing       1.00      1.00      1.00        12\n",
      "     awesome       1.00      1.00      1.00        11\n",
      "         bad       1.00      1.00      1.00         4\n",
      "   beautiful       1.00      1.00      1.00        13\n",
      "      better       1.00      1.00      1.00        10\n",
      "      boring       1.00      1.00      1.00         7\n",
      "         but       1.00      1.00      1.00         2\n",
      "        cool       1.00      1.00      1.00         6\n",
      "        cute       1.00      1.00      1.00         2\n",
      "   delicious       1.00      1.00      1.00        10\n",
      "   excellent       1.00      1.00      1.00        12\n",
      "        fuck       1.00      1.00      1.00         3\n",
      "         fun       1.00      1.00      1.00         6\n",
      "        good       1.00      1.00      1.00         8\n",
      "       great       1.00      1.00      1.00         8\n",
      "       happy       1.00      1.00      1.00         9\n",
      "    horrible       1.00      1.00      1.00         8\n",
      "         hot       1.00      1.00      1.00         6\n",
      "        huge       1.00      1.00      1.00         8\n",
      "          it       1.00      1.00      1.00         2\n",
      "        just       1.00      1.00      1.00         7\n",
      "        like       1.00      1.00      1.00         6\n",
      "        love       1.00      1.00      1.00         4\n",
      "       nasty       1.00      1.00      1.00         5\n",
      "        need       1.00      1.00      1.00         6\n",
      "        nice       1.00      1.00      1.00         5\n",
      "          no       1.00      1.00      1.00         8\n",
      "     nothing       1.00      1.00      1.00         6\n",
      "        okay       1.00      1.00      1.00         8\n",
      "     perfect       1.00      1.00      1.00         9\n",
      "      pretty       1.00      1.00      1.00         9\n",
      "      really       1.00      1.00      1.00         5\n",
      "        sexy       1.00      1.00      1.00         2\n",
      "        shit       1.00      1.00      1.00         2\n",
      "        slow       1.00      1.00      1.00         5\n",
      "      smooth       1.00      1.00      1.00         6\n",
      "          so       1.00      1.00      1.00         4\n",
      "       super       1.00      1.00      1.00         7\n",
      "       sweet       1.00      1.00      1.00         5\n",
      "       tasty       1.00      1.00      1.00         8\n",
      "         too       1.00      1.00      1.00         1\n",
      "         ugh       1.00      1.00      1.00         4\n",
      "        very       1.00      1.00      1.00         6\n",
      "       waste       1.00      1.00      1.00         5\n",
      "         way       1.00      1.00      1.00         6\n",
      "         woo       0.67      1.00      0.80         2\n",
      "       worse       1.00      1.00      1.00         6\n",
      "         wow       0.00      0.00      0.00         1\n",
      "         yes       1.00      1.00      1.00         3\n",
      "       yummy       1.00      1.00      1.00         6\n",
      "\n",
      "    accuracy                           1.00       311\n",
      "   macro avg       0.97      0.98      0.98       311\n",
      "weighted avg       0.99      1.00      1.00       311\n",
      "\n",
      "Confusion Matrix:\n",
      " [[ 7  0  0 ...  0  0  0]\n",
      " [ 0 12  0 ...  0  0  0]\n",
      " [ 0  0 11 ...  0  0  0]\n",
      " ...\n",
      " [ 0  0  0 ...  0  0  0]\n",
      " [ 0  0  0 ...  0  3  0]\n",
      " [ 0  0  0 ...  0  0  6]]\n",
      "Accuracy Score: 0.9967845659163987\n"
     ]
    },
    {
     "name": "stderr",
     "output_type": "stream",
     "text": [
      "C:\\Users\\disur\\anaconda3\\envs\\base_clone\\lib\\site-packages\\sklearn\\neighbors\\_classification.py:228: FutureWarning: Unlike other reduction functions (e.g. `skew`, `kurtosis`), the default behavior of `mode` typically preserves the axis it acts along. In SciPy 1.11.0, this behavior will change: the default value of `keepdims` will become False, the `axis` over which the statistic is taken will be eliminated, and the value None will no longer be accepted. Set `keepdims` to True or False to avoid this warning.\n",
      "  mode, _ = stats.mode(_y[neigh_ind, k], axis=1)\n",
      "C:\\Users\\disur\\anaconda3\\envs\\base_clone\\lib\\site-packages\\sklearn\\metrics\\_classification.py:1318: UndefinedMetricWarning: Precision and F-score are ill-defined and being set to 0.0 in labels with no predicted samples. Use `zero_division` parameter to control this behavior.\n",
      "  _warn_prf(average, modifier, msg_start, len(result))\n",
      "C:\\Users\\disur\\anaconda3\\envs\\base_clone\\lib\\site-packages\\sklearn\\metrics\\_classification.py:1318: UndefinedMetricWarning: Precision and F-score are ill-defined and being set to 0.0 in labels with no predicted samples. Use `zero_division` parameter to control this behavior.\n",
      "  _warn_prf(average, modifier, msg_start, len(result))\n",
      "C:\\Users\\disur\\anaconda3\\envs\\base_clone\\lib\\site-packages\\sklearn\\metrics\\_classification.py:1318: UndefinedMetricWarning: Precision and F-score are ill-defined and being set to 0.0 in labels with no predicted samples. Use `zero_division` parameter to control this behavior.\n",
      "  _warn_prf(average, modifier, msg_start, len(result))\n"
     ]
    }
   ],
   "source": [
    "from sklearn.feature_extraction.text import CountVectorizer, TfidfTransformer\n",
    "from sklearn.model_selection import train_test_split, GridSearchCV\n",
    "from sklearn.pipeline import Pipeline\n",
    "from sklearn.metrics import classification_report, confusion_matrix, accuracy_score\n",
    "from sklearn.naive_bayes import MultinomialNB\n",
    "from sklearn.tree import DecisionTreeClassifier\n",
    "from sklearn.ensemble import RandomForestClassifier\n",
    "from sklearn.svm import SVC\n",
    "from sklearn.neighbors import KNeighborsClassifier\n",
    "from sklearn.ensemble import VotingClassifier\n",
    "\n",
    "# define the pipeline for each individual classifier\n",
    "nb_pipeline = Pipeline([\n",
    "    ('vect', CountVectorizer(analyzer='char')),\n",
    "    ('tfidf', TfidfTransformer()),\n",
    "    ('clf', MultinomialNB())\n",
    "])\n",
    "\n",
    "dt_pipeline = Pipeline([\n",
    "    ('vect', CountVectorizer(analyzer='char')),\n",
    "    ('tfidf', TfidfTransformer()),\n",
    "    ('clf', DecisionTreeClassifier())\n",
    "])\n",
    "\n",
    "rf_pipeline = Pipeline([\n",
    "    ('vect', CountVectorizer(analyzer='char')),\n",
    "    ('tfidf', TfidfTransformer()),\n",
    "    ('clf', RandomForestClassifier())\n",
    "])\n",
    "\n",
    "svc_pipeline = Pipeline([\n",
    "    ('vect', CountVectorizer(analyzer='char')),\n",
    "    ('tfidf', TfidfTransformer()),\n",
    "    ('clf', SVC())\n",
    "])\n",
    "\n",
    "knn_pipeline = Pipeline([\n",
    "    ('vect', CountVectorizer(analyzer='char')),\n",
    "    ('tfidf', TfidfTransformer()),\n",
    "    ('clf', KNeighborsClassifier())\n",
    "])\n",
    "\n",
    "# define the ensemble classifier that combines the predictions of the individual classifiers\n",
    "ensemble = VotingClassifier(estimators=[\n",
    "    ('nb', nb_pipeline),\n",
    "    ('dt', dt_pipeline),\n",
    "    ('rf', rf_pipeline),\n",
    "    ('svc', svc_pipeline),\n",
    "    ('knn', knn_pipeline)\n",
    "], voting='hard')\n",
    "\n",
    "# split the data into training and testing sets\n",
    "X_train, X_test, y_train, y_test = train_test_split(df['emphasized'], df['actual'], test_size=0.1, random_state=42)\n",
    "\n",
    "# train the ensemble classifier on the training data\n",
    "ensemble.fit(X_train, y_train)\n",
    "\n",
    "# use the ensemble classifier to predict the actual words for the test data\n",
    "y_pred = ensemble.predict(X_test)\n",
    "\n",
    "# print the classification report, confusion matrix, and accuracy score\n",
    "print(\"Classification Report:\\n\", classification_report(y_test, y_pred))\n",
    "print(\"Confusion Matrix:\\n\", confusion_matrix(y_test, y_pred))\n",
    "print(\"Accuracy Score:\", accuracy_score(y_test, y_pred))"
   ],
   "metadata": {
    "collapsed": false,
    "ExecuteTime": {
     "start_time": "2023-04-23T23:00:09.847425Z",
     "end_time": "2023-04-23T23:00:10.519235Z"
    }
   }
  },
  {
   "cell_type": "code",
   "execution_count": 43,
   "outputs": [
    {
     "name": "stderr",
     "output_type": "stream",
     "text": [
      "C:\\Users\\disur\\anaconda3\\envs\\base_clone\\lib\\site-packages\\sklearn\\neighbors\\_classification.py:228: FutureWarning: Unlike other reduction functions (e.g. `skew`, `kurtosis`), the default behavior of `mode` typically preserves the axis it acts along. In SciPy 1.11.0, this behavior will change: the default value of `keepdims` will become False, the `axis` over which the statistic is taken will be eliminated, and the value None will no longer be accepted. Set `keepdims` to True or False to avoid this warning.\n",
      "  mode, _ = stats.mode(_y[neigh_ind, k], axis=1)\n"
     ]
    },
    {
     "data": {
      "text/plain": "'waste'"
     },
     "execution_count": 43,
     "metadata": {},
     "output_type": "execute_result"
    }
   ],
   "source": [
    "ensemble.predict([\"waay\"])[0]\n",
    "\n",
    "import pickle\n",
    "with open('model_ensemble_v1.pkl', 'wb') as file:\n",
    "    pickle.dump(ensemble, file)\n",
    "\n",
    "with open('model_ensemble_v1.pkl', 'rb') as file:\n",
    "    model = pickle.load(file)\n",
    "\n"
   ],
   "metadata": {
    "collapsed": false,
    "ExecuteTime": {
     "start_time": "2023-04-23T23:02:06.907270Z",
     "end_time": "2023-04-23T23:02:06.970608Z"
    }
   }
  },
  {
   "cell_type": "code",
   "execution_count": 49,
   "outputs": [],
   "source": [
    "\n",
    "with open('model_v9.pkl', 'rb') as file:\n",
    "    model_normal = pickle.load(file)\n"
   ],
   "metadata": {
    "collapsed": false,
    "ExecuteTime": {
     "start_time": "2023-04-23T23:09:12.316400Z",
     "end_time": "2023-04-23T23:09:12.347272Z"
    }
   }
  },
  {
   "cell_type": "code",
   "execution_count": 52,
   "outputs": [
    {
     "data": {
      "text/plain": "'fuck'"
     },
     "execution_count": 52,
     "metadata": {},
     "output_type": "execute_result"
    }
   ],
   "source": [
    "# model.predict([\"perfect\"])[0]\n",
    "model_normal.predict([\"f****k\"])[0]"
   ],
   "metadata": {
    "collapsed": false,
    "ExecuteTime": {
     "start_time": "2023-04-23T23:10:19.271822Z",
     "end_time": "2023-04-23T23:10:19.301823Z"
    }
   }
  },
  {
   "cell_type": "code",
   "execution_count": 92,
   "outputs": [],
   "source": [
    "import pickle\n",
    "with open('model_v2.pkl', 'wb') as file:\n",
    "    pickle.dump(best_model, file)"
   ],
   "metadata": {
    "collapsed": false,
    "ExecuteTime": {
     "start_time": "2023-04-10T21:58:23.454528Z",
     "end_time": "2023-04-10T21:58:23.483658Z"
    }
   }
  }
 ],
 "metadata": {
  "kernelspec": {
   "display_name": "Python 3",
   "language": "python",
   "name": "python3"
  },
  "language_info": {
   "codemirror_mode": {
    "name": "ipython",
    "version": 2
   },
   "file_extension": ".py",
   "mimetype": "text/x-python",
   "name": "python",
   "nbconvert_exporter": "python",
   "pygments_lexer": "ipython2",
   "version": "2.7.6"
  }
 },
 "nbformat": 4,
 "nbformat_minor": 0
}
