{
 "cells": [
  {
   "cell_type": "code",
   "execution_count": null,
   "metadata": {
    "collapsed": true
   },
   "outputs": [],
   "source": [
    "for (int i=0; i<n-1; i++)       //iteration through unsorted elements\n",
    "        {\n",
    "            if (arr[i] > arr[i+1])      //check if the elements are in order\n",
    "            {                           //if not, swap them\n",
    "                int temp = arr[i];\n",
    "                arr[i] = arr[i+1];\n",
    "                arr[i+1] = temp;\n",
    "            }\n",
    "        }\n",
    "\n"
   ]
  },
  {
   "cell_type": "code",
   "execution_count": 9,
   "outputs": [
    {
     "data": {
      "text/plain": "[100, 40, 200, 300, 20, 500, 10]"
     },
     "execution_count": 9,
     "metadata": {},
     "output_type": "execute_result"
    }
   ],
   "source": [
    "arr = [100, 40, 200, 300, 20, 500, 10]\n",
    "\n",
    "# if (n == 1)                     //passes are done\n",
    "#         {\n",
    "#             return;\n",
    "#         }\n",
    "#\n",
    "#         for (int i=0; i<n-1; i++)       //iteration through unsorted elements\n",
    "#         {\n",
    "#             if (arr[i] > arr[i+1])      //check if the elements are in order\n",
    "#             {                           //if not, swap them\n",
    "#                 int temp = arr[i];\n",
    "#                 arr[i] = arr[i+1];\n",
    "#                 arr[i+1] = temp;\n",
    "#             }\n",
    "#         }\n",
    "\n",
    "def sort(arr, length):\n",
    "    if length == 1:\n",
    "        return\n",
    "    for i in range (0, length - 1):\n",
    "        if arr[i] > arr[i+1]:\n",
    "            tmp = arr[i]\n",
    "            arr[i] = arr[i+1]\n",
    "            arr[i+1] = tmp\n",
    "    sort(arr, length - 1);\n",
    "\n",
    "arr"
   ],
   "metadata": {
    "collapsed": false,
    "ExecuteTime": {
     "start_time": "2023-04-11T10:27:30.873771Z",
     "end_time": "2023-04-11T10:27:30.898362Z"
    }
   }
  }
 ],
 "metadata": {
  "kernelspec": {
   "display_name": "Python 3",
   "language": "python",
   "name": "python3"
  },
  "language_info": {
   "codemirror_mode": {
    "name": "ipython",
    "version": 2
   },
   "file_extension": ".py",
   "mimetype": "text/x-python",
   "name": "python",
   "nbconvert_exporter": "python",
   "pygments_lexer": "ipython2",
   "version": "2.7.6"
  }
 },
 "nbformat": 4,
 "nbformat_minor": 0
}
